{
 "cells": [
  {
   "cell_type": "markdown",
   "metadata": {
    "slideshow": {
     "slide_type": "slide"
    }
   },
   "source": [
    "<div style=\"color:white;\n",
    "           display:fill;\n",
    "           border-radius:5px;\n",
    "           background-color:#5642C5;\n",
    "           font-size:200%;\n",
    "           font-family:Arial;letter-spacing:0.5px\">\n",
    "\n",
    "<p width = 20%, style=\"padding: 10px;\n",
    "              color:white;\">\n",
    "Coffee Recommandation\n",
    "              \n",
    "</p>\n",
    "</div>\n",
    "\n",
    "Data Science capstone project\n",
    "<p>Qilun</p>\n",
    "<br>\n",
    "<br>\n",
    "\n",
    "<div align = \"right\">\n",
    "<img src=\"Images/flatiron-school-logo.png\" align = \"right\" width=\"200\"/>\n",
    "</div>"
   ]
  },
  {
   "cell_type": "markdown",
   "metadata": {
    "slideshow": {
     "slide_type": "slide"
    }
   },
   "source": [
    "<div style=\"color:white;\n",
    "           display:fill;\n",
    "           border-radius:5px;\n",
    "           background-color:#5642C5;\n",
    "           font-size:200%;\n",
    "           font-family:Arial;letter-spacing:0.5px\">\n",
    "\n",
    "<p width = 20%, style=\"padding: 10px;\n",
    "              color:white;\">\n",
    "Business Problem\n",
    "              \n",
    "</p>"
   ]
  },
  {
   "cell_type": "markdown",
   "metadata": {},
   "source": [
    "Giving recommendation to coffee drinker. Baker or bartender wants explore coffee for their new products."
   ]
  },
  {
   "cell_type": "markdown",
   "metadata": {
    "slideshow": {
     "slide_type": "slide"
    }
   },
   "source": [
    "<div style=\"color:white;\n",
    "           display:fill;\n",
    "           border-radius:5px;\n",
    "           background-color:#5642C5;\n",
    "           font-size:200%;\n",
    "           font-family:Arial;letter-spacing:0.5px\">\n",
    "\n",
    "<p width = 20%, style=\"padding: 10px;\n",
    "              color:white;\">\n",
    "Data understanding\n",
    "              \n",
    "</p>\n",
    "</div>"
   ]
  },
  {
   "cell_type": "markdown",
   "metadata": {},
   "source": [
    "1) coffee_score is number. The range is 0-100. higher is better.<br>\n",
    "2) coffee_roaster_name is string. factory name.<br>\n",
    "3) coffee_bean_name is string. coffe bean name.<br>\n",
    "4) roaster_location is string. factory location.<br>\n",
    "5) coffee_origin is string. coffee beans from which country.<br>\n",
    "6) roast_level is string. different level of roast.<br>\n",
    "7) agtron is number. number of roast level.<br>\n",
    "8) estimate_price is number. the units are USD/6OZ<br>\n",
    "9) review_date is day. The day wrote the review.<br>\n",
    "10) aroma is number. The range is 0-10. higher number mean the smell of coffee beans is better.<br>\n",
    "11) acidity_or_structure is number. The range is 0-10. higher number mean the coffee test is sour.<br>\n",
    "12) body is number. The range is 0-10. higher number mean the mouthfeel is better.<br>\n",
    "13) flavor is number. The range is 0-10. higher number mean strong flavor.<br>\n",
    "14) aftertaste is number. The range is 0-10. higher number mean better aftertaste.<br>\n",
    "15) blind assessment is string. Comments about the coffee base on touch, smell, sight, and hearing.<br>\n",
    "16) notes is string. All comments about the coffee base on the roaster.<br>\n",
    "17) bottom line is string. Comments about the coffee base on taste.<br>"
   ]
  },
  {
   "cell_type": "markdown",
   "metadata": {
    "slideshow": {
     "slide_type": "subslide"
    }
   },
   "source": [
    "Feature engineering"
   ]
  },
  {
   "cell_type": "code",
   "execution_count": null,
   "metadata": {
    "slideshow": {
     "slide_type": "fragment"
    }
   },
   "outputs": [],
   "source": [
    "cleaned_df['bean_type'].loc[cleaned_df['notes'].str.contains(\"Arabica\")] = \"arabica\""
   ]
  },
  {
   "cell_type": "code",
   "execution_count": null,
   "metadata": {
    "slideshow": {
     "slide_type": "fragment"
    }
   },
   "outputs": [],
   "source": [
    "cleaned_df['estimate_price_USD'] = cleaned_df['estimate_price'].map(lambda x: x.split('.')[0])\n",
    "cleaned_df['estimate_price_ounces'] = cleaned_df['estimate_price'].map(lambda x: x.split('/')[1])\n",
    "cleaned_df['estimate_price_USD_per_6ounces'] = round((cleaned_df[\"estimate_price_USD\"] / cleaned_df[\"estimate_price_ounces\"])*6, 2)"
   ]
  },
  {
   "cell_type": "code",
   "execution_count": null,
   "metadata": {
    "slideshow": {
     "slide_type": "fragment"
    }
   },
   "outputs": [],
   "source": [
    "cleaned_df['best_value'] = round(cleaned_df['coffee_score'] / cleaned_df['estimate_price_USD_per_6ounces'], 2)"
   ]
  },
  {
   "cell_type": "markdown",
   "metadata": {
    "slideshow": {
     "slide_type": "subslide"
    }
   },
   "source": [
    "NLP"
   ]
  },
  {
   "cell_type": "code",
   "execution_count": null,
   "metadata": {
    "slideshow": {
     "slide_type": "fragment"
    }
   },
   "outputs": [],
   "source": [
    "coffee_flavor_wheel_first_layer=['floral', 'fruity', 'sour','fermented', 'green','vegetative', 'other', 'roasted', 'spices', 'nutty','cocoa', 'sweet']\n",
    "coffee_flavor_wheel_second_layer=['black','tea', 'floral', 'berry', 'dried','fruit', 'citrus','fruit', 'sour', 'alcohol','fermented', 'olive','oil', 'raw'\\\n",
    "    , 'green','vegetative', 'beany', 'papery','musty', 'chemical', 'pipetobacco', 'tobacco', 'burnt', 'cereal', 'pungent', 'pepper',\\\n",
    "         'brown','spice', 'nutty', 'cocoa', 'brown','sugar', 'vanilla', 'vanillin', 'overall','sweet', 'sweet','aromatics']\n",
    "coffee_flavor_wheel_third_layer=['chamomile', 'rose', 'jasmine', 'blackberry', 'raspberry', 'blueberry', 'strawberry', 'raisin', 'prune', 'coconut', 'cherry',\\\n",
    "'pomegranate', 'pineapple', 'grape', 'apple', 'peach', 'pear', 'grapefruit', 'orange', 'lemon', 'lime', 'sour','aromatics', 'acetic','acid', 'butyric','acid', 'critric','acid',\\\n",
    "'malic','acid', 'winey', 'whisley', 'fermented', 'overripe', 'under','ripe', 'peapod', 'fresh', 'dark','green', 'vegetative', 'hay','like', 'herb','like', 'stable', 'cardboard',\\\n",
    "'papery', 'woody', 'moldy','damp', 'musty','dusty', 'musty','earthy', 'animalic', 'meaty','brothy', 'phenolic', 'bitter', 'salty', 'medicinal', 'petroleum', 'skunky', 'rubber',\\\n",
    "'acrid', 'ashy', 'smoky', 'brown', 'grain', 'malt', 'anise', 'nutmeg', 'cinnamon', 'clove', 'peanuts', 'hazelnut', 'almond', 'chocolate', 'dark','chocolate', 'molasses', 'mapple','syrup', 'caramelized', 'honey']\n",
    "coffee_flavor_wheel_whole = coffee_flavor_wheel_first_layer + coffee_flavor_wheel_second_layer+coffee_flavor_wheel_third_layer"
   ]
  },
  {
   "cell_type": "code",
   "execution_count": null,
   "metadata": {
    "slideshow": {
     "slide_type": "fragment"
    }
   },
   "outputs": [],
   "source": [
    "def preprocess_text(text, tokenizer, stopwords_list, stemmer):\n",
    "    # Standardize case (lowercase the text)\n",
    "    # your code here\n",
    "    text = text.lower()\n",
    "    \n",
    "    # Tokenize text using `tokenizer`\n",
    "    # your code here\n",
    "    tokens = tokenizer.tokenize(text)\n",
    "    \n",
    "    # Remove stopwords using `stopwords_list`\n",
    "    # your code here\n",
    "    stopwords = [word for word in tokens if word not in stopwords_list]\n",
    "    \n",
    "    # Stem the tokenized text using `stemmer`\n",
    "    # your code here\n",
    "    preprocess = [stemmer.lemmatize(word)for word in stopwords]\n",
    "    \n",
    "    # Return the preprocessed text\n",
    "    # your code here\n",
    "    return preprocess\n",
    "\n",
    "preprocess_text(\"This is an example sentence for preprocessing.\", tokenizer, stopwords_list, stemmer)"
   ]
  },
  {
   "cell_type": "code",
   "execution_count": null,
   "metadata": {
    "slideshow": {
     "slide_type": "fragment"
    }
   },
   "outputs": [],
   "source": [
    "cleaned_df[\"preprocessed_blind_assessment\"] = cleaned_df[\"blind_assessment\"].apply(lambda x: preprocess_text(x, tokenizer, stopwords_list, stemmer))\n",
    "cleaned_df[\"preprocessed_bottom_line\"] = cleaned_df[\"bottom_line\"].apply(lambda x: preprocess_text(x, tokenizer, stopwords_list, stemmer))"
   ]
  },
  {
   "cell_type": "code",
   "execution_count": null,
   "metadata": {
    "slideshow": {
     "slide_type": "subslide"
    }
   },
   "outputs": [],
   "source": [
    "tokenlize"
   ]
  },
  {
   "cell_type": "code",
   "execution_count": null,
   "metadata": {},
   "outputs": [],
   "source": [
    "def find_flavor(text, flvorList, stemmer):\n",
    "    \n",
    "    # Remove stopwords using `stopwords_list`\n",
    "    # your code here\n",
    "    preprocess = [stemmer.lemmatize(word)for word in flvorList]\n",
    "\n",
    "    flavor = [word for word in text if word in preprocess]\n",
    "    \n",
    "    \n",
    "    # Return the preprocessed text\n",
    "    # your code here\n",
    "    return flavor"
   ]
  },
  {
   "cell_type": "code",
   "execution_count": null,
   "metadata": {
    "slideshow": {
     "slide_type": "fragment"
    }
   },
   "outputs": [],
   "source": [
    "cleaned_df['preprocessed_comment'] = cleaned_df[\"preprocessed_blind_assessment\"] + cleaned_df[\"preprocessed_bottom_line\"]\n",
    "cleaned_df['taste_like'] =  cleaned_df[\"preprocessed_comment\"].apply(lambda x: find_flavor(x, coffee_flavor_wheel_whole, stemmer))"
   ]
  },
  {
   "cell_type": "markdown",
   "metadata": {
    "slideshow": {
     "slide_type": "slide"
    }
   },
   "source": [
    "<div style=\"color:white;\n",
    "           display:fill;\n",
    "           border-radius:5px;\n",
    "           background-color:#5642C5;\n",
    "           font-size:200%;\n",
    "           font-family:Arial;letter-spacing:0.5px\">\n",
    "\n",
    "<p width = 20%, style=\"padding: 10px;\n",
    "              color:white;\">\n",
    "Exploratory Data Analysis (EDA)\n",
    "              \n",
    "</p>\n",
    "</div>"
   ]
  },
  {
   "cell_type": "code",
   "execution_count": null,
   "metadata": {},
   "outputs": [],
   "source": [
    "import pandas as pd\n",
    "import seaborn as sns\n",
    "import numpy as np\n",
    "from copy import deepcopy\n",
    "\n",
    "#visualization packages\n",
    "import seaborn as sns\n",
    "import matplotlib.pyplot as plt\n",
    "\n",
    "# NLP modules we will use for text normalization\n",
    "import re #regex \n",
    "import nltk # the natural language toolkit\n",
    "from nltk.tokenize import word_tokenize\n",
    "from nltk import WordNetLemmatizer\n",
    "from nltk.corpus import stopwords\n",
    "from nltk.corpus import wordnet\n",
    "from nltk import pos_tag\n",
    "\n",
    "# feature construction\n",
    "from sklearn.feature_extraction.text import TfidfVectorizer #use this to create BoW matrix\n",
    "\n",
    "from mpl_toolkits.mplot3d import Axes3D\n",
    "%matplotlib inline\n",
    "from sklearn.manifold import TSNE\n",
    "import nltk\n",
    "nltk.download('punkt')\n",
    "np.random.seed(0)\n",
    "#Common Model Algorithms\n",
    "from sklearn import svm, tree, linear_model, neighbors, naive_bayes, ensemble, discriminant_analysis, gaussian_process\n",
    "from xgboost import XGBClassifier\n",
    "\n",
    "#Common Model Helpers\n",
    "from sklearn.preprocessing import OneHotEncoder, LabelEncoder\n",
    "from sklearn import feature_selection\n",
    "from sklearn import model_selection\n",
    "from sklearn import metrics\n",
    "\n",
    "#Visualization\n",
    "import matplotlib as mpl\n",
    "import matplotlib.pylab as pylab\n",
    "\n",
    "#Configure Visualization Defaults\n",
    "#%matplotlib inline = show plots in Jupyter Notebook browser\n",
    "%matplotlib inline\n",
    "mpl.style.use('ggplot')\n",
    "sns.set_style('white')\n",
    "\n",
    "#modeling and dimensionality reduction for visuaization\n",
    "from sklearn.decomposition import NMF\n",
    "from sklearn.manifold import TSNE\n",
    "\n",
    "from nltk.tokenize import RegexpTokenizer\n",
    "from nltk.corpus import stopwords\n",
    "from nltk.stem import PorterStemmer\n",
    "import nltk\n",
    "from nltk.stem.wordnet import WordNetLemmatizer\n",
    "nltk.download('stopwords')\n",
    "nltk.download('wordnet')\n",
    "\n",
    "import matplotlib.pyplot as plt\n",
    "import seaborn as sns\n",
    "\n",
    "from sklearn.model_selection import train_test_split\n",
    "from sklearn.feature_extraction.text import CountVectorizer\n",
    "from sklearn.tree import DecisionTreeClassifier\n",
    "from sklearn.metrics import plot_confusion_matrix\n",
    "from statsmodels.formula.api import ols\n",
    "\n",
    "import ipywidgets as widgets\n",
    "from IPython.display import display\n",
    "from ipywidgets import GridspecLayout\n",
    "import ipywidgets as widgets\n",
    "from ipywidgets import interact, interact_manual\n",
    "import warnings\n",
    "warnings.filterwarnings('ignore')\n",
    "from surprise.model_selection import cross_validate\n",
    "from surprise.prediction_algorithms import SVD\n",
    "from surprise.prediction_algorithms import KNNWithMeans, KNNBasic, KNNBaseline\n",
    "from surprise.model_selection import GridSearchCV\n",
    "import numpy as np"
   ]
  },
  {
   "cell_type": "markdown",
   "metadata": {},
   "source": [
    "<div style=\"color:white;\n",
    "           display:fill;\n",
    "           border-radius:5px;\n",
    "           background-color:#5642C5;\n",
    "           font-size:200%;\n",
    "           font-family:Arial;letter-spacing:0.5px\">\n",
    "\n",
    "<p width = 20%, style=\"padding: 10px;\n",
    "              color:white;\">\n",
    "Model Data\n",
    "              \n",
    "</p>"
   ]
  },
  {
   "cell_type": "markdown",
   "metadata": {
    "slideshow": {
     "slide_type": "slide"
    }
   },
   "source": [
    "<div style=\"color:white;\n",
    "           display:fill;\n",
    "           border-radius:5px;\n",
    "           background-color:#5642C5;\n",
    "           font-size:200%;\n",
    "           font-family:Arial;letter-spacing:0.5px\">\n",
    "\n",
    "<p width = 20%, style=\"padding: 10px;\n",
    "              color:white;\">\n",
    "Application\n",
    "              \n",
    "</p>\n",
    "</div>"
   ]
  },
  {
   "cell_type": "code",
   "execution_count": 16,
   "metadata": {
    "slideshow": {
     "slide_type": "fragment"
    }
   },
   "outputs": [
    {
     "ename": "NameError",
     "evalue": "name 'interact' is not defined",
     "output_type": "error",
     "traceback": [
      "\u001b[0;31m---------------------------------------------------------------------------\u001b[0m",
      "\u001b[0;31mNameError\u001b[0m                                 Traceback (most recent call last)",
      "\u001b[0;32m<ipython-input-16-0118149fdaca>\u001b[0m in \u001b[0;36m<module>\u001b[0;34m\u001b[0m\n\u001b[0;32m----> 1\u001b[0;31m \u001b[0;34m@\u001b[0m\u001b[0minteract\u001b[0m\u001b[0;34m\u001b[0m\u001b[0;34m\u001b[0m\u001b[0m\n\u001b[0m\u001b[1;32m      2\u001b[0m def show_articles_more_than(a=aroma_widget, b=acidity_or_structure_widget,c=body_widget,d=aftertaste_widget,\\\n\u001b[1;32m      3\u001b[0m      e=flavor_widget,f=price_widget,g=taste_like_widget, sort_by='coffee_score'):\n\u001b[1;32m      4\u001b[0m     \u001b[0mdf\u001b[0m \u001b[0;34m=\u001b[0m \u001b[0mcleaned_df\u001b[0m\u001b[0;34m.\u001b[0m\u001b[0mcopy\u001b[0m\u001b[0;34m(\u001b[0m\u001b[0;34m)\u001b[0m\u001b[0;34m\u001b[0m\u001b[0;34m\u001b[0m\u001b[0m\n\u001b[1;32m      5\u001b[0m \u001b[0;34m\u001b[0m\u001b[0m\n",
      "\u001b[0;31mNameError\u001b[0m: name 'interact' is not defined"
     ]
    }
   ],
   "source": [
    "@interact\n",
    "def show_articles_more_than(a=aroma_widget, b=acidity_or_structure_widget,c=body_widget,d=aftertaste_widget,\\\n",
    "     e=flavor_widget,f=price_widget,g=taste_like_widget, sort_by='coffee_score'):\n",
    "    df = cleaned_df.copy()\n",
    "\n",
    "    df = df.loc[df['aroma']<=max(a)]\n",
    "    df = df.loc[df['aroma']>=min(a)]\n",
    "\n",
    "    df = df.loc[df['acidity_or_structure']<=max(b)]\n",
    "    df = df.loc[df['acidity_or_structure']>=min(b)]\n",
    "\n",
    "    df = df.loc[df['body']<=max(c)]\n",
    "    df = df.loc[df['body']>=min(c)]\n",
    "\n",
    "    df = df.loc[df['aftertaste']<=max(d)]\n",
    "    df = df.loc[df['aftertaste']>=min(d)]\n",
    "\n",
    "    df = df.loc[df['flavor']<=max(e)]\n",
    "    df = df.loc[df['flavor']>=min(e)]\n",
    "    \n",
    "    df = df.loc[df['estimate_price_USD_per_6ounces']<=max(f)]\n",
    "    df = df.loc[df['estimate_price_USD_per_6ounces']>=min(f)]\n",
    "\n",
    "    cleaned_df[\"taste_like_number\"] = cleaned_df[\"taste_like\"].map(lambda x: [word for word in x if word in g])\n",
    "    cleaned_df[\"taste_like_number\"] = cleaned_df[\"taste_like_number\"].map(lambda x: len(x))\n",
    "    df = df.loc[df['taste_like_number']==len(g)]\n",
    "\n",
    "    df = df.sort_values(sort_by,ascending=False)\n",
    "    columns = ['coffee_score','coffee_bean_name','roast_level','estimate_price_USD_per_6ounces','taste_like']\n",
    "    return df[columns]"
   ]
  },
  {
   "cell_type": "markdown",
   "metadata": {
    "slideshow": {
     "slide_type": "slide"
    }
   },
   "source": [
    "<div style=\"color:white;\n",
    "           display:fill;\n",
    "           border-radius:5px;\n",
    "           background-color:#5642C5;\n",
    "           font-size:200%;\n",
    "           font-family:Arial;letter-spacing:0.5px\">\n",
    "\n",
    "<p width = 20%, style=\"padding: 10px;\n",
    "              color:white;\">\n",
    "Optimize and Strategize\n",
    "              \n",
    "</p>"
   ]
  },
  {
   "cell_type": "markdown",
   "metadata": {
    "slideshow": {
     "slide_type": "fragment"
    }
   },
   "source": [
    "Next step would be creating a SVD model to let people rate the coffee bean and genarate a new recommandation base on the score."
   ]
  }
 ],
 "metadata": {
  "celltoolbar": "Slideshow",
  "kernelspec": {
   "display_name": "Python (learn-env)",
   "language": "python",
   "name": "learn-env"
  },
  "language_info": {
   "codemirror_mode": {
    "name": "ipython",
    "version": 3
   },
   "file_extension": ".py",
   "mimetype": "text/x-python",
   "name": "python",
   "nbconvert_exporter": "python",
   "pygments_lexer": "ipython3",
   "version": "3.8.5"
  }
 },
 "nbformat": 4,
 "nbformat_minor": 2
}

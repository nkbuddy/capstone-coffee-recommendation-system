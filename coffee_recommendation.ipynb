{
 "cells": [
  {
   "cell_type": "markdown",
   "metadata": {
    "slideshow": {
     "slide_type": "slide"
    }
   },
   "source": [
    "<div style=\"color:white;\n",
    "           display:fill;\n",
    "           border-radius:5px;\n",
    "           background-color:#5642C5;\n",
    "           font-size:200%;\n",
    "           font-family:Arial;letter-spacing:0.5px\">\n",
    "\n",
    "<p width = 20%, style=\"padding: 10px;\n",
    "              color:white;\">\n",
    "Coffee Recommandation\n",
    "              \n",
    "</p>\n",
    "</div>\n",
    "\n",
    "Data Science capstone project<br>\n",
    "Blog post URL:https://github.com/nkbuddy/capstone-coffee-recommendation-system\n",
    "<p>Qilun Chen</p>\n",
    "<br>\n",
    "<br>\n",
    "\n",
    "<div align = \"right\">\n",
    "<img src=\"images\\coffee_cup.png\" align = \"right\" width=\"600\"/>\n",
    "</div>"
   ]
  },
  {
   "cell_type": "markdown",
   "metadata": {
    "slideshow": {
     "slide_type": "skip"
    }
   },
   "source": [
    "### Table of Contents\n",
    "* [STEP 1: Define the Problem](#Define-the-Problem)\n",
    "* [Step 2: Gather the Data](#Gather-the-Data)\n",
    "* [Step 3: Prepare Data for Consumption](#Prepare-Data-for-Consumption)\n",
    "    * [3.1 Import Libraries](#Import-Libraries)\n",
    "        * [3.11 Load Data Modelling Libraries](#Load-Data-Modelling-Libraries)\n",
    "    * [3.2 Meet and Greet Data](#Meet-and-Greet-Data)\n",
    "        * [3.21 The 4 C's of Data Cleaning: Correcting, Completing, Creating, and Converting](#4C)\n",
    "        * [3.22 Clean Data](#Clean-Data)\n",
    "        * [3.23 Convert Formats](#Convert-Formats)\n",
    "        * [3.24 Da-Double Check Cleaned Data](#Da-Double-Check-Cleaned-Data)\n",
    "        * [3.25 Split Training and Testing Data](#Split-Training-and-Testing-Data)\n",
    "* [Step 4: Perform Exploratory Analysis with Statistics](#Perform-Exploratory-Analysis-with-Statistics)\n",
    "* [Step 5: Model Data](#Model-Data)\n",
    "    * [5.1 Evaluate Model Performance](#Evaluate-Model-Performance)\n",
    "        * [5.11 Model Performance with Cross-Validation (CV)](#CV)\n",
    "        * [5.12 Tune Model with Hyper-Parameters](#Tune-Model-with-Hyper-Parameters)\n",
    "        * [5.13 Tune Model with Feature Selection](#Tune-Model-with-Feature-Selection)\n",
    "* [Step 6: Validate and Implement](#Validate-and-Implement)\n",
    "* [STEP 7: Optimize and Strategize](#Optimize-and-Strategize)"
   ]
  },
  {
   "cell_type": "markdown",
   "metadata": {
    "slideshow": {
     "slide_type": "slide"
    }
   },
   "source": [
    "<div style=\"color:white;\n",
    "           display:fill;\n",
    "           border-radius:5px;\n",
    "           background-color:#5642C5;\n",
    "           font-size:200%;\n",
    "           font-family:Arial;letter-spacing:0.5px\">\n",
    "\n",
    "<p width = 20%, style=\"padding: 10px;\n",
    "              color:white;\">\n",
    "STEP 1: Define the Problem <a class=\"anchor\" id=\"Define-the-Problem\"></a>\n",
    "              \n",
    "</p>\n",
    "</div>"
   ]
  },
  {
   "cell_type": "markdown",
   "metadata": {
    "slideshow": {
     "slide_type": "fragment"
    }
   },
   "source": [
    "Giving recommendation to coffee lover. Baker or bartender wants explore coffee for their new products."
   ]
  },
  {
   "cell_type": "markdown",
   "metadata": {
    "slideshow": {
     "slide_type": "slide"
    }
   },
   "source": [
    "<div style=\"color:white;\n",
    "           display:fill;\n",
    "           border-radius:5px;\n",
    "           background-color:#5642C5;\n",
    "           font-size:200%;\n",
    "           font-family:Arial;letter-spacing:0.5px\">\n",
    "\n",
    "<p width = 20%, style=\"padding: 10px;\n",
    "              color:white;\">\n",
    "Step 2: Gather the Data <a class=\"anchor\" id=\"Gather-the-Data\"></a>\n",
    "              \n",
    "</p>\n",
    "</div>"
   ]
  },
  {
   "cell_type": "markdown",
   "metadata": {
    "slideshow": {
     "slide_type": "fragment"
    }
   },
   "source": [
    "<div align = \"middle\">\n",
    "<img src=\"images\\review_sample.png\" align = \"middle\" width=\"650\"/>\n",
    "</div>"
   ]
  },
  {
   "cell_type": "markdown",
   "metadata": {
    "slideshow": {
     "slide_type": "skip"
    }
   },
   "source": [
    "# Step 3: Prepare Data for Consumption <a class=\"anchor\" id=\"Prepare-Data-for-Consumption\"></a>"
   ]
  },
  {
   "cell_type": "markdown",
   "metadata": {
    "slideshow": {
     "slide_type": "skip"
    }
   },
   "source": [
    "## 3.1 Import Libraries <a class=\"anchor\" id=\"Import-Libraries\"></a>"
   ]
  },
  {
   "cell_type": "code",
   "execution_count": 1,
   "metadata": {
    "slideshow": {
     "slide_type": "skip"
    }
   },
   "outputs": [
    {
     "name": "stderr",
     "output_type": "stream",
     "text": [
      "[nltk_data] Downloading package punkt to /Users/alanchan/nltk_data...\n",
      "[nltk_data]   Unzipping tokenizers/punkt.zip.\n"
     ]
    }
   ],
   "source": [
    "import pandas as pd\n",
    "import seaborn as sns\n",
    "import numpy as np\n",
    "from copy import deepcopy\n",
    "\n",
    "#visualization packages\n",
    "import seaborn as sns\n",
    "import matplotlib.pyplot as plt\n",
    "\n",
    "# NLP modules we will use for text normalization\n",
    "import re #regex \n",
    "import nltk # the natural language toolkit\n",
    "from nltk.tokenize import word_tokenize\n",
    "from nltk import WordNetLemmatizer\n",
    "from nltk.corpus import stopwords\n",
    "from nltk.corpus import wordnet\n",
    "from nltk import pos_tag\n",
    "\n",
    "# feature construction\n",
    "from sklearn.feature_extraction.text import TfidfVectorizer #use this to create BoW matrix\n",
    "\n",
    "from mpl_toolkits.mplot3d import Axes3D\n",
    "%matplotlib inline\n",
    "from sklearn.manifold import TSNE\n",
    "import nltk\n",
    "nltk.download('punkt')\n",
    "np.random.seed(0)\n",
    "import ipywidgets as widgets\n",
    "from IPython.display import display\n",
    "from ipywidgets import GridspecLayout\n",
    "import warnings\n",
    "warnings.filterwarnings('ignore')"
   ]
  },
  {
   "cell_type": "markdown",
   "metadata": {
    "slideshow": {
     "slide_type": "skip"
    }
   },
   "source": [
    "## 3.11 Load Data Modelling Libraries <a class=\"anchor\" id=\"Load-Data-Modelling-Libraries\"></a>"
   ]
  },
  {
   "cell_type": "code",
   "execution_count": 2,
   "metadata": {
    "slideshow": {
     "slide_type": "skip"
    }
   },
   "outputs": [],
   "source": [
    "#Common Model Algorithms\n",
    "from sklearn import svm, tree, linear_model, neighbors, naive_bayes, ensemble, discriminant_analysis, gaussian_process\n",
    "from xgboost import XGBClassifier\n",
    "\n",
    "#Common Model Helpers\n",
    "from sklearn.preprocessing import OneHotEncoder, LabelEncoder\n",
    "from sklearn import feature_selection\n",
    "from sklearn import model_selection\n",
    "from sklearn import metrics\n",
    "\n",
    "#Visualization\n",
    "import matplotlib as mpl\n",
    "import matplotlib.pyplot as plt\n",
    "import matplotlib.pylab as pylab\n",
    "import seaborn as sns\n",
    "\n",
    "#Configure Visualization Defaults\n",
    "#%matplotlib inline = show plots in Jupyter Notebook browser\n",
    "%matplotlib inline\n",
    "mpl.style.use('ggplot')\n",
    "sns.set_style('white')"
   ]
  },
  {
   "cell_type": "code",
   "execution_count": 3,
   "metadata": {
    "slideshow": {
     "slide_type": "skip"
    }
   },
   "outputs": [],
   "source": [
    "#modeling and dimensionality reduction for visuaization\n",
    "from sklearn.decomposition import NMF\n",
    "from sklearn.manifold import TSNE\n",
    "from matplotlib import pyplot"
   ]
  },
  {
   "cell_type": "markdown",
   "metadata": {
    "slideshow": {
     "slide_type": "skip"
    }
   },
   "source": [
    "## 3.2 Meet and Greet Data <a class=\"anchor\" id=\"Meet-and-Greet-Data\"></a>"
   ]
  },
  {
   "cell_type": "markdown",
   "metadata": {
    "slideshow": {
     "slide_type": "skip"
    }
   },
   "source": [
    "Web scraping from coffeereview.com <br>\n",
    "1) coffee_score is number. The range is 0-100. higher is better.<br>\n",
    "2) coffee_roaster_name is string. factory name.<br>\n",
    "3) coffee_bean_name is string. coffe bean name.<br>\n",
    "4) roaster_location is string. factory location.<br>\n",
    "5) coffee_origin is string. coffee beans from which country.<br>\n",
    "6) roast_level is string. different level of roast.<br>\n",
    "7) agtron is number. number of roast level.<br>\n",
    "8) estimate_price is number. the units are USD/6OZ<br>\n",
    "9) review_date is day. The day wrote the review.<br>\n",
    "10) aroma is number. The range is 0-10. higher number mean the smell of coffee beans is better.<br>\n",
    "11) acidity_or_structure is number. The range is 0-10. higher number mean the coffee test is sour.<br>\n",
    "12) body is number. The range is 0-10. higher number mean the mouthfeel is better.<br>\n",
    "13) flavor is number. The range is 0-10. higher number mean strong flavor.<br>\n",
    "14) aftertaste is number. The range is 0-10. higher number mean better aftertaste.<br>\n",
    "15) blind assessment is string. Comments about the coffee base on touch, smell, sight, and hearing.<br>\n",
    "16) notes is string. All comments about the coffee base on the roaster.<br>\n",
    "17) bottom line is string. Comments about the coffee base on taste."
   ]
  },
  {
   "cell_type": "code",
   "execution_count": 4,
   "metadata": {
    "slideshow": {
     "slide_type": "skip"
    }
   },
   "outputs": [],
   "source": [
    "coffee_df = pd.read_csv(\"coffee_review\")"
   ]
  },
  {
   "cell_type": "code",
   "execution_count": 5,
   "metadata": {
    "slideshow": {
     "slide_type": "skip"
    }
   },
   "outputs": [
    {
     "name": "stdout",
     "output_type": "stream",
     "text": [
      "<class 'pandas.core.frame.DataFrame'>\n",
      "RangeIndex: 5748 entries, 0 to 5747\n",
      "Data columns (total 18 columns):\n",
      " #   Column                Non-Null Count  Dtype  \n",
      "---  ------                --------------  -----  \n",
      " 0   Unnamed: 0            5748 non-null   int64  \n",
      " 1   coffee_score          5748 non-null   object \n",
      " 2   coffee_roaster_name   5748 non-null   object \n",
      " 3   coffee_bean_name      5748 non-null   object \n",
      " 4   roaster_location      5746 non-null   object \n",
      " 5   coffee_origin         5236 non-null   object \n",
      " 6   roast_level           5114 non-null   object \n",
      " 7   agtron                5236 non-null   object \n",
      " 8   estimate_price        3734 non-null   object \n",
      " 9   review_date           5681 non-null   object \n",
      " 10  aroma                 5646 non-null   object \n",
      " 11  acidity_or_structure  1382 non-null   float64\n",
      " 12  body                  4919 non-null   object \n",
      " 13  flavor                4917 non-null   object \n",
      " 14  aftertaste            4280 non-null   float64\n",
      " 15  blind_assessment      5748 non-null   object \n",
      " 16  notes                 5748 non-null   object \n",
      " 17  bottom_line           1911 non-null   object \n",
      "dtypes: float64(2), int64(1), object(15)\n",
      "memory usage: 808.4+ KB\n",
      "None\n"
     ]
    }
   ],
   "source": [
    "print(coffee_df.info())"
   ]
  },
  {
   "cell_type": "code",
   "execution_count": 6,
   "metadata": {
    "slideshow": {
     "slide_type": "skip"
    }
   },
   "outputs": [
    {
     "data": {
      "text/html": [
       "<div>\n",
       "<style scoped>\n",
       "    .dataframe tbody tr th:only-of-type {\n",
       "        vertical-align: middle;\n",
       "    }\n",
       "\n",
       "    .dataframe tbody tr th {\n",
       "        vertical-align: top;\n",
       "    }\n",
       "\n",
       "    .dataframe thead th {\n",
       "        text-align: right;\n",
       "    }\n",
       "</style>\n",
       "<table border=\"1\" class=\"dataframe\">\n",
       "  <thead>\n",
       "    <tr style=\"text-align: right;\">\n",
       "      <th></th>\n",
       "      <th>Unnamed: 0</th>\n",
       "      <th>coffee_score</th>\n",
       "      <th>coffee_roaster_name</th>\n",
       "      <th>coffee_bean_name</th>\n",
       "      <th>roaster_location</th>\n",
       "      <th>coffee_origin</th>\n",
       "      <th>roast_level</th>\n",
       "      <th>agtron</th>\n",
       "      <th>estimate_price</th>\n",
       "      <th>review_date</th>\n",
       "      <th>aroma</th>\n",
       "      <th>acidity_or_structure</th>\n",
       "      <th>body</th>\n",
       "      <th>flavor</th>\n",
       "      <th>aftertaste</th>\n",
       "      <th>blind_assessment</th>\n",
       "      <th>notes</th>\n",
       "      <th>bottom_line</th>\n",
       "    </tr>\n",
       "  </thead>\n",
       "  <tbody>\n",
       "    <tr>\n",
       "      <th>0</th>\n",
       "      <td>0</td>\n",
       "      <td>94</td>\n",
       "      <td>Nostalgia Coffee Roasters</td>\n",
       "      <td>Rwanda Gatare</td>\n",
       "      <td>San Diego, California</td>\n",
       "      <td>Nyamasheke District, Western Province, Rwanda</td>\n",
       "      <td>Medium-Light</td>\n",
       "      <td>58/80</td>\n",
       "      <td>$22.00/12 ounces</td>\n",
       "      <td>May 2022</td>\n",
       "      <td>9</td>\n",
       "      <td>9.0</td>\n",
       "      <td>9\\t\\t\\t\\t\\t\\t\\t</td>\n",
       "      <td>9</td>\n",
       "      <td>8.0</td>\n",
       "      <td>Blind Assessment: Very chocolaty, rich-toned. ...</td>\n",
       "      <td>Notes: Produced by smallholding farmers surrou...</td>\n",
       "      <td>The Bottom Line: A confident, complex Rwanda c...</td>\n",
       "    </tr>\n",
       "    <tr>\n",
       "      <th>1</th>\n",
       "      <td>1</td>\n",
       "      <td>93</td>\n",
       "      <td>Yellow Brick Coffee</td>\n",
       "      <td>Guatemala ASPROCDEGUA Women Producers</td>\n",
       "      <td>Tucson, Arizona</td>\n",
       "      <td>Huehuetenango, Guatemala</td>\n",
       "      <td>Medium-Light</td>\n",
       "      <td>58/77</td>\n",
       "      <td>$18.00/12 ounces</td>\n",
       "      <td>May 2022</td>\n",
       "      <td>9</td>\n",
       "      <td>8.0</td>\n",
       "      <td>9\\t\\t\\t\\t\\t\\t\\t</td>\n",
       "      <td>9</td>\n",
       "      <td>8.0</td>\n",
       "      <td>Blind Assessment: Crisply chocolaty, nut-toned...</td>\n",
       "      <td>Notes: Produced by 664 smallholding women farm...</td>\n",
       "      <td>The Bottom Line: A balanced, inviting women-fa...</td>\n",
       "    </tr>\n",
       "    <tr>\n",
       "      <th>2</th>\n",
       "      <td>2</td>\n",
       "      <td>94</td>\n",
       "      <td>Coffee by Design</td>\n",
       "      <td>Costa Rica Naranjo Danilo Salazar Arias</td>\n",
       "      <td>Portland, Maine</td>\n",
       "      <td>Alajuela, Costa Rica</td>\n",
       "      <td>Medium-Light</td>\n",
       "      <td>60/77</td>\n",
       "      <td>$23.00/12 ounces</td>\n",
       "      <td>May 2022</td>\n",
       "      <td>9</td>\n",
       "      <td>9.0</td>\n",
       "      <td>9\\t\\t\\t\\t\\t\\t\\t</td>\n",
       "      <td>9</td>\n",
       "      <td>8.0</td>\n",
       "      <td>Blind Assessment: Bright, richly sweet-tart, f...</td>\n",
       "      <td>Notes: Produced by Danilo Salazar Arias of San...</td>\n",
       "      <td>The Bottom Line: A lively, juicy-bright natura...</td>\n",
       "    </tr>\n",
       "    <tr>\n",
       "      <th>3</th>\n",
       "      <td>3</td>\n",
       "      <td>93</td>\n",
       "      <td>Coffee by Design</td>\n",
       "      <td>Kenya Kahunyo AA</td>\n",
       "      <td>Portland, Maine</td>\n",
       "      <td>Nyeri growing region, south-central Kenya</td>\n",
       "      <td>Medium-Light</td>\n",
       "      <td>59/76</td>\n",
       "      <td>$22.00/16 ounces</td>\n",
       "      <td>May 2022</td>\n",
       "      <td>9</td>\n",
       "      <td>9.0</td>\n",
       "      <td>8\\t\\t\\t\\t\\t\\t\\t</td>\n",
       "      <td>9</td>\n",
       "      <td>8.0</td>\n",
       "      <td>Blind Assessment: Crisply sweet-savory. Date, ...</td>\n",
       "      <td>Notes: Despite grower discontent, unclear gove...</td>\n",
       "      <td>The Bottom Line:  A savory, richly Kenya cup w...</td>\n",
       "    </tr>\n",
       "    <tr>\n",
       "      <th>4</th>\n",
       "      <td>4</td>\n",
       "      <td>93</td>\n",
       "      <td>Coffee by Design</td>\n",
       "      <td>Honduras COMSA Oscar Omar Alonzo</td>\n",
       "      <td>Portland, Maine</td>\n",
       "      <td>Marcala, Honduras</td>\n",
       "      <td>Medium-Light</td>\n",
       "      <td>58/74</td>\n",
       "      <td>$18.50/12 ounces</td>\n",
       "      <td>May 2022</td>\n",
       "      <td>9</td>\n",
       "      <td>8.0</td>\n",
       "      <td>9\\t\\t\\t\\t\\t\\t\\t</td>\n",
       "      <td>9</td>\n",
       "      <td>8.0</td>\n",
       "      <td>Blind Assessment: A balanced honey-processed c...</td>\n",
       "      <td>Notes: Produced by Oscar Omar Alonzo of Finca ...</td>\n",
       "      <td>The Bottom Line: Delicately sweet-tart, deeply...</td>\n",
       "    </tr>\n",
       "  </tbody>\n",
       "</table>\n",
       "</div>"
      ],
      "text/plain": [
       "   Unnamed: 0 coffee_score        coffee_roaster_name  \\\n",
       "0           0           94  Nostalgia Coffee Roasters   \n",
       "1           1           93        Yellow Brick Coffee   \n",
       "2           2           94           Coffee by Design   \n",
       "3           3           93           Coffee by Design   \n",
       "4           4           93           Coffee by Design   \n",
       "\n",
       "                          coffee_bean_name       roaster_location  \\\n",
       "0                            Rwanda Gatare  San Diego, California   \n",
       "1    Guatemala ASPROCDEGUA Women Producers        Tucson, Arizona   \n",
       "2  Costa Rica Naranjo Danilo Salazar Arias        Portland, Maine   \n",
       "3                         Kenya Kahunyo AA        Portland, Maine   \n",
       "4         Honduras COMSA Oscar Omar Alonzo        Portland, Maine   \n",
       "\n",
       "                                   coffee_origin   roast_level agtron  \\\n",
       "0  Nyamasheke District, Western Province, Rwanda  Medium-Light  58/80   \n",
       "1                       Huehuetenango, Guatemala  Medium-Light  58/77   \n",
       "2                           Alajuela, Costa Rica  Medium-Light  60/77   \n",
       "3      Nyeri growing region, south-central Kenya  Medium-Light  59/76   \n",
       "4                              Marcala, Honduras  Medium-Light  58/74   \n",
       "\n",
       "     estimate_price review_date aroma  acidity_or_structure             body  \\\n",
       "0  $22.00/12 ounces    May 2022     9                   9.0  9\\t\\t\\t\\t\\t\\t\\t   \n",
       "1  $18.00/12 ounces    May 2022     9                   8.0  9\\t\\t\\t\\t\\t\\t\\t   \n",
       "2  $23.00/12 ounces    May 2022     9                   9.0  9\\t\\t\\t\\t\\t\\t\\t   \n",
       "3  $22.00/16 ounces    May 2022     9                   9.0  8\\t\\t\\t\\t\\t\\t\\t   \n",
       "4  $18.50/12 ounces    May 2022     9                   8.0  9\\t\\t\\t\\t\\t\\t\\t   \n",
       "\n",
       "  flavor  aftertaste                                   blind_assessment  \\\n",
       "0      9         8.0  Blind Assessment: Very chocolaty, rich-toned. ...   \n",
       "1      9         8.0  Blind Assessment: Crisply chocolaty, nut-toned...   \n",
       "2      9         8.0  Blind Assessment: Bright, richly sweet-tart, f...   \n",
       "3      9         8.0  Blind Assessment: Crisply sweet-savory. Date, ...   \n",
       "4      9         8.0  Blind Assessment: A balanced honey-processed c...   \n",
       "\n",
       "                                               notes  \\\n",
       "0  Notes: Produced by smallholding farmers surrou...   \n",
       "1  Notes: Produced by 664 smallholding women farm...   \n",
       "2  Notes: Produced by Danilo Salazar Arias of San...   \n",
       "3  Notes: Despite grower discontent, unclear gove...   \n",
       "4  Notes: Produced by Oscar Omar Alonzo of Finca ...   \n",
       "\n",
       "                                         bottom_line  \n",
       "0  The Bottom Line: A confident, complex Rwanda c...  \n",
       "1  The Bottom Line: A balanced, inviting women-fa...  \n",
       "2  The Bottom Line: A lively, juicy-bright natura...  \n",
       "3  The Bottom Line:  A savory, richly Kenya cup w...  \n",
       "4  The Bottom Line: Delicately sweet-tart, deeply...  "
      ]
     },
     "execution_count": 6,
     "metadata": {},
     "output_type": "execute_result"
    }
   ],
   "source": [
    "coffee_df.head()"
   ]
  },
  {
   "cell_type": "markdown",
   "metadata": {
    "slideshow": {
     "slide_type": "skip"
    }
   },
   "source": [
    "### 3.21 The 4 C's of Data Cleaning: Correcting, Completing, Creating, and Converting <a class=\"anchor\" id=\"4C\"></a>"
   ]
  },
  {
   "cell_type": "code",
   "execution_count": 7,
   "metadata": {
    "slideshow": {
     "slide_type": "skip"
    }
   },
   "outputs": [
    {
     "name": "stdout",
     "output_type": "stream",
     "text": [
      "columns with null values:\n",
      " Unnamed: 0                 0\n",
      "coffee_score               0\n",
      "coffee_roaster_name        0\n",
      "coffee_bean_name           0\n",
      "roaster_location           2\n",
      "coffee_origin            512\n",
      "roast_level              634\n",
      "agtron                   512\n",
      "estimate_price          2014\n",
      "review_date               67\n",
      "aroma                    102\n",
      "acidity_or_structure    4366\n",
      "body                     829\n",
      "flavor                   831\n",
      "aftertaste              1468\n",
      "blind_assessment           0\n",
      "notes                      0\n",
      "bottom_line             3837\n",
      "dtype: int64\n",
      "----------\n"
     ]
    },
    {
     "data": {
      "text/html": [
       "<div>\n",
       "<style scoped>\n",
       "    .dataframe tbody tr th:only-of-type {\n",
       "        vertical-align: middle;\n",
       "    }\n",
       "\n",
       "    .dataframe tbody tr th {\n",
       "        vertical-align: top;\n",
       "    }\n",
       "\n",
       "    .dataframe thead th {\n",
       "        text-align: right;\n",
       "    }\n",
       "</style>\n",
       "<table border=\"1\" class=\"dataframe\">\n",
       "  <thead>\n",
       "    <tr style=\"text-align: right;\">\n",
       "      <th></th>\n",
       "      <th>Unnamed: 0</th>\n",
       "      <th>coffee_score</th>\n",
       "      <th>coffee_roaster_name</th>\n",
       "      <th>coffee_bean_name</th>\n",
       "      <th>roaster_location</th>\n",
       "      <th>coffee_origin</th>\n",
       "      <th>roast_level</th>\n",
       "      <th>agtron</th>\n",
       "      <th>estimate_price</th>\n",
       "      <th>review_date</th>\n",
       "      <th>aroma</th>\n",
       "      <th>acidity_or_structure</th>\n",
       "      <th>body</th>\n",
       "      <th>flavor</th>\n",
       "      <th>aftertaste</th>\n",
       "      <th>blind_assessment</th>\n",
       "      <th>notes</th>\n",
       "      <th>bottom_line</th>\n",
       "    </tr>\n",
       "  </thead>\n",
       "  <tbody>\n",
       "    <tr>\n",
       "      <th>count</th>\n",
       "      <td>5748.000000</td>\n",
       "      <td>5748</td>\n",
       "      <td>5748</td>\n",
       "      <td>5748</td>\n",
       "      <td>5746</td>\n",
       "      <td>5236</td>\n",
       "      <td>5114</td>\n",
       "      <td>5236</td>\n",
       "      <td>3734</td>\n",
       "      <td>5681</td>\n",
       "      <td>5646</td>\n",
       "      <td>1382.000000</td>\n",
       "      <td>4919</td>\n",
       "      <td>4917</td>\n",
       "      <td>4280.000000</td>\n",
       "      <td>5748</td>\n",
       "      <td>5748</td>\n",
       "      <td>1911</td>\n",
       "    </tr>\n",
       "    <tr>\n",
       "      <th>unique</th>\n",
       "      <td>NaN</td>\n",
       "      <td>38</td>\n",
       "      <td>1128</td>\n",
       "      <td>4742</td>\n",
       "      <td>735</td>\n",
       "      <td>1786</td>\n",
       "      <td>6</td>\n",
       "      <td>1031</td>\n",
       "      <td>1068</td>\n",
       "      <td>288</td>\n",
       "      <td>35</td>\n",
       "      <td>NaN</td>\n",
       "      <td>32</td>\n",
       "      <td>40</td>\n",
       "      <td>NaN</td>\n",
       "      <td>5743</td>\n",
       "      <td>5539</td>\n",
       "      <td>1910</td>\n",
       "    </tr>\n",
       "    <tr>\n",
       "      <th>top</th>\n",
       "      <td>NaN</td>\n",
       "      <td>93</td>\n",
       "      <td>JBC Coffee Roasters</td>\n",
       "      <td>Ethiopia Yirgacheffe</td>\n",
       "      <td>Madison, Wisconsin</td>\n",
       "      <td>Not disclosed.</td>\n",
       "      <td>Medium-Light</td>\n",
       "      <td>58/76</td>\n",
       "      <td>$18.00/12 ounces</td>\n",
       "      <td>August 2020</td>\n",
       "      <td>9</td>\n",
       "      <td>NaN</td>\n",
       "      <td>8\\t\\t\\t\\t\\t\\t\\t</td>\n",
       "      <td>9</td>\n",
       "      <td>NaN</td>\n",
       "      <td>Blind Assessment: Bright but well-matrixed aci...</td>\n",
       "      <td>Notes: Keurig brewing devices were among the f...</td>\n",
       "      <td>The Bottom Line: A cocoa-toned natural-process...</td>\n",
       "    </tr>\n",
       "    <tr>\n",
       "      <th>freq</th>\n",
       "      <td>NaN</td>\n",
       "      <td>1002</td>\n",
       "      <td>302</td>\n",
       "      <td>26</td>\n",
       "      <td>326</td>\n",
       "      <td>347</td>\n",
       "      <td>2248</td>\n",
       "      <td>88</td>\n",
       "      <td>147</td>\n",
       "      <td>50</td>\n",
       "      <td>2622</td>\n",
       "      <td>NaN</td>\n",
       "      <td>2417</td>\n",
       "      <td>2699</td>\n",
       "      <td>NaN</td>\n",
       "      <td>2</td>\n",
       "      <td>7</td>\n",
       "      <td>2</td>\n",
       "    </tr>\n",
       "    <tr>\n",
       "      <th>mean</th>\n",
       "      <td>2873.500000</td>\n",
       "      <td>NaN</td>\n",
       "      <td>NaN</td>\n",
       "      <td>NaN</td>\n",
       "      <td>NaN</td>\n",
       "      <td>NaN</td>\n",
       "      <td>NaN</td>\n",
       "      <td>NaN</td>\n",
       "      <td>NaN</td>\n",
       "      <td>NaN</td>\n",
       "      <td>NaN</td>\n",
       "      <td>8.429812</td>\n",
       "      <td>NaN</td>\n",
       "      <td>NaN</td>\n",
       "      <td>7.926869</td>\n",
       "      <td>NaN</td>\n",
       "      <td>NaN</td>\n",
       "      <td>NaN</td>\n",
       "    </tr>\n",
       "    <tr>\n",
       "      <th>std</th>\n",
       "      <td>1659.449005</td>\n",
       "      <td>NaN</td>\n",
       "      <td>NaN</td>\n",
       "      <td>NaN</td>\n",
       "      <td>NaN</td>\n",
       "      <td>NaN</td>\n",
       "      <td>NaN</td>\n",
       "      <td>NaN</td>\n",
       "      <td>NaN</td>\n",
       "      <td>NaN</td>\n",
       "      <td>NaN</td>\n",
       "      <td>0.662807</td>\n",
       "      <td>NaN</td>\n",
       "      <td>NaN</td>\n",
       "      <td>0.764073</td>\n",
       "      <td>NaN</td>\n",
       "      <td>NaN</td>\n",
       "      <td>NaN</td>\n",
       "    </tr>\n",
       "    <tr>\n",
       "      <th>min</th>\n",
       "      <td>0.000000</td>\n",
       "      <td>NaN</td>\n",
       "      <td>NaN</td>\n",
       "      <td>NaN</td>\n",
       "      <td>NaN</td>\n",
       "      <td>NaN</td>\n",
       "      <td>NaN</td>\n",
       "      <td>NaN</td>\n",
       "      <td>NaN</td>\n",
       "      <td>NaN</td>\n",
       "      <td>NaN</td>\n",
       "      <td>1.000000</td>\n",
       "      <td>NaN</td>\n",
       "      <td>NaN</td>\n",
       "      <td>2.000000</td>\n",
       "      <td>NaN</td>\n",
       "      <td>NaN</td>\n",
       "      <td>NaN</td>\n",
       "    </tr>\n",
       "    <tr>\n",
       "      <th>25%</th>\n",
       "      <td>1436.750000</td>\n",
       "      <td>NaN</td>\n",
       "      <td>NaN</td>\n",
       "      <td>NaN</td>\n",
       "      <td>NaN</td>\n",
       "      <td>NaN</td>\n",
       "      <td>NaN</td>\n",
       "      <td>NaN</td>\n",
       "      <td>NaN</td>\n",
       "      <td>NaN</td>\n",
       "      <td>NaN</td>\n",
       "      <td>8.000000</td>\n",
       "      <td>NaN</td>\n",
       "      <td>NaN</td>\n",
       "      <td>8.000000</td>\n",
       "      <td>NaN</td>\n",
       "      <td>NaN</td>\n",
       "      <td>NaN</td>\n",
       "    </tr>\n",
       "    <tr>\n",
       "      <th>50%</th>\n",
       "      <td>2873.500000</td>\n",
       "      <td>NaN</td>\n",
       "      <td>NaN</td>\n",
       "      <td>NaN</td>\n",
       "      <td>NaN</td>\n",
       "      <td>NaN</td>\n",
       "      <td>NaN</td>\n",
       "      <td>NaN</td>\n",
       "      <td>NaN</td>\n",
       "      <td>NaN</td>\n",
       "      <td>NaN</td>\n",
       "      <td>8.000000</td>\n",
       "      <td>NaN</td>\n",
       "      <td>NaN</td>\n",
       "      <td>8.000000</td>\n",
       "      <td>NaN</td>\n",
       "      <td>NaN</td>\n",
       "      <td>NaN</td>\n",
       "    </tr>\n",
       "    <tr>\n",
       "      <th>75%</th>\n",
       "      <td>4310.250000</td>\n",
       "      <td>NaN</td>\n",
       "      <td>NaN</td>\n",
       "      <td>NaN</td>\n",
       "      <td>NaN</td>\n",
       "      <td>NaN</td>\n",
       "      <td>NaN</td>\n",
       "      <td>NaN</td>\n",
       "      <td>NaN</td>\n",
       "      <td>NaN</td>\n",
       "      <td>NaN</td>\n",
       "      <td>9.000000</td>\n",
       "      <td>NaN</td>\n",
       "      <td>NaN</td>\n",
       "      <td>8.000000</td>\n",
       "      <td>NaN</td>\n",
       "      <td>NaN</td>\n",
       "      <td>NaN</td>\n",
       "    </tr>\n",
       "    <tr>\n",
       "      <th>max</th>\n",
       "      <td>5747.000000</td>\n",
       "      <td>NaN</td>\n",
       "      <td>NaN</td>\n",
       "      <td>NaN</td>\n",
       "      <td>NaN</td>\n",
       "      <td>NaN</td>\n",
       "      <td>NaN</td>\n",
       "      <td>NaN</td>\n",
       "      <td>NaN</td>\n",
       "      <td>NaN</td>\n",
       "      <td>NaN</td>\n",
       "      <td>10.000000</td>\n",
       "      <td>NaN</td>\n",
       "      <td>NaN</td>\n",
       "      <td>10.000000</td>\n",
       "      <td>NaN</td>\n",
       "      <td>NaN</td>\n",
       "      <td>NaN</td>\n",
       "    </tr>\n",
       "  </tbody>\n",
       "</table>\n",
       "</div>"
      ],
      "text/plain": [
       "         Unnamed: 0 coffee_score  coffee_roaster_name      coffee_bean_name  \\\n",
       "count   5748.000000         5748                 5748                  5748   \n",
       "unique          NaN           38                 1128                  4742   \n",
       "top             NaN           93  JBC Coffee Roasters  Ethiopia Yirgacheffe   \n",
       "freq            NaN         1002                  302                    26   \n",
       "mean    2873.500000          NaN                  NaN                   NaN   \n",
       "std     1659.449005          NaN                  NaN                   NaN   \n",
       "min        0.000000          NaN                  NaN                   NaN   \n",
       "25%     1436.750000          NaN                  NaN                   NaN   \n",
       "50%     2873.500000          NaN                  NaN                   NaN   \n",
       "75%     4310.250000          NaN                  NaN                   NaN   \n",
       "max     5747.000000          NaN                  NaN                   NaN   \n",
       "\n",
       "          roaster_location   coffee_origin   roast_level agtron  \\\n",
       "count                 5746            5236          5114   5236   \n",
       "unique                 735            1786             6   1031   \n",
       "top     Madison, Wisconsin  Not disclosed.  Medium-Light  58/76   \n",
       "freq                   326             347          2248     88   \n",
       "mean                   NaN             NaN           NaN    NaN   \n",
       "std                    NaN             NaN           NaN    NaN   \n",
       "min                    NaN             NaN           NaN    NaN   \n",
       "25%                    NaN             NaN           NaN    NaN   \n",
       "50%                    NaN             NaN           NaN    NaN   \n",
       "75%                    NaN             NaN           NaN    NaN   \n",
       "max                    NaN             NaN           NaN    NaN   \n",
       "\n",
       "          estimate_price  review_date aroma  acidity_or_structure  \\\n",
       "count               3734         5681  5646           1382.000000   \n",
       "unique              1068          288    35                   NaN   \n",
       "top     $18.00/12 ounces  August 2020     9                   NaN   \n",
       "freq                 147           50  2622                   NaN   \n",
       "mean                 NaN          NaN   NaN              8.429812   \n",
       "std                  NaN          NaN   NaN              0.662807   \n",
       "min                  NaN          NaN   NaN              1.000000   \n",
       "25%                  NaN          NaN   NaN              8.000000   \n",
       "50%                  NaN          NaN   NaN              8.000000   \n",
       "75%                  NaN          NaN   NaN              9.000000   \n",
       "max                  NaN          NaN   NaN             10.000000   \n",
       "\n",
       "                   body flavor   aftertaste  \\\n",
       "count              4919   4917  4280.000000   \n",
       "unique               32     40          NaN   \n",
       "top     8\\t\\t\\t\\t\\t\\t\\t      9          NaN   \n",
       "freq               2417   2699          NaN   \n",
       "mean                NaN    NaN     7.926869   \n",
       "std                 NaN    NaN     0.764073   \n",
       "min                 NaN    NaN     2.000000   \n",
       "25%                 NaN    NaN     8.000000   \n",
       "50%                 NaN    NaN     8.000000   \n",
       "75%                 NaN    NaN     8.000000   \n",
       "max                 NaN    NaN    10.000000   \n",
       "\n",
       "                                         blind_assessment  \\\n",
       "count                                                5748   \n",
       "unique                                               5743   \n",
       "top     Blind Assessment: Bright but well-matrixed aci...   \n",
       "freq                                                    2   \n",
       "mean                                                  NaN   \n",
       "std                                                   NaN   \n",
       "min                                                   NaN   \n",
       "25%                                                   NaN   \n",
       "50%                                                   NaN   \n",
       "75%                                                   NaN   \n",
       "max                                                   NaN   \n",
       "\n",
       "                                                    notes  \\\n",
       "count                                                5748   \n",
       "unique                                               5539   \n",
       "top     Notes: Keurig brewing devices were among the f...   \n",
       "freq                                                    7   \n",
       "mean                                                  NaN   \n",
       "std                                                   NaN   \n",
       "min                                                   NaN   \n",
       "25%                                                   NaN   \n",
       "50%                                                   NaN   \n",
       "75%                                                   NaN   \n",
       "max                                                   NaN   \n",
       "\n",
       "                                              bottom_line  \n",
       "count                                                1911  \n",
       "unique                                               1910  \n",
       "top     The Bottom Line: A cocoa-toned natural-process...  \n",
       "freq                                                    2  \n",
       "mean                                                  NaN  \n",
       "std                                                   NaN  \n",
       "min                                                   NaN  \n",
       "25%                                                   NaN  \n",
       "50%                                                   NaN  \n",
       "75%                                                   NaN  \n",
       "max                                                   NaN  "
      ]
     },
     "execution_count": 7,
     "metadata": {},
     "output_type": "execute_result"
    }
   ],
   "source": [
    "print('columns with null values:\\n', coffee_df.isnull().sum())\n",
    "print(\"-\"*10)\n",
    "coffee_df.describe(include='all')"
   ]
  },
  {
   "cell_type": "markdown",
   "metadata": {
    "slideshow": {
     "slide_type": "skip"
    }
   },
   "source": [
    "### 3.22 Clean Data <a class=\"anchor\" id=\"Clean-Data\"></a>"
   ]
  },
  {
   "cell_type": "code",
   "execution_count": 8,
   "metadata": {
    "slideshow": {
     "slide_type": "skip"
    }
   },
   "outputs": [],
   "source": [
    "cleaned_df = coffee_df.dropna()"
   ]
  },
  {
   "cell_type": "code",
   "execution_count": 9,
   "metadata": {
    "slideshow": {
     "slide_type": "skip"
    }
   },
   "outputs": [],
   "source": [
    "cleaned_df.loc[:, 'coffee_score'] = cleaned_df[\"coffee_score\"].astype('int64')\n",
    "cleaned_df.loc[:, 'coffee_roaster_name'] = cleaned_df[\"coffee_roaster_name\"].astype('string')\n",
    "cleaned_df.loc[:, 'coffee_bean_name'] = cleaned_df[\"coffee_bean_name\"].astype('string')\n",
    "cleaned_df.loc[:, 'coffee_roaster_name'] = cleaned_df[\"coffee_roaster_name\"].astype('string')\n",
    "cleaned_df.loc[:, 'roaster_location'] = cleaned_df[\"roaster_location\"].astype('string')\n",
    "cleaned_df.loc[:, 'coffee_origin'] = cleaned_df[\"coffee_origin\"].astype('string')\n",
    "cleaned_df.loc[:, 'roast_level'] = cleaned_df[\"roast_level\"].astype('string')\n",
    "cleaned_df.loc[:, 'agtron'] = cleaned_df[\"agtron\"].astype('string')\n",
    "cleaned_df.loc[:, 'estimate_price'] = cleaned_df[\"estimate_price\"].astype('string')\n",
    "cleaned_df.loc[:, 'review_date'] = cleaned_df[\"review_date\"].astype('string')\n",
    "cleaned_df.loc[:, 'aroma'] = cleaned_df[\"aroma\"].astype('int64')\n",
    "cleaned_df.loc[:, 'acidity_or_structure'] = cleaned_df[\"acidity_or_structure\"].astype('int64')\n",
    "cleaned_df.loc[:, 'body'] = cleaned_df[\"body\"].str.replace(\"\\t\\t\\t\\t\\t\\t\\t\", \"\").astype('int64')\n",
    "cleaned_df.loc[:, 'flavor'] = cleaned_df[\"flavor\"].astype('int64')\n",
    "cleaned_df.loc[:, 'aftertaste'] = cleaned_df[\"aftertaste\"].astype('int64')\n",
    "cleaned_df.loc[:, 'blind_assessment'] = cleaned_df[\"blind_assessment\"].astype('string')\n",
    "cleaned_df.loc[:, 'notes'] = cleaned_df[\"notes\"].astype('string')\n",
    "cleaned_df.loc[:, 'bottom_line'] = cleaned_df[\"bottom_line\"].astype('string')"
   ]
  },
  {
   "cell_type": "code",
   "execution_count": 10,
   "metadata": {
    "slideshow": {
     "slide_type": "skip"
    }
   },
   "outputs": [],
   "source": [
    "cleaned_df.drop(cleaned_df[cleaned_df['roast_level'] == 'NA'].index, inplace = True)\n",
    "cleaned_df.drop(cleaned_df[cleaned_df['agtron'] == 'NA/NA'].index, inplace = True)"
   ]
  },
  {
   "cell_type": "code",
   "execution_count": 11,
   "metadata": {
    "slideshow": {
     "slide_type": "skip"
    }
   },
   "outputs": [],
   "source": [
    "cleaned_df['bean_type'] = \"robusta\"\n",
    "cleaned_df['bean_type'].loc[cleaned_df['notes'].str.contains(\"arabica\")] = \"arabica\"\n",
    "cleaned_df['bean_type'].loc[cleaned_df['notes'].str.contains(\"Arabica\")] = \"arabica\"\n",
    "cleaned_df.loc[:, 'bean_type'] = cleaned_df[\"bean_type\"].astype('string')"
   ]
  },
  {
   "cell_type": "code",
   "execution_count": 12,
   "metadata": {
    "slideshow": {
     "slide_type": "skip"
    }
   },
   "outputs": [],
   "source": [
    "drop_column = ['Unnamed: 0','roaster_location','review_date','notes']\n",
    "#cleaned_df.drop(drop_column, axis=1, inplace = True)"
   ]
  },
  {
   "cell_type": "code",
   "execution_count": 13,
   "metadata": {
    "slideshow": {
     "slide_type": "skip"
    }
   },
   "outputs": [
    {
     "name": "stdout",
     "output_type": "stream",
     "text": [
      "<class 'pandas.core.frame.DataFrame'>\n",
      "Int64Index: 1362 entries, 0 to 1549\n",
      "Data columns (total 19 columns):\n",
      " #   Column                Non-Null Count  Dtype \n",
      "---  ------                --------------  ----- \n",
      " 0   Unnamed: 0            1362 non-null   int64 \n",
      " 1   coffee_score          1362 non-null   int64 \n",
      " 2   coffee_roaster_name   1362 non-null   string\n",
      " 3   coffee_bean_name      1362 non-null   string\n",
      " 4   roaster_location      1362 non-null   string\n",
      " 5   coffee_origin         1362 non-null   string\n",
      " 6   roast_level           1362 non-null   string\n",
      " 7   agtron                1362 non-null   string\n",
      " 8   estimate_price        1362 non-null   string\n",
      " 9   review_date           1362 non-null   string\n",
      " 10  aroma                 1362 non-null   int64 \n",
      " 11  acidity_or_structure  1362 non-null   int64 \n",
      " 12  body                  1362 non-null   int64 \n",
      " 13  flavor                1362 non-null   int64 \n",
      " 14  aftertaste            1362 non-null   int64 \n",
      " 15  blind_assessment      1362 non-null   string\n",
      " 16  notes                 1362 non-null   string\n",
      " 17  bottom_line           1362 non-null   string\n",
      " 18  bean_type             1362 non-null   string\n",
      "dtypes: int64(7), string(12)\n",
      "memory usage: 212.8 KB\n"
     ]
    }
   ],
   "source": [
    "cleaned_df.info()"
   ]
  },
  {
   "cell_type": "code",
   "execution_count": 14,
   "metadata": {
    "slideshow": {
     "slide_type": "skip"
    }
   },
   "outputs": [],
   "source": [
    "cleaned_df['min_agtron'] = cleaned_df['agtron'].map(lambda x: x.split('/')[0])\n",
    "cleaned_df['max_agtron'] = cleaned_df['agtron'].map(lambda x: x.split('/')[1])\n",
    "cleaned_df.loc[:, 'min_agtron'] = cleaned_df[\"min_agtron\"].astype('int64')\n",
    "cleaned_df.loc[:, 'max_agtron'] = cleaned_df[\"max_agtron\"].astype('int64')"
   ]
  },
  {
   "cell_type": "code",
   "execution_count": 15,
   "metadata": {
    "slideshow": {
     "slide_type": "skip"
    }
   },
   "outputs": [],
   "source": [
    "cleaned_df['agtron_difference'] = cleaned_df['max_agtron'] - cleaned_df['min_agtron']"
   ]
  },
  {
   "cell_type": "code",
   "execution_count": 16,
   "metadata": {
    "slideshow": {
     "slide_type": "skip"
    }
   },
   "outputs": [],
   "source": [
    "cleaned_df.drop(cleaned_df[cleaned_df['estimate_price'].str.contains('ounces') == False].index, inplace = True)\n",
    "cleaned_df.drop(cleaned_df[cleaned_df['estimate_price'].str.contains('NT') == True].index, inplace = True)\n",
    "cleaned_df.drop(cleaned_df[cleaned_df['estimate_price'].str.contains('CAD') == True].index, inplace = True)"
   ]
  },
  {
   "cell_type": "code",
   "execution_count": 17,
   "metadata": {
    "slideshow": {
     "slide_type": "skip"
    }
   },
   "outputs": [],
   "source": [
    "cleaned_df['estimate_price_USD'] = cleaned_df['estimate_price'].map(lambda x: x.split('.')[0])\n",
    "cleaned_df['estimate_price_ounces'] = cleaned_df['estimate_price'].map(lambda x: x.split('/')[1])"
   ]
  },
  {
   "cell_type": "code",
   "execution_count": 18,
   "metadata": {
    "slideshow": {
     "slide_type": "skip"
    }
   },
   "outputs": [
    {
     "data": {
      "text/plain": [
       "array(['$22', '$18', '$23', '$35', '$16', '$28', '$24', '$25', '$19',\n",
       "       '$20', '$17', '$30', '$26', '$140', '$21', '$65', '$14', '$13',\n",
       "       '$15', '$12', '$9', '$48', '$69', '$40', '$42', '$36', '$49',\n",
       "       '$11', '$45', '$34', '$38', '$29', '$50', '$10', '$5', '$75',\n",
       "       '$89', '$150', '$145', '$62', '$95', '$60', '$120', '$32', '$27',\n",
       "       '$80', '$54', '$39', '$74', '$87', '$33', '$47', '$56', '$55',\n",
       "       '$85', '$20/12 ounces', '$64', 'US $20', '$6', '$4', '$8', '$125',\n",
       "       '18', '$31', '$63', '$37', '$44', '#23', '$70', '$51'],\n",
       "      dtype=object)"
      ]
     },
     "execution_count": 18,
     "metadata": {},
     "output_type": "execute_result"
    }
   ],
   "source": [
    "cleaned_df['estimate_price_USD'].unique()"
   ]
  },
  {
   "cell_type": "code",
   "execution_count": 19,
   "metadata": {
    "slideshow": {
     "slide_type": "skip"
    }
   },
   "outputs": [],
   "source": [
    "cleaned_df.loc[:, 'estimate_price_USD'] = cleaned_df[\"estimate_price_USD\"].str.replace(\"$\", \"\")\n",
    "cleaned_df.loc[:, 'estimate_price_USD'] = cleaned_df[\"estimate_price_USD\"].str.replace(\"/12 ounces\", \"\")\n",
    "cleaned_df.loc[:, 'estimate_price_USD'] = cleaned_df[\"estimate_price_USD\"].str.replace(\"US \", \"\")\n",
    "cleaned_df.loc[:, 'estimate_price_USD'] = cleaned_df[\"estimate_price_USD\"].str.replace(\"#\", \"\")"
   ]
  },
  {
   "cell_type": "code",
   "execution_count": 20,
   "metadata": {
    "slideshow": {
     "slide_type": "skip"
    }
   },
   "outputs": [
    {
     "data": {
      "text/plain": [
       "array(['12 ounces', '16 ounces', '8 ounces', '5 ounces', '4 ounces',\n",
       "       ' 12 ounces', '7 ounces', '24 ounces', '6 ounces', '10.5 ounces',\n",
       "       '10 ounces', '12.64 ounces', '11 ounces', '14 ounces', '2 ounces',\n",
       "       '20 ounces (2 types)', '8 ounces (currently on sale for $36.76)',\n",
       "       '12 ounces; $35.00', '12 ounces ($79.00',\n",
       "       '12 ounces (includes shipping)', '12 ounces; $50.00', ' 7 ounces',\n",
       "       '22 ounces', '32 ounces', '4 ounces; limited availability',\n",
       "       '8 ounces (packaged as a \"duo\" with Bourbon Rey Guatemala)',\n",
       "       '8 ounces (packaged as a \"duo\" with the Bourbon Rey Jamaica)',\n",
       "       '8 ounces*', '12 ounces online; $12.99'], dtype=object)"
      ]
     },
     "execution_count": 20,
     "metadata": {},
     "output_type": "execute_result"
    }
   ],
   "source": [
    "cleaned_df['estimate_price_ounces'].unique()"
   ]
  },
  {
   "cell_type": "code",
   "execution_count": 21,
   "metadata": {
    "slideshow": {
     "slide_type": "skip"
    }
   },
   "outputs": [],
   "source": [
    "cleaned_df.loc[:, 'estimate_price_ounces'] = cleaned_df[\"estimate_price_ounces\"].str.replace(\" \", \"\")\n",
    "cleaned_df.loc[:, 'estimate_price_ounces'] = cleaned_df[\"estimate_price_ounces\"].str.replace(\"\\(\", \"\")\n",
    "cleaned_df.loc[:, 'estimate_price_ounces'] = cleaned_df[\"estimate_price_ounces\"].str.replace(\"\\)\", \"\")\n",
    "cleaned_df.loc[:, 'estimate_price_ounces'] = cleaned_df[\"estimate_price_ounces\"].str.replace(\"\\\"\", \"\")\n",
    "cleaned_df.loc[:, 'estimate_price_ounces'] = cleaned_df[\"estimate_price_ounces\"].str.replace(\"$\", \"\")\n",
    "cleaned_df.loc[:, 'estimate_price_ounces'] = cleaned_df[\"estimate_price_ounces\"].str.replace(\";\", \"\")\n",
    "cleaned_df.loc[:, 'estimate_price_ounces'] = cleaned_df[\"estimate_price_ounces\"].str.replace(\"ounces\", \"\")\n",
    "cleaned_df.loc[:, 'estimate_price_ounces'] = cleaned_df[\"estimate_price_ounces\"].str.replace(\"2types\", \"\")\n",
    "cleaned_df.loc[:, 'estimate_price_ounces'] = cleaned_df[\"estimate_price_ounces\"].str.replace(\"currentlyonsalefor36.76\", \"\")\n",
    "cleaned_df.loc[:, 'estimate_price_ounces'] = cleaned_df[\"estimate_price_ounces\"].str.replace(\"35.00\", \"\")\n",
    "cleaned_df.loc[:, 'estimate_price_ounces'] = cleaned_df[\"estimate_price_ounces\"].str.replace(\"79.00\", \"\")\n",
    "cleaned_df.loc[:, 'estimate_price_ounces'] = cleaned_df[\"estimate_price_ounces\"].str.replace(\"includesshipping\", \"\")\n",
    "cleaned_df.loc[:, 'estimate_price_ounces'] = cleaned_df[\"estimate_price_ounces\"].str.replace(\"50.00\", \"\")\n",
    "cleaned_df.loc[:, 'estimate_price_ounces'] = cleaned_df[\"estimate_price_ounces\"].str.replace(\"limitedavailability\", \"\")\n",
    "cleaned_df.loc[:, 'estimate_price_ounces'] = cleaned_df[\"estimate_price_ounces\"].str.replace(\"packagedasaduowithBourbonReyGuatemala\", \"\")\n",
    "cleaned_df.loc[:, 'estimate_price_ounces'] = cleaned_df[\"estimate_price_ounces\"].str.replace(\"packagedasaduowiththeBourbonReyJamaica\", \"\")\n",
    "cleaned_df.loc[:, 'estimate_price_ounces'] = cleaned_df[\"estimate_price_ounces\"].str.replace(\"*\", \"\")\n",
    "cleaned_df.loc[:, 'estimate_price_ounces'] = cleaned_df[\"estimate_price_ounces\"].str.replace(\"online12.99\", \"\")"
   ]
  },
  {
   "cell_type": "code",
   "execution_count": 22,
   "metadata": {
    "slideshow": {
     "slide_type": "skip"
    }
   },
   "outputs": [],
   "source": [
    "cleaned_df.loc[:, 'estimate_price_USD'] = cleaned_df[\"estimate_price_USD\"].astype('float')\n",
    "cleaned_df.loc[:, 'estimate_price_ounces'] = cleaned_df[\"estimate_price_ounces\"].astype('float64')"
   ]
  },
  {
   "cell_type": "code",
   "execution_count": 23,
   "metadata": {
    "slideshow": {
     "slide_type": "skip"
    }
   },
   "outputs": [],
   "source": [
    "cleaned_df['estimate_price_USD_per_6ounces'] = round((cleaned_df[\"estimate_price_USD\"] / cleaned_df[\"estimate_price_ounces\"])*6, 2)"
   ]
  },
  {
   "cell_type": "code",
   "execution_count": 24,
   "metadata": {
    "slideshow": {
     "slide_type": "skip"
    }
   },
   "outputs": [
    {
     "name": "stdout",
     "output_type": "stream",
     "text": [
      "<class 'pandas.core.frame.DataFrame'>\n",
      "Int64Index: 1278 entries, 0 to 1549\n",
      "Data columns (total 25 columns):\n",
      " #   Column                          Non-Null Count  Dtype  \n",
      "---  ------                          --------------  -----  \n",
      " 0   Unnamed: 0                      1278 non-null   int64  \n",
      " 1   coffee_score                    1278 non-null   int64  \n",
      " 2   coffee_roaster_name             1278 non-null   string \n",
      " 3   coffee_bean_name                1278 non-null   string \n",
      " 4   roaster_location                1278 non-null   string \n",
      " 5   coffee_origin                   1278 non-null   string \n",
      " 6   roast_level                     1278 non-null   string \n",
      " 7   agtron                          1278 non-null   string \n",
      " 8   estimate_price                  1278 non-null   string \n",
      " 9   review_date                     1278 non-null   string \n",
      " 10  aroma                           1278 non-null   int64  \n",
      " 11  acidity_or_structure            1278 non-null   int64  \n",
      " 12  body                            1278 non-null   int64  \n",
      " 13  flavor                          1278 non-null   int64  \n",
      " 14  aftertaste                      1278 non-null   int64  \n",
      " 15  blind_assessment                1278 non-null   string \n",
      " 16  notes                           1278 non-null   string \n",
      " 17  bottom_line                     1278 non-null   string \n",
      " 18  bean_type                       1278 non-null   string \n",
      " 19  min_agtron                      1278 non-null   int64  \n",
      " 20  max_agtron                      1278 non-null   int64  \n",
      " 21  agtron_difference               1278 non-null   int64  \n",
      " 22  estimate_price_USD              1278 non-null   float64\n",
      " 23  estimate_price_ounces           1278 non-null   float64\n",
      " 24  estimate_price_USD_per_6ounces  1278 non-null   float64\n",
      "dtypes: float64(3), int64(10), string(12)\n",
      "memory usage: 259.6 KB\n"
     ]
    }
   ],
   "source": [
    "cleaned_df.info()"
   ]
  },
  {
   "cell_type": "code",
   "execution_count": 25,
   "metadata": {
    "slideshow": {
     "slide_type": "skip"
    }
   },
   "outputs": [],
   "source": [
    "drop_column = ['agtron','estimate_price','estimate_price_USD','estimate_price_ounces']\n",
    "#cleaned_df.drop(drop_column, axis=1, inplace = True)"
   ]
  },
  {
   "cell_type": "markdown",
   "metadata": {
    "slideshow": {
     "slide_type": "skip"
    }
   },
   "source": [
    "### 3.23 Convert Formats <a class=\"anchor\" id=\"Convert-Formats\"></a>"
   ]
  },
  {
   "cell_type": "code",
   "execution_count": 26,
   "metadata": {
    "slideshow": {
     "slide_type": "skip"
    }
   },
   "outputs": [
    {
     "data": {
      "text/html": [
       "<div>\n",
       "<style scoped>\n",
       "    .dataframe tbody tr th:only-of-type {\n",
       "        vertical-align: middle;\n",
       "    }\n",
       "\n",
       "    .dataframe tbody tr th {\n",
       "        vertical-align: top;\n",
       "    }\n",
       "\n",
       "    .dataframe thead th {\n",
       "        text-align: right;\n",
       "    }\n",
       "</style>\n",
       "<table border=\"1\" class=\"dataframe\">\n",
       "  <thead>\n",
       "    <tr style=\"text-align: right;\">\n",
       "      <th></th>\n",
       "      <th>Unnamed: 0</th>\n",
       "      <th>coffee_score</th>\n",
       "      <th>coffee_roaster_name</th>\n",
       "      <th>coffee_bean_name</th>\n",
       "      <th>roaster_location</th>\n",
       "      <th>coffee_origin</th>\n",
       "      <th>roast_level</th>\n",
       "      <th>agtron</th>\n",
       "      <th>estimate_price</th>\n",
       "      <th>review_date</th>\n",
       "      <th>...</th>\n",
       "      <th>blind_assessment</th>\n",
       "      <th>notes</th>\n",
       "      <th>bottom_line</th>\n",
       "      <th>bean_type</th>\n",
       "      <th>min_agtron</th>\n",
       "      <th>max_agtron</th>\n",
       "      <th>agtron_difference</th>\n",
       "      <th>estimate_price_USD</th>\n",
       "      <th>estimate_price_ounces</th>\n",
       "      <th>estimate_price_USD_per_6ounces</th>\n",
       "    </tr>\n",
       "  </thead>\n",
       "  <tbody>\n",
       "    <tr>\n",
       "      <th>count</th>\n",
       "      <td>1278.000000</td>\n",
       "      <td>1278.000000</td>\n",
       "      <td>1278</td>\n",
       "      <td>1278</td>\n",
       "      <td>1278</td>\n",
       "      <td>1278</td>\n",
       "      <td>1278</td>\n",
       "      <td>1278</td>\n",
       "      <td>1278</td>\n",
       "      <td>1278</td>\n",
       "      <td>...</td>\n",
       "      <td>1278</td>\n",
       "      <td>1278</td>\n",
       "      <td>1278</td>\n",
       "      <td>1278</td>\n",
       "      <td>1278.000000</td>\n",
       "      <td>1278.000000</td>\n",
       "      <td>1278.000000</td>\n",
       "      <td>1278.000000</td>\n",
       "      <td>1278.000000</td>\n",
       "      <td>1278.000000</td>\n",
       "    </tr>\n",
       "    <tr>\n",
       "      <th>unique</th>\n",
       "      <td>NaN</td>\n",
       "      <td>NaN</td>\n",
       "      <td>247</td>\n",
       "      <td>1161</td>\n",
       "      <td>199</td>\n",
       "      <td>624</td>\n",
       "      <td>5</td>\n",
       "      <td>250</td>\n",
       "      <td>322</td>\n",
       "      <td>59</td>\n",
       "      <td>...</td>\n",
       "      <td>1277</td>\n",
       "      <td>1255</td>\n",
       "      <td>1277</td>\n",
       "      <td>2</td>\n",
       "      <td>NaN</td>\n",
       "      <td>NaN</td>\n",
       "      <td>NaN</td>\n",
       "      <td>NaN</td>\n",
       "      <td>NaN</td>\n",
       "      <td>NaN</td>\n",
       "    </tr>\n",
       "    <tr>\n",
       "      <th>top</th>\n",
       "      <td>NaN</td>\n",
       "      <td>NaN</td>\n",
       "      <td>JBC Coffee Roasters</td>\n",
       "      <td>Kona Mocca®</td>\n",
       "      <td>Madison, Wisconsin</td>\n",
       "      <td>Yirgacheffe growing region, southern Ethiopia</td>\n",
       "      <td>Medium-Light</td>\n",
       "      <td>58/76</td>\n",
       "      <td>$18.00/12 ounces</td>\n",
       "      <td>August 2020</td>\n",
       "      <td>...</td>\n",
       "      <td>Blind Assessment: Richly chocolaty, deeply swe...</td>\n",
       "      <td>Notes: Mystic Monk Coffee is a small-batch roa...</td>\n",
       "      <td>The Bottom Line: A cocoa-toned natural-process...</td>\n",
       "      <td>arabica</td>\n",
       "      <td>NaN</td>\n",
       "      <td>NaN</td>\n",
       "      <td>NaN</td>\n",
       "      <td>NaN</td>\n",
       "      <td>NaN</td>\n",
       "      <td>NaN</td>\n",
       "    </tr>\n",
       "    <tr>\n",
       "      <th>freq</th>\n",
       "      <td>NaN</td>\n",
       "      <td>NaN</td>\n",
       "      <td>130</td>\n",
       "      <td>5</td>\n",
       "      <td>130</td>\n",
       "      <td>48</td>\n",
       "      <td>941</td>\n",
       "      <td>69</td>\n",
       "      <td>70</td>\n",
       "      <td>48</td>\n",
       "      <td>...</td>\n",
       "      <td>2</td>\n",
       "      <td>4</td>\n",
       "      <td>2</td>\n",
       "      <td>926</td>\n",
       "      <td>NaN</td>\n",
       "      <td>NaN</td>\n",
       "      <td>NaN</td>\n",
       "      <td>NaN</td>\n",
       "      <td>NaN</td>\n",
       "      <td>NaN</td>\n",
       "    </tr>\n",
       "    <tr>\n",
       "      <th>mean</th>\n",
       "      <td>742.655712</td>\n",
       "      <td>92.899844</td>\n",
       "      <td>NaN</td>\n",
       "      <td>NaN</td>\n",
       "      <td>NaN</td>\n",
       "      <td>NaN</td>\n",
       "      <td>NaN</td>\n",
       "      <td>NaN</td>\n",
       "      <td>NaN</td>\n",
       "      <td>NaN</td>\n",
       "      <td>...</td>\n",
       "      <td>NaN</td>\n",
       "      <td>NaN</td>\n",
       "      <td>NaN</td>\n",
       "      <td>NaN</td>\n",
       "      <td>60.472613</td>\n",
       "      <td>74.931142</td>\n",
       "      <td>14.458529</td>\n",
       "      <td>22.907668</td>\n",
       "      <td>10.923255</td>\n",
       "      <td>15.201847</td>\n",
       "    </tr>\n",
       "    <tr>\n",
       "      <th>std</th>\n",
       "      <td>447.862777</td>\n",
       "      <td>1.727111</td>\n",
       "      <td>NaN</td>\n",
       "      <td>NaN</td>\n",
       "      <td>NaN</td>\n",
       "      <td>NaN</td>\n",
       "      <td>NaN</td>\n",
       "      <td>NaN</td>\n",
       "      <td>NaN</td>\n",
       "      <td>NaN</td>\n",
       "      <td>...</td>\n",
       "      <td>NaN</td>\n",
       "      <td>NaN</td>\n",
       "      <td>NaN</td>\n",
       "      <td>NaN</td>\n",
       "      <td>146.734186</td>\n",
       "      <td>6.582049</td>\n",
       "      <td>146.842500</td>\n",
       "      <td>14.688654</td>\n",
       "      <td>2.704378</td>\n",
       "      <td>17.546818</td>\n",
       "    </tr>\n",
       "    <tr>\n",
       "      <th>min</th>\n",
       "      <td>0.000000</td>\n",
       "      <td>84.000000</td>\n",
       "      <td>NaN</td>\n",
       "      <td>NaN</td>\n",
       "      <td>NaN</td>\n",
       "      <td>NaN</td>\n",
       "      <td>NaN</td>\n",
       "      <td>NaN</td>\n",
       "      <td>NaN</td>\n",
       "      <td>NaN</td>\n",
       "      <td>...</td>\n",
       "      <td>NaN</td>\n",
       "      <td>NaN</td>\n",
       "      <td>NaN</td>\n",
       "      <td>NaN</td>\n",
       "      <td>31.000000</td>\n",
       "      <td>38.000000</td>\n",
       "      <td>-5182.000000</td>\n",
       "      <td>4.000000</td>\n",
       "      <td>2.000000</td>\n",
       "      <td>1.500000</td>\n",
       "    </tr>\n",
       "    <tr>\n",
       "      <th>25%</th>\n",
       "      <td>358.250000</td>\n",
       "      <td>92.000000</td>\n",
       "      <td>NaN</td>\n",
       "      <td>NaN</td>\n",
       "      <td>NaN</td>\n",
       "      <td>NaN</td>\n",
       "      <td>NaN</td>\n",
       "      <td>NaN</td>\n",
       "      <td>NaN</td>\n",
       "      <td>NaN</td>\n",
       "      <td>...</td>\n",
       "      <td>NaN</td>\n",
       "      <td>NaN</td>\n",
       "      <td>NaN</td>\n",
       "      <td>NaN</td>\n",
       "      <td>53.000000</td>\n",
       "      <td>72.000000</td>\n",
       "      <td>17.000000</td>\n",
       "      <td>16.000000</td>\n",
       "      <td>12.000000</td>\n",
       "      <td>8.000000</td>\n",
       "    </tr>\n",
       "    <tr>\n",
       "      <th>50%</th>\n",
       "      <td>721.500000</td>\n",
       "      <td>93.000000</td>\n",
       "      <td>NaN</td>\n",
       "      <td>NaN</td>\n",
       "      <td>NaN</td>\n",
       "      <td>NaN</td>\n",
       "      <td>NaN</td>\n",
       "      <td>NaN</td>\n",
       "      <td>NaN</td>\n",
       "      <td>NaN</td>\n",
       "      <td>...</td>\n",
       "      <td>NaN</td>\n",
       "      <td>NaN</td>\n",
       "      <td>NaN</td>\n",
       "      <td>NaN</td>\n",
       "      <td>56.000000</td>\n",
       "      <td>76.000000</td>\n",
       "      <td>18.000000</td>\n",
       "      <td>19.000000</td>\n",
       "      <td>12.000000</td>\n",
       "      <td>9.500000</td>\n",
       "    </tr>\n",
       "    <tr>\n",
       "      <th>75%</th>\n",
       "      <td>1116.750000</td>\n",
       "      <td>94.000000</td>\n",
       "      <td>NaN</td>\n",
       "      <td>NaN</td>\n",
       "      <td>NaN</td>\n",
       "      <td>NaN</td>\n",
       "      <td>NaN</td>\n",
       "      <td>NaN</td>\n",
       "      <td>NaN</td>\n",
       "      <td>NaN</td>\n",
       "      <td>...</td>\n",
       "      <td>NaN</td>\n",
       "      <td>NaN</td>\n",
       "      <td>NaN</td>\n",
       "      <td>NaN</td>\n",
       "      <td>58.000000</td>\n",
       "      <td>78.000000</td>\n",
       "      <td>22.000000</td>\n",
       "      <td>24.000000</td>\n",
       "      <td>12.000000</td>\n",
       "      <td>13.500000</td>\n",
       "    </tr>\n",
       "    <tr>\n",
       "      <th>max</th>\n",
       "      <td>1549.000000</td>\n",
       "      <td>98.000000</td>\n",
       "      <td>NaN</td>\n",
       "      <td>NaN</td>\n",
       "      <td>NaN</td>\n",
       "      <td>NaN</td>\n",
       "      <td>NaN</td>\n",
       "      <td>NaN</td>\n",
       "      <td>NaN</td>\n",
       "      <td>NaN</td>\n",
       "      <td>...</td>\n",
       "      <td>NaN</td>\n",
       "      <td>NaN</td>\n",
       "      <td>NaN</td>\n",
       "      <td>NaN</td>\n",
       "      <td>5252.000000</td>\n",
       "      <td>99.000000</td>\n",
       "      <td>36.000000</td>\n",
       "      <td>150.000000</td>\n",
       "      <td>32.000000</td>\n",
       "      <td>225.000000</td>\n",
       "    </tr>\n",
       "  </tbody>\n",
       "</table>\n",
       "<p>11 rows × 25 columns</p>\n",
       "</div>"
      ],
      "text/plain": [
       "         Unnamed: 0  coffee_score  coffee_roaster_name coffee_bean_name  \\\n",
       "count   1278.000000   1278.000000                 1278             1278   \n",
       "unique          NaN           NaN                  247             1161   \n",
       "top             NaN           NaN  JBC Coffee Roasters      Kona Mocca®   \n",
       "freq            NaN           NaN                  130                5   \n",
       "mean     742.655712     92.899844                  NaN              NaN   \n",
       "std      447.862777      1.727111                  NaN              NaN   \n",
       "min        0.000000     84.000000                  NaN              NaN   \n",
       "25%      358.250000     92.000000                  NaN              NaN   \n",
       "50%      721.500000     93.000000                  NaN              NaN   \n",
       "75%     1116.750000     94.000000                  NaN              NaN   \n",
       "max     1549.000000     98.000000                  NaN              NaN   \n",
       "\n",
       "          roaster_location                                  coffee_origin  \\\n",
       "count                 1278                                           1278   \n",
       "unique                 199                                            624   \n",
       "top     Madison, Wisconsin  Yirgacheffe growing region, southern Ethiopia   \n",
       "freq                   130                                             48   \n",
       "mean                   NaN                                            NaN   \n",
       "std                    NaN                                            NaN   \n",
       "min                    NaN                                            NaN   \n",
       "25%                    NaN                                            NaN   \n",
       "50%                    NaN                                            NaN   \n",
       "75%                    NaN                                            NaN   \n",
       "max                    NaN                                            NaN   \n",
       "\n",
       "         roast_level agtron    estimate_price  review_date  ...  \\\n",
       "count           1278   1278              1278         1278  ...   \n",
       "unique             5    250               322           59  ...   \n",
       "top     Medium-Light  58/76  $18.00/12 ounces  August 2020  ...   \n",
       "freq             941     69                70           48  ...   \n",
       "mean             NaN    NaN               NaN          NaN  ...   \n",
       "std              NaN    NaN               NaN          NaN  ...   \n",
       "min              NaN    NaN               NaN          NaN  ...   \n",
       "25%              NaN    NaN               NaN          NaN  ...   \n",
       "50%              NaN    NaN               NaN          NaN  ...   \n",
       "75%              NaN    NaN               NaN          NaN  ...   \n",
       "max              NaN    NaN               NaN          NaN  ...   \n",
       "\n",
       "                                         blind_assessment  \\\n",
       "count                                                1278   \n",
       "unique                                               1277   \n",
       "top     Blind Assessment: Richly chocolaty, deeply swe...   \n",
       "freq                                                    2   \n",
       "mean                                                  NaN   \n",
       "std                                                   NaN   \n",
       "min                                                   NaN   \n",
       "25%                                                   NaN   \n",
       "50%                                                   NaN   \n",
       "75%                                                   NaN   \n",
       "max                                                   NaN   \n",
       "\n",
       "                                                    notes  \\\n",
       "count                                                1278   \n",
       "unique                                               1255   \n",
       "top     Notes: Mystic Monk Coffee is a small-batch roa...   \n",
       "freq                                                    4   \n",
       "mean                                                  NaN   \n",
       "std                                                   NaN   \n",
       "min                                                   NaN   \n",
       "25%                                                   NaN   \n",
       "50%                                                   NaN   \n",
       "75%                                                   NaN   \n",
       "max                                                   NaN   \n",
       "\n",
       "                                              bottom_line  bean_type  \\\n",
       "count                                                1278       1278   \n",
       "unique                                               1277          2   \n",
       "top     The Bottom Line: A cocoa-toned natural-process...    arabica   \n",
       "freq                                                    2        926   \n",
       "mean                                                  NaN        NaN   \n",
       "std                                                   NaN        NaN   \n",
       "min                                                   NaN        NaN   \n",
       "25%                                                   NaN        NaN   \n",
       "50%                                                   NaN        NaN   \n",
       "75%                                                   NaN        NaN   \n",
       "max                                                   NaN        NaN   \n",
       "\n",
       "         min_agtron   max_agtron agtron_difference estimate_price_USD  \\\n",
       "count   1278.000000  1278.000000       1278.000000        1278.000000   \n",
       "unique          NaN          NaN               NaN                NaN   \n",
       "top             NaN          NaN               NaN                NaN   \n",
       "freq            NaN          NaN               NaN                NaN   \n",
       "mean      60.472613    74.931142         14.458529          22.907668   \n",
       "std      146.734186     6.582049        146.842500          14.688654   \n",
       "min       31.000000    38.000000      -5182.000000           4.000000   \n",
       "25%       53.000000    72.000000         17.000000          16.000000   \n",
       "50%       56.000000    76.000000         18.000000          19.000000   \n",
       "75%       58.000000    78.000000         22.000000          24.000000   \n",
       "max     5252.000000    99.000000         36.000000         150.000000   \n",
       "\n",
       "       estimate_price_ounces  estimate_price_USD_per_6ounces  \n",
       "count            1278.000000                     1278.000000  \n",
       "unique                   NaN                             NaN  \n",
       "top                      NaN                             NaN  \n",
       "freq                     NaN                             NaN  \n",
       "mean               10.923255                       15.201847  \n",
       "std                 2.704378                       17.546818  \n",
       "min                 2.000000                        1.500000  \n",
       "25%                12.000000                        8.000000  \n",
       "50%                12.000000                        9.500000  \n",
       "75%                12.000000                       13.500000  \n",
       "max                32.000000                      225.000000  \n",
       "\n",
       "[11 rows x 25 columns]"
      ]
     },
     "execution_count": 26,
     "metadata": {},
     "output_type": "execute_result"
    }
   ],
   "source": [
    "cleaned_df.describe(include='all')"
   ]
  },
  {
   "cell_type": "code",
   "execution_count": 27,
   "metadata": {
    "slideshow": {
     "slide_type": "skip"
    }
   },
   "outputs": [],
   "source": [
    "cleaned_df['best_value'] = round(cleaned_df['coffee_score'] / cleaned_df['estimate_price_USD_per_6ounces'], 2)"
   ]
  },
  {
   "cell_type": "code",
   "execution_count": 28,
   "metadata": {
    "slideshow": {
     "slide_type": "skip"
    }
   },
   "outputs": [
    {
     "data": {
      "text/html": [
       "<div>\n",
       "<style scoped>\n",
       "    .dataframe tbody tr th:only-of-type {\n",
       "        vertical-align: middle;\n",
       "    }\n",
       "\n",
       "    .dataframe tbody tr th {\n",
       "        vertical-align: top;\n",
       "    }\n",
       "\n",
       "    .dataframe thead th {\n",
       "        text-align: right;\n",
       "    }\n",
       "</style>\n",
       "<table border=\"1\" class=\"dataframe\">\n",
       "  <thead>\n",
       "    <tr style=\"text-align: right;\">\n",
       "      <th></th>\n",
       "      <th>Unnamed: 0</th>\n",
       "      <th>coffee_score</th>\n",
       "      <th>coffee_roaster_name</th>\n",
       "      <th>coffee_bean_name</th>\n",
       "      <th>roaster_location</th>\n",
       "      <th>coffee_origin</th>\n",
       "      <th>roast_level</th>\n",
       "      <th>agtron</th>\n",
       "      <th>estimate_price</th>\n",
       "      <th>review_date</th>\n",
       "      <th>...</th>\n",
       "      <th>notes</th>\n",
       "      <th>bottom_line</th>\n",
       "      <th>bean_type</th>\n",
       "      <th>min_agtron</th>\n",
       "      <th>max_agtron</th>\n",
       "      <th>agtron_difference</th>\n",
       "      <th>estimate_price_USD</th>\n",
       "      <th>estimate_price_ounces</th>\n",
       "      <th>estimate_price_USD_per_6ounces</th>\n",
       "      <th>best_value</th>\n",
       "    </tr>\n",
       "  </thead>\n",
       "  <tbody>\n",
       "    <tr>\n",
       "      <th>889</th>\n",
       "      <td>889</td>\n",
       "      <td>87</td>\n",
       "      <td>Hill's Bros. Coffee</td>\n",
       "      <td>100% Guatemalan</td>\n",
       "      <td>San Francisco, California</td>\n",
       "      <td>Guatemala</td>\n",
       "      <td>Medium-Dark</td>\n",
       "      <td>41/53</td>\n",
       "      <td>$8.99/32 ounces</td>\n",
       "      <td>February 2020</td>\n",
       "      <td>...</td>\n",
       "      <td>Notes: This coffee was tested as part of a sur...</td>\n",
       "      <td>The Bottom Line: A sweet though muted Guatemal...</td>\n",
       "      <td>robusta</td>\n",
       "      <td>41</td>\n",
       "      <td>53</td>\n",
       "      <td>12</td>\n",
       "      <td>8.0</td>\n",
       "      <td>32.0</td>\n",
       "      <td>1.50</td>\n",
       "      <td>58.00</td>\n",
       "    </tr>\n",
       "    <tr>\n",
       "      <th>887</th>\n",
       "      <td>887</td>\n",
       "      <td>89</td>\n",
       "      <td>HT Traders</td>\n",
       "      <td>Colombia</td>\n",
       "      <td>Matthews, North Carolina</td>\n",
       "      <td>Colombia</td>\n",
       "      <td>Medium-Dark</td>\n",
       "      <td>40/56</td>\n",
       "      <td>$4.99/12 ounces</td>\n",
       "      <td>February 2020</td>\n",
       "      <td>...</td>\n",
       "      <td>Notes: This coffee tied for the fifth-highest ...</td>\n",
       "      <td>The Bottom Line: A comfortingly familiar, dark...</td>\n",
       "      <td>robusta</td>\n",
       "      <td>40</td>\n",
       "      <td>56</td>\n",
       "      <td>16</td>\n",
       "      <td>4.0</td>\n",
       "      <td>12.0</td>\n",
       "      <td>2.00</td>\n",
       "      <td>44.50</td>\n",
       "    </tr>\n",
       "    <tr>\n",
       "      <th>886</th>\n",
       "      <td>886</td>\n",
       "      <td>89</td>\n",
       "      <td>Cameron’s Coffee</td>\n",
       "      <td>Guatemala (from bulk bin)</td>\n",
       "      <td>Shakopee, Minnesota</td>\n",
       "      <td>Guatemala</td>\n",
       "      <td>Medium</td>\n",
       "      <td>44/60</td>\n",
       "      <td>$6.99/16 ounces</td>\n",
       "      <td>February 2020</td>\n",
       "      <td>...</td>\n",
       "      <td>Notes: This coffee was tested as part of a sur...</td>\n",
       "      <td>The Bottom Line: A good-value darker roasted G...</td>\n",
       "      <td>robusta</td>\n",
       "      <td>44</td>\n",
       "      <td>60</td>\n",
       "      <td>16</td>\n",
       "      <td>6.0</td>\n",
       "      <td>16.0</td>\n",
       "      <td>2.25</td>\n",
       "      <td>39.56</td>\n",
       "    </tr>\n",
       "    <tr>\n",
       "      <th>888</th>\n",
       "      <td>888</td>\n",
       "      <td>88</td>\n",
       "      <td>Eight O'Clock Coffee</td>\n",
       "      <td>Colombia</td>\n",
       "      <td>Landover, Maryland</td>\n",
       "      <td>Colombia</td>\n",
       "      <td>Medium</td>\n",
       "      <td>46/60</td>\n",
       "      <td>$9.29/22 ounces</td>\n",
       "      <td>February 2020</td>\n",
       "      <td>...</td>\n",
       "      <td>Notes: This coffee was tested as part of a sur...</td>\n",
       "      <td>The Bottom Line: A roast-prominent, cocoa-tone...</td>\n",
       "      <td>robusta</td>\n",
       "      <td>46</td>\n",
       "      <td>60</td>\n",
       "      <td>14</td>\n",
       "      <td>9.0</td>\n",
       "      <td>22.0</td>\n",
       "      <td>2.45</td>\n",
       "      <td>35.92</td>\n",
       "    </tr>\n",
       "    <tr>\n",
       "      <th>163</th>\n",
       "      <td>163</td>\n",
       "      <td>89</td>\n",
       "      <td>El Gran Cafe</td>\n",
       "      <td>5a Sur</td>\n",
       "      <td>Antigua, Guatemala</td>\n",
       "      <td>Antigua, Guatemala</td>\n",
       "      <td>Medium</td>\n",
       "      <td>52/64</td>\n",
       "      <td>$5.00/12 ounces</td>\n",
       "      <td>December 2021</td>\n",
       "      <td>...</td>\n",
       "      <td>Notes: Produced at Beneficio La Esperanza, fro...</td>\n",
       "      <td>The Bottom Line: A darkish medium version of a...</td>\n",
       "      <td>arabica</td>\n",
       "      <td>52</td>\n",
       "      <td>64</td>\n",
       "      <td>12</td>\n",
       "      <td>5.0</td>\n",
       "      <td>12.0</td>\n",
       "      <td>2.50</td>\n",
       "      <td>35.60</td>\n",
       "    </tr>\n",
       "  </tbody>\n",
       "</table>\n",
       "<p>5 rows × 26 columns</p>\n",
       "</div>"
      ],
      "text/plain": [
       "     Unnamed: 0  coffee_score   coffee_roaster_name  \\\n",
       "889         889            87   Hill's Bros. Coffee   \n",
       "887         887            89            HT Traders   \n",
       "886         886            89      Cameron’s Coffee   \n",
       "888         888            88  Eight O'Clock Coffee   \n",
       "163         163            89          El Gran Cafe   \n",
       "\n",
       "              coffee_bean_name           roaster_location       coffee_origin  \\\n",
       "889            100% Guatemalan  San Francisco, California           Guatemala   \n",
       "887                   Colombia   Matthews, North Carolina            Colombia   \n",
       "886  Guatemala (from bulk bin)        Shakopee, Minnesota           Guatemala   \n",
       "888                   Colombia         Landover, Maryland            Colombia   \n",
       "163                     5a Sur         Antigua, Guatemala  Antigua, Guatemala   \n",
       "\n",
       "     roast_level agtron   estimate_price    review_date  ...  \\\n",
       "889  Medium-Dark  41/53  $8.99/32 ounces  February 2020  ...   \n",
       "887  Medium-Dark  40/56  $4.99/12 ounces  February 2020  ...   \n",
       "886       Medium  44/60  $6.99/16 ounces  February 2020  ...   \n",
       "888       Medium  46/60  $9.29/22 ounces  February 2020  ...   \n",
       "163       Medium  52/64  $5.00/12 ounces  December 2021  ...   \n",
       "\n",
       "                                                 notes  \\\n",
       "889  Notes: This coffee was tested as part of a sur...   \n",
       "887  Notes: This coffee tied for the fifth-highest ...   \n",
       "886  Notes: This coffee was tested as part of a sur...   \n",
       "888  Notes: This coffee was tested as part of a sur...   \n",
       "163  Notes: Produced at Beneficio La Esperanza, fro...   \n",
       "\n",
       "                                           bottom_line  bean_type  min_agtron  \\\n",
       "889  The Bottom Line: A sweet though muted Guatemal...    robusta          41   \n",
       "887  The Bottom Line: A comfortingly familiar, dark...    robusta          40   \n",
       "886  The Bottom Line: A good-value darker roasted G...    robusta          44   \n",
       "888  The Bottom Line: A roast-prominent, cocoa-tone...    robusta          46   \n",
       "163  The Bottom Line: A darkish medium version of a...    arabica          52   \n",
       "\n",
       "     max_agtron agtron_difference estimate_price_USD estimate_price_ounces  \\\n",
       "889          53                12                8.0                  32.0   \n",
       "887          56                16                4.0                  12.0   \n",
       "886          60                16                6.0                  16.0   \n",
       "888          60                14                9.0                  22.0   \n",
       "163          64                12                5.0                  12.0   \n",
       "\n",
       "    estimate_price_USD_per_6ounces  best_value  \n",
       "889                           1.50       58.00  \n",
       "887                           2.00       44.50  \n",
       "886                           2.25       39.56  \n",
       "888                           2.45       35.92  \n",
       "163                           2.50       35.60  \n",
       "\n",
       "[5 rows x 26 columns]"
      ]
     },
     "execution_count": 28,
     "metadata": {},
     "output_type": "execute_result"
    }
   ],
   "source": [
    "cleaned_df.sort_values(by='best_value',ascending=False).head()"
   ]
  },
  {
   "cell_type": "markdown",
   "metadata": {
    "slideshow": {
     "slide_type": "slide"
    }
   },
   "source": [
    "<div style=\"color:white;\n",
    "           display:fill;\n",
    "           border-radius:5px;\n",
    "           background-color:#5642C5;\n",
    "           font-size:200%;\n",
    "           font-family:Arial;letter-spacing:0.5px\">\n",
    "\n",
    "<p width = 20%, style=\"padding: 10px;\n",
    "              color:white;\">\n",
    "Feature engineering\n",
    "</p>\n",
    "</div>"
   ]
  },
  {
   "cell_type": "markdown",
   "metadata": {
    "slideshow": {
     "slide_type": "fragment"
    }
   },
   "source": [
    "bean_type<br>\n",
    "estimate_price_USD_per_6ounces<br>\n",
    "best_value<br>\n",
    "taste_like<br>\n",
    "agtron_difference<br>"
   ]
  },
  {
   "cell_type": "markdown",
   "metadata": {
    "slideshow": {
     "slide_type": "skip"
    }
   },
   "source": [
    "bean_type : using NLP find out arabica in notes\n",
    "estimate_price_USD_per_6ounces : convert the estimate price to USD per 6 ounces\n",
    "best_value : use coffee score divided by price\n",
    "taste_like : using NLP find out find flavor in bottom_line and blind_assessment\n",
    "agtron_difference : maximum agtron subtracted by minimum agtron"
   ]
  },
  {
   "cell_type": "markdown",
   "metadata": {
    "slideshow": {
     "slide_type": "subslide"
    }
   },
   "source": [
    "<div align = \"middle\">\n",
    "<img src=\"images\\coffee_wheel.webp\" align = \"middle\" width=\"800\"/>\n",
    "</div>"
   ]
  },
  {
   "cell_type": "markdown",
   "metadata": {
    "slideshow": {
     "slide_type": "skip"
    }
   },
   "source": [
    "#### Natural Language Processing"
   ]
  },
  {
   "cell_type": "markdown",
   "metadata": {
    "slideshow": {
     "slide_type": "slide"
    }
   },
   "source": [
    "<div style=\"color:white;\n",
    "           display:fill;\n",
    "           border-radius:5px;\n",
    "           background-color:#5642C5;\n",
    "           font-size:200%;\n",
    "           font-family:Arial;letter-spacing:0.5px\">\n",
    "\n",
    "<p width = 20%, style=\"padding: 10px;\n",
    "              color:white;\">\n",
    "topic model\n",
    "</p>\n",
    "</div>"
   ]
  },
  {
   "cell_type": "code",
   "execution_count": 31,
   "metadata": {
    "slideshow": {
     "slide_type": "skip"
    }
   },
   "outputs": [
    {
     "name": "stderr",
     "output_type": "stream",
     "text": [
      "[nltk_data] Downloading package stopwords to\n",
      "[nltk_data]     /Users/alanchan/nltk_data...\n",
      "[nltk_data]   Unzipping corpora/stopwords.zip.\n",
      "[nltk_data] Downloading package wordnet to\n",
      "[nltk_data]     /Users/alanchan/nltk_data...\n",
      "[nltk_data]   Package wordnet is already up-to-date!\n"
     ]
    }
   ],
   "source": [
    "from nltk.tokenize import RegexpTokenizer\n",
    "from nltk.corpus import stopwords\n",
    "from nltk.stem import PorterStemmer\n",
    "import nltk\n",
    "from nltk.stem.wordnet import WordNetLemmatizer\n",
    "nltk.download('stopwords')\n",
    "nltk.download('wordnet')\n",
    "\n",
    "# Create an intance of the RegexpTokenizer with the variable name `tokenizer`\n",
    "# The regex pattern should select all words with three or more characters\n",
    "pattern = r\"(?u)\\w{3,}\"\n",
    "tokenizer = RegexpTokenizer(pattern)\n",
    "\n",
    "# Create a list of stopwords in English\n",
    "stopwords_list = stopwords.words('english')\n",
    "\n",
    "# Create an instance of nltk's PorterStemmer with the variable name `stemmer`\n",
    "stemmer = WordNetLemmatizer()"
   ]
  },
  {
   "cell_type": "code",
   "execution_count": 32,
   "metadata": {
    "slideshow": {
     "slide_type": "skip"
    }
   },
   "outputs": [],
   "source": [
    "stopwords_list.append('blind')\n",
    "stopwords_list.append('assessment')\n",
    "stopwords_list.append('bottom')\n",
    "stopwords_list.append('line')\n",
    "stopwords_list.append('cup')\n",
    "stopwords_list.append('dried')\n",
    "stopwords_list.append('dark')\n",
    "stopwords_list.append('brown')\n",
    "stopwords_list.append('overall')\n",
    "stopwords_list.append('like')\n",
    "stopwords_list.append('ripe')\n",
    "stopwords_list.append('black')\n",
    "stopwords_list.append('fresh')\n",
    "stopwords_list.append('raw')\n",
    "stopwords_list.append('notes')\n",
    "stopwords_list.append('finish')"
   ]
  },
  {
   "cell_type": "code",
   "execution_count": 33,
   "metadata": {
    "slideshow": {
     "slide_type": "skip"
    }
   },
   "outputs": [
    {
     "data": {
      "text/plain": [
       "['example', 'sentence', 'preprocessing']"
      ]
     },
     "execution_count": 33,
     "metadata": {},
     "output_type": "execute_result"
    }
   ],
   "source": [
    "def preprocess_text(text, tokenizer, stopwords_list, stemmer):\n",
    "    # Standardize case (lowercase the text)\n",
    "    # your code here\n",
    "    text = text.lower()\n",
    "    \n",
    "    # Tokenize text using `tokenizer`\n",
    "    # your code here\n",
    "    tokens = tokenizer.tokenize(text)\n",
    "    \n",
    "    # Remove stopwords using `stopwords_list`\n",
    "    # your code here\n",
    "    stopwords = [word for word in tokens if word not in stopwords_list]\n",
    "    \n",
    "    # Stem the tokenized text using `stemmer`\n",
    "    # your code here\n",
    "    preprocess = [stemmer.lemmatize(word)for word in stopwords]\n",
    "    \n",
    "    # Return the preprocessed text\n",
    "    # your code here\n",
    "    return preprocess\n",
    "\n",
    "preprocess_text(\"This is an example sentence for preprocessing.\", tokenizer, stopwords_list, stemmer)"
   ]
  },
  {
   "cell_type": "code",
   "execution_count": 34,
   "metadata": {
    "slideshow": {
     "slide_type": "skip"
    }
   },
   "outputs": [],
   "source": [
    "cleaned_df[\"preprocessed_blind_assessment\"] = cleaned_df[\"blind_assessment\"].apply(lambda x: preprocess_text(x, tokenizer, stopwords_list, stemmer))\n",
    "cleaned_df[\"preprocessed_bottom_line\"] = cleaned_df[\"bottom_line\"].apply(lambda x: preprocess_text(x, tokenizer, stopwords_list, stemmer))\n",
    "cleaned_df[\"preprocessed_notes\"] = cleaned_df[\"notes\"].apply(lambda x: preprocess_text(x, tokenizer, stopwords_list, stemmer))"
   ]
  },
  {
   "cell_type": "code",
   "execution_count": 35,
   "metadata": {
    "slideshow": {
     "slide_type": "skip"
    }
   },
   "outputs": [
    {
     "data": {
      "text/html": [
       "<div>\n",
       "<style scoped>\n",
       "    .dataframe tbody tr th:only-of-type {\n",
       "        vertical-align: middle;\n",
       "    }\n",
       "\n",
       "    .dataframe tbody tr th {\n",
       "        vertical-align: top;\n",
       "    }\n",
       "\n",
       "    .dataframe thead th {\n",
       "        text-align: right;\n",
       "    }\n",
       "</style>\n",
       "<table border=\"1\" class=\"dataframe\">\n",
       "  <thead>\n",
       "    <tr style=\"text-align: right;\">\n",
       "      <th></th>\n",
       "      <th>Unnamed: 0</th>\n",
       "      <th>coffee_score</th>\n",
       "      <th>coffee_roaster_name</th>\n",
       "      <th>coffee_bean_name</th>\n",
       "      <th>roaster_location</th>\n",
       "      <th>coffee_origin</th>\n",
       "      <th>roast_level</th>\n",
       "      <th>agtron</th>\n",
       "      <th>estimate_price</th>\n",
       "      <th>review_date</th>\n",
       "      <th>aroma</th>\n",
       "      <th>acidity_or_structure</th>\n",
       "      <th>body</th>\n",
       "      <th>flavor</th>\n",
       "      <th>aftertaste</th>\n",
       "      <th>blind_assessment</th>\n",
       "      <th>notes</th>\n",
       "      <th>bottom_line</th>\n",
       "      <th>bean_type</th>\n",
       "      <th>min_agtron</th>\n",
       "      <th>max_agtron</th>\n",
       "      <th>agtron_difference</th>\n",
       "      <th>estimate_price_USD</th>\n",
       "      <th>estimate_price_ounces</th>\n",
       "      <th>estimate_price_USD_per_6ounces</th>\n",
       "      <th>best_value</th>\n",
       "      <th>preprocessed_blind_assessment</th>\n",
       "      <th>preprocessed_bottom_line</th>\n",
       "      <th>preprocessed_notes</th>\n",
       "    </tr>\n",
       "  </thead>\n",
       "  <tbody>\n",
       "    <tr>\n",
       "      <th>count</th>\n",
       "      <td>1278.000000</td>\n",
       "      <td>1278.000000</td>\n",
       "      <td>1278</td>\n",
       "      <td>1278</td>\n",
       "      <td>1278</td>\n",
       "      <td>1278</td>\n",
       "      <td>1278</td>\n",
       "      <td>1278</td>\n",
       "      <td>1278</td>\n",
       "      <td>1278</td>\n",
       "      <td>1278.000000</td>\n",
       "      <td>1278.000000</td>\n",
       "      <td>1278.000000</td>\n",
       "      <td>1278.000000</td>\n",
       "      <td>1278.000000</td>\n",
       "      <td>1278</td>\n",
       "      <td>1278</td>\n",
       "      <td>1278</td>\n",
       "      <td>1278</td>\n",
       "      <td>1278.000000</td>\n",
       "      <td>1278.000000</td>\n",
       "      <td>1278.000000</td>\n",
       "      <td>1278.000000</td>\n",
       "      <td>1278.000000</td>\n",
       "      <td>1278.000000</td>\n",
       "      <td>1278.000000</td>\n",
       "      <td>1278</td>\n",
       "      <td>1278</td>\n",
       "      <td>1278</td>\n",
       "    </tr>\n",
       "    <tr>\n",
       "      <th>unique</th>\n",
       "      <td>NaN</td>\n",
       "      <td>NaN</td>\n",
       "      <td>247</td>\n",
       "      <td>1161</td>\n",
       "      <td>199</td>\n",
       "      <td>624</td>\n",
       "      <td>5</td>\n",
       "      <td>250</td>\n",
       "      <td>322</td>\n",
       "      <td>59</td>\n",
       "      <td>NaN</td>\n",
       "      <td>NaN</td>\n",
       "      <td>NaN</td>\n",
       "      <td>NaN</td>\n",
       "      <td>NaN</td>\n",
       "      <td>1277</td>\n",
       "      <td>1255</td>\n",
       "      <td>1277</td>\n",
       "      <td>2</td>\n",
       "      <td>NaN</td>\n",
       "      <td>NaN</td>\n",
       "      <td>NaN</td>\n",
       "      <td>NaN</td>\n",
       "      <td>NaN</td>\n",
       "      <td>NaN</td>\n",
       "      <td>NaN</td>\n",
       "      <td>1277</td>\n",
       "      <td>1277</td>\n",
       "      <td>1249</td>\n",
       "    </tr>\n",
       "    <tr>\n",
       "      <th>top</th>\n",
       "      <td>NaN</td>\n",
       "      <td>NaN</td>\n",
       "      <td>JBC Coffee Roasters</td>\n",
       "      <td>Kona Mocca®</td>\n",
       "      <td>Madison, Wisconsin</td>\n",
       "      <td>Yirgacheffe growing region, southern Ethiopia</td>\n",
       "      <td>Medium-Light</td>\n",
       "      <td>58/76</td>\n",
       "      <td>$18.00/12 ounces</td>\n",
       "      <td>August 2020</td>\n",
       "      <td>NaN</td>\n",
       "      <td>NaN</td>\n",
       "      <td>NaN</td>\n",
       "      <td>NaN</td>\n",
       "      <td>NaN</td>\n",
       "      <td>Blind Assessment: Richly chocolaty, deeply swe...</td>\n",
       "      <td>Notes: Mystic Monk Coffee is a small-batch roa...</td>\n",
       "      <td>The Bottom Line: A cocoa-toned natural-process...</td>\n",
       "      <td>arabica</td>\n",
       "      <td>NaN</td>\n",
       "      <td>NaN</td>\n",
       "      <td>NaN</td>\n",
       "      <td>NaN</td>\n",
       "      <td>NaN</td>\n",
       "      <td>NaN</td>\n",
       "      <td>NaN</td>\n",
       "      <td>[richly, chocolaty, deeply, sweet, chocolate, ...</td>\n",
       "      <td>[cocoa, toned, natural, processed, ethiopia, d...</td>\n",
       "      <td>[mystic, monk, coffee, small, batch, roaster, ...</td>\n",
       "    </tr>\n",
       "    <tr>\n",
       "      <th>freq</th>\n",
       "      <td>NaN</td>\n",
       "      <td>NaN</td>\n",
       "      <td>130</td>\n",
       "      <td>5</td>\n",
       "      <td>130</td>\n",
       "      <td>48</td>\n",
       "      <td>941</td>\n",
       "      <td>69</td>\n",
       "      <td>70</td>\n",
       "      <td>48</td>\n",
       "      <td>NaN</td>\n",
       "      <td>NaN</td>\n",
       "      <td>NaN</td>\n",
       "      <td>NaN</td>\n",
       "      <td>NaN</td>\n",
       "      <td>2</td>\n",
       "      <td>4</td>\n",
       "      <td>2</td>\n",
       "      <td>926</td>\n",
       "      <td>NaN</td>\n",
       "      <td>NaN</td>\n",
       "      <td>NaN</td>\n",
       "      <td>NaN</td>\n",
       "      <td>NaN</td>\n",
       "      <td>NaN</td>\n",
       "      <td>NaN</td>\n",
       "      <td>2</td>\n",
       "      <td>2</td>\n",
       "      <td>4</td>\n",
       "    </tr>\n",
       "    <tr>\n",
       "      <th>mean</th>\n",
       "      <td>742.655712</td>\n",
       "      <td>92.899844</td>\n",
       "      <td>NaN</td>\n",
       "      <td>NaN</td>\n",
       "      <td>NaN</td>\n",
       "      <td>NaN</td>\n",
       "      <td>NaN</td>\n",
       "      <td>NaN</td>\n",
       "      <td>NaN</td>\n",
       "      <td>NaN</td>\n",
       "      <td>8.812989</td>\n",
       "      <td>8.453834</td>\n",
       "      <td>8.602504</td>\n",
       "      <td>8.953052</td>\n",
       "      <td>8.075900</td>\n",
       "      <td>NaN</td>\n",
       "      <td>NaN</td>\n",
       "      <td>NaN</td>\n",
       "      <td>NaN</td>\n",
       "      <td>60.472613</td>\n",
       "      <td>74.931142</td>\n",
       "      <td>14.458529</td>\n",
       "      <td>22.907668</td>\n",
       "      <td>10.923255</td>\n",
       "      <td>15.201847</td>\n",
       "      <td>9.131964</td>\n",
       "      <td>NaN</td>\n",
       "      <td>NaN</td>\n",
       "      <td>NaN</td>\n",
       "    </tr>\n",
       "    <tr>\n",
       "      <th>std</th>\n",
       "      <td>447.862777</td>\n",
       "      <td>1.727111</td>\n",
       "      <td>NaN</td>\n",
       "      <td>NaN</td>\n",
       "      <td>NaN</td>\n",
       "      <td>NaN</td>\n",
       "      <td>NaN</td>\n",
       "      <td>NaN</td>\n",
       "      <td>NaN</td>\n",
       "      <td>NaN</td>\n",
       "      <td>0.440958</td>\n",
       "      <td>0.574024</td>\n",
       "      <td>0.516048</td>\n",
       "      <td>0.361827</td>\n",
       "      <td>0.494003</td>\n",
       "      <td>NaN</td>\n",
       "      <td>NaN</td>\n",
       "      <td>NaN</td>\n",
       "      <td>NaN</td>\n",
       "      <td>146.734186</td>\n",
       "      <td>6.582049</td>\n",
       "      <td>146.842500</td>\n",
       "      <td>14.688654</td>\n",
       "      <td>2.704378</td>\n",
       "      <td>17.546818</td>\n",
       "      <td>4.382157</td>\n",
       "      <td>NaN</td>\n",
       "      <td>NaN</td>\n",
       "      <td>NaN</td>\n",
       "    </tr>\n",
       "    <tr>\n",
       "      <th>min</th>\n",
       "      <td>0.000000</td>\n",
       "      <td>84.000000</td>\n",
       "      <td>NaN</td>\n",
       "      <td>NaN</td>\n",
       "      <td>NaN</td>\n",
       "      <td>NaN</td>\n",
       "      <td>NaN</td>\n",
       "      <td>NaN</td>\n",
       "      <td>NaN</td>\n",
       "      <td>NaN</td>\n",
       "      <td>7.000000</td>\n",
       "      <td>6.000000</td>\n",
       "      <td>7.000000</td>\n",
       "      <td>7.000000</td>\n",
       "      <td>6.000000</td>\n",
       "      <td>NaN</td>\n",
       "      <td>NaN</td>\n",
       "      <td>NaN</td>\n",
       "      <td>NaN</td>\n",
       "      <td>31.000000</td>\n",
       "      <td>38.000000</td>\n",
       "      <td>-5182.000000</td>\n",
       "      <td>4.000000</td>\n",
       "      <td>2.000000</td>\n",
       "      <td>1.500000</td>\n",
       "      <td>0.430000</td>\n",
       "      <td>NaN</td>\n",
       "      <td>NaN</td>\n",
       "      <td>NaN</td>\n",
       "    </tr>\n",
       "    <tr>\n",
       "      <th>25%</th>\n",
       "      <td>358.250000</td>\n",
       "      <td>92.000000</td>\n",
       "      <td>NaN</td>\n",
       "      <td>NaN</td>\n",
       "      <td>NaN</td>\n",
       "      <td>NaN</td>\n",
       "      <td>NaN</td>\n",
       "      <td>NaN</td>\n",
       "      <td>NaN</td>\n",
       "      <td>NaN</td>\n",
       "      <td>9.000000</td>\n",
       "      <td>8.000000</td>\n",
       "      <td>8.000000</td>\n",
       "      <td>9.000000</td>\n",
       "      <td>8.000000</td>\n",
       "      <td>NaN</td>\n",
       "      <td>NaN</td>\n",
       "      <td>NaN</td>\n",
       "      <td>NaN</td>\n",
       "      <td>53.000000</td>\n",
       "      <td>72.000000</td>\n",
       "      <td>17.000000</td>\n",
       "      <td>16.000000</td>\n",
       "      <td>12.000000</td>\n",
       "      <td>8.000000</td>\n",
       "      <td>7.040000</td>\n",
       "      <td>NaN</td>\n",
       "      <td>NaN</td>\n",
       "      <td>NaN</td>\n",
       "    </tr>\n",
       "    <tr>\n",
       "      <th>50%</th>\n",
       "      <td>721.500000</td>\n",
       "      <td>93.000000</td>\n",
       "      <td>NaN</td>\n",
       "      <td>NaN</td>\n",
       "      <td>NaN</td>\n",
       "      <td>NaN</td>\n",
       "      <td>NaN</td>\n",
       "      <td>NaN</td>\n",
       "      <td>NaN</td>\n",
       "      <td>NaN</td>\n",
       "      <td>9.000000</td>\n",
       "      <td>8.000000</td>\n",
       "      <td>9.000000</td>\n",
       "      <td>9.000000</td>\n",
       "      <td>8.000000</td>\n",
       "      <td>NaN</td>\n",
       "      <td>NaN</td>\n",
       "      <td>NaN</td>\n",
       "      <td>NaN</td>\n",
       "      <td>56.000000</td>\n",
       "      <td>76.000000</td>\n",
       "      <td>18.000000</td>\n",
       "      <td>19.000000</td>\n",
       "      <td>12.000000</td>\n",
       "      <td>9.500000</td>\n",
       "      <td>9.790000</td>\n",
       "      <td>NaN</td>\n",
       "      <td>NaN</td>\n",
       "      <td>NaN</td>\n",
       "    </tr>\n",
       "    <tr>\n",
       "      <th>75%</th>\n",
       "      <td>1116.750000</td>\n",
       "      <td>94.000000</td>\n",
       "      <td>NaN</td>\n",
       "      <td>NaN</td>\n",
       "      <td>NaN</td>\n",
       "      <td>NaN</td>\n",
       "      <td>NaN</td>\n",
       "      <td>NaN</td>\n",
       "      <td>NaN</td>\n",
       "      <td>NaN</td>\n",
       "      <td>9.000000</td>\n",
       "      <td>9.000000</td>\n",
       "      <td>9.000000</td>\n",
       "      <td>9.000000</td>\n",
       "      <td>8.000000</td>\n",
       "      <td>NaN</td>\n",
       "      <td>NaN</td>\n",
       "      <td>NaN</td>\n",
       "      <td>NaN</td>\n",
       "      <td>58.000000</td>\n",
       "      <td>78.000000</td>\n",
       "      <td>22.000000</td>\n",
       "      <td>24.000000</td>\n",
       "      <td>12.000000</td>\n",
       "      <td>13.500000</td>\n",
       "      <td>11.500000</td>\n",
       "      <td>NaN</td>\n",
       "      <td>NaN</td>\n",
       "      <td>NaN</td>\n",
       "    </tr>\n",
       "    <tr>\n",
       "      <th>max</th>\n",
       "      <td>1549.000000</td>\n",
       "      <td>98.000000</td>\n",
       "      <td>NaN</td>\n",
       "      <td>NaN</td>\n",
       "      <td>NaN</td>\n",
       "      <td>NaN</td>\n",
       "      <td>NaN</td>\n",
       "      <td>NaN</td>\n",
       "      <td>NaN</td>\n",
       "      <td>NaN</td>\n",
       "      <td>10.000000</td>\n",
       "      <td>10.000000</td>\n",
       "      <td>10.000000</td>\n",
       "      <td>10.000000</td>\n",
       "      <td>9.000000</td>\n",
       "      <td>NaN</td>\n",
       "      <td>NaN</td>\n",
       "      <td>NaN</td>\n",
       "      <td>NaN</td>\n",
       "      <td>5252.000000</td>\n",
       "      <td>99.000000</td>\n",
       "      <td>36.000000</td>\n",
       "      <td>150.000000</td>\n",
       "      <td>32.000000</td>\n",
       "      <td>225.000000</td>\n",
       "      <td>58.000000</td>\n",
       "      <td>NaN</td>\n",
       "      <td>NaN</td>\n",
       "      <td>NaN</td>\n",
       "    </tr>\n",
       "  </tbody>\n",
       "</table>\n",
       "</div>"
      ],
      "text/plain": [
       "         Unnamed: 0  coffee_score  coffee_roaster_name coffee_bean_name  \\\n",
       "count   1278.000000   1278.000000                 1278             1278   \n",
       "unique          NaN           NaN                  247             1161   \n",
       "top             NaN           NaN  JBC Coffee Roasters      Kona Mocca®   \n",
       "freq            NaN           NaN                  130                5   \n",
       "mean     742.655712     92.899844                  NaN              NaN   \n",
       "std      447.862777      1.727111                  NaN              NaN   \n",
       "min        0.000000     84.000000                  NaN              NaN   \n",
       "25%      358.250000     92.000000                  NaN              NaN   \n",
       "50%      721.500000     93.000000                  NaN              NaN   \n",
       "75%     1116.750000     94.000000                  NaN              NaN   \n",
       "max     1549.000000     98.000000                  NaN              NaN   \n",
       "\n",
       "          roaster_location                                  coffee_origin  \\\n",
       "count                 1278                                           1278   \n",
       "unique                 199                                            624   \n",
       "top     Madison, Wisconsin  Yirgacheffe growing region, southern Ethiopia   \n",
       "freq                   130                                             48   \n",
       "mean                   NaN                                            NaN   \n",
       "std                    NaN                                            NaN   \n",
       "min                    NaN                                            NaN   \n",
       "25%                    NaN                                            NaN   \n",
       "50%                    NaN                                            NaN   \n",
       "75%                    NaN                                            NaN   \n",
       "max                    NaN                                            NaN   \n",
       "\n",
       "         roast_level agtron    estimate_price  review_date        aroma  \\\n",
       "count           1278   1278              1278         1278  1278.000000   \n",
       "unique             5    250               322           59          NaN   \n",
       "top     Medium-Light  58/76  $18.00/12 ounces  August 2020          NaN   \n",
       "freq             941     69                70           48          NaN   \n",
       "mean             NaN    NaN               NaN          NaN     8.812989   \n",
       "std              NaN    NaN               NaN          NaN     0.440958   \n",
       "min              NaN    NaN               NaN          NaN     7.000000   \n",
       "25%              NaN    NaN               NaN          NaN     9.000000   \n",
       "50%              NaN    NaN               NaN          NaN     9.000000   \n",
       "75%              NaN    NaN               NaN          NaN     9.000000   \n",
       "max              NaN    NaN               NaN          NaN    10.000000   \n",
       "\n",
       "        acidity_or_structure         body       flavor   aftertaste  \\\n",
       "count            1278.000000  1278.000000  1278.000000  1278.000000   \n",
       "unique                   NaN          NaN          NaN          NaN   \n",
       "top                      NaN          NaN          NaN          NaN   \n",
       "freq                     NaN          NaN          NaN          NaN   \n",
       "mean                8.453834     8.602504     8.953052     8.075900   \n",
       "std                 0.574024     0.516048     0.361827     0.494003   \n",
       "min                 6.000000     7.000000     7.000000     6.000000   \n",
       "25%                 8.000000     8.000000     9.000000     8.000000   \n",
       "50%                 8.000000     9.000000     9.000000     8.000000   \n",
       "75%                 9.000000     9.000000     9.000000     8.000000   \n",
       "max                10.000000    10.000000    10.000000     9.000000   \n",
       "\n",
       "                                         blind_assessment  \\\n",
       "count                                                1278   \n",
       "unique                                               1277   \n",
       "top     Blind Assessment: Richly chocolaty, deeply swe...   \n",
       "freq                                                    2   \n",
       "mean                                                  NaN   \n",
       "std                                                   NaN   \n",
       "min                                                   NaN   \n",
       "25%                                                   NaN   \n",
       "50%                                                   NaN   \n",
       "75%                                                   NaN   \n",
       "max                                                   NaN   \n",
       "\n",
       "                                                    notes  \\\n",
       "count                                                1278   \n",
       "unique                                               1255   \n",
       "top     Notes: Mystic Monk Coffee is a small-batch roa...   \n",
       "freq                                                    4   \n",
       "mean                                                  NaN   \n",
       "std                                                   NaN   \n",
       "min                                                   NaN   \n",
       "25%                                                   NaN   \n",
       "50%                                                   NaN   \n",
       "75%                                                   NaN   \n",
       "max                                                   NaN   \n",
       "\n",
       "                                              bottom_line bean_type  \\\n",
       "count                                                1278      1278   \n",
       "unique                                               1277         2   \n",
       "top     The Bottom Line: A cocoa-toned natural-process...   arabica   \n",
       "freq                                                    2       926   \n",
       "mean                                                  NaN       NaN   \n",
       "std                                                   NaN       NaN   \n",
       "min                                                   NaN       NaN   \n",
       "25%                                                   NaN       NaN   \n",
       "50%                                                   NaN       NaN   \n",
       "75%                                                   NaN       NaN   \n",
       "max                                                   NaN       NaN   \n",
       "\n",
       "         min_agtron   max_agtron  agtron_difference  estimate_price_USD  \\\n",
       "count   1278.000000  1278.000000        1278.000000         1278.000000   \n",
       "unique          NaN          NaN                NaN                 NaN   \n",
       "top             NaN          NaN                NaN                 NaN   \n",
       "freq            NaN          NaN                NaN                 NaN   \n",
       "mean      60.472613    74.931142          14.458529           22.907668   \n",
       "std      146.734186     6.582049         146.842500           14.688654   \n",
       "min       31.000000    38.000000       -5182.000000            4.000000   \n",
       "25%       53.000000    72.000000          17.000000           16.000000   \n",
       "50%       56.000000    76.000000          18.000000           19.000000   \n",
       "75%       58.000000    78.000000          22.000000           24.000000   \n",
       "max     5252.000000    99.000000          36.000000          150.000000   \n",
       "\n",
       "        estimate_price_ounces  estimate_price_USD_per_6ounces   best_value  \\\n",
       "count             1278.000000                     1278.000000  1278.000000   \n",
       "unique                    NaN                             NaN          NaN   \n",
       "top                       NaN                             NaN          NaN   \n",
       "freq                      NaN                             NaN          NaN   \n",
       "mean                10.923255                       15.201847     9.131964   \n",
       "std                  2.704378                       17.546818     4.382157   \n",
       "min                  2.000000                        1.500000     0.430000   \n",
       "25%                 12.000000                        8.000000     7.040000   \n",
       "50%                 12.000000                        9.500000     9.790000   \n",
       "75%                 12.000000                       13.500000    11.500000   \n",
       "max                 32.000000                      225.000000    58.000000   \n",
       "\n",
       "                            preprocessed_blind_assessment  \\\n",
       "count                                                1278   \n",
       "unique                                               1277   \n",
       "top     [richly, chocolaty, deeply, sweet, chocolate, ...   \n",
       "freq                                                    2   \n",
       "mean                                                  NaN   \n",
       "std                                                   NaN   \n",
       "min                                                   NaN   \n",
       "25%                                                   NaN   \n",
       "50%                                                   NaN   \n",
       "75%                                                   NaN   \n",
       "max                                                   NaN   \n",
       "\n",
       "                                 preprocessed_bottom_line  \\\n",
       "count                                                1278   \n",
       "unique                                               1277   \n",
       "top     [cocoa, toned, natural, processed, ethiopia, d...   \n",
       "freq                                                    2   \n",
       "mean                                                  NaN   \n",
       "std                                                   NaN   \n",
       "min                                                   NaN   \n",
       "25%                                                   NaN   \n",
       "50%                                                   NaN   \n",
       "75%                                                   NaN   \n",
       "max                                                   NaN   \n",
       "\n",
       "                                       preprocessed_notes  \n",
       "count                                                1278  \n",
       "unique                                               1249  \n",
       "top     [mystic, monk, coffee, small, batch, roaster, ...  \n",
       "freq                                                    4  \n",
       "mean                                                  NaN  \n",
       "std                                                   NaN  \n",
       "min                                                   NaN  \n",
       "25%                                                   NaN  \n",
       "50%                                                   NaN  \n",
       "75%                                                   NaN  \n",
       "max                                                   NaN  "
      ]
     },
     "execution_count": 35,
     "metadata": {},
     "output_type": "execute_result"
    }
   ],
   "source": [
    "pd.set_option('display.max_columns', None)\n",
    "cleaned_df.describe(include='all')"
   ]
  },
  {
   "cell_type": "code",
   "execution_count": 36,
   "metadata": {
    "slideshow": {
     "slide_type": "skip"
    }
   },
   "outputs": [
    {
     "data": {
      "application/vnd.jupyter.widget-view+json": {
       "model_id": "9ceaa214949e4047a0b07a18fb80a948",
       "version_major": 2,
       "version_minor": 0
      },
      "text/plain": [
       "ToggleButtons(options=('roast_level', 'bean_type'), tooltips=('Description of roast_level', 'Description of be…"
      ]
     },
     "metadata": {},
     "output_type": "display_data"
    }
   ],
   "source": [
    "categorical_widget = widgets.ToggleButtons(\n",
    "    options=['roast_level', 'bean_type'],\n",
    "    description='',\n",
    "    disabled=False,\n",
    "    button_style='', # 'success', 'info', 'warning', 'danger' or ''\n",
    "    tooltips=['Description of roast_level', 'Description of bean_type'],\n",
    "#     icons=['check'] * 3\n",
    ")\n",
    "categorical_widget"
   ]
  },
  {
   "cell_type": "code",
   "execution_count": 37,
   "metadata": {
    "slideshow": {
     "slide_type": "skip"
    }
   },
   "outputs": [
    {
     "data": {
      "application/vnd.jupyter.widget-view+json": {
       "model_id": "1bf9d6d705174d1c987cc6c3e7a7ffab",
       "version_major": 2,
       "version_minor": 0
      },
      "text/plain": [
       "RadioButtons(layout=Layout(width='max-content'), options=('taste_like', 'preprocessed_notes', 'preprocessed_bo…"
      ]
     },
     "metadata": {},
     "output_type": "display_data"
    }
   ],
   "source": [
    "nlp_preprocessed_widget = widgets.RadioButtons(\n",
    "    options=['taste_like', 'preprocessed_notes','preprocessed_bottom_line', 'preprocessed_blind_assessment'],\n",
    "#    value='pineapple', # Defaults to 'pineapple'\n",
    "    layout={'width': 'max-content'}, # If the items' names are long\n",
    "    description='',\n",
    "    disabled=False\n",
    ")\n",
    "nlp_preprocessed_widget"
   ]
  },
  {
   "cell_type": "code",
   "execution_count": 38,
   "metadata": {
    "scrolled": false,
    "slideshow": {
     "slide_type": "skip"
    }
   },
   "outputs": [],
   "source": [
    "def nlp_plot(target=categorical_widget, preprocessed=nlp_preprocessed_widget):\n",
    "    fig, axes = plt.subplots(nrows=len(cleaned_df[target].unique()), figsize=(12, 12))\n",
    "    plotted_words_and_colors = {}\n",
    "    color_palette = sns.color_palette('cividis', n_colors=38)\n",
    "    data_by_genre = [y for _, y in cleaned_df.groupby(target, as_index=False)]\n",
    "    for idx, genre_df in enumerate(data_by_genre):\n",
    "        all_words_in_genre = genre_df[preprocessed].explode()\n",
    "        top_10 = all_words_in_genre.value_counts()[:10]\n",
    "        colors = []\n",
    "        for word in top_10.index:\n",
    "            if word not in plotted_words_and_colors:\n",
    "                new_color = color_palette.pop(0)\n",
    "                plotted_words_and_colors[word] = new_color\n",
    "            colors.append(plotted_words_and_colors[word])\n",
    "        ax = axes[idx]\n",
    "        ax.bar(top_10.index, top_10.values, color=colors)\n",
    "        ax.set_title(genre_df.iloc[0][target])\n",
    "    fig.tight_layout()"
   ]
  },
  {
   "cell_type": "code",
   "execution_count": 39,
   "metadata": {
    "scrolled": false,
    "slideshow": {
     "slide_type": "subslide"
    }
   },
   "outputs": [],
   "source": [
    "#interact(nlp_plot,target=categorical_widget, preprocessed=nlp_preprocessed_widget);"
   ]
  },
  {
   "cell_type": "code",
   "execution_count": 40,
   "metadata": {
    "slideshow": {
     "slide_type": "skip"
    }
   },
   "outputs": [],
   "source": [
    "from sklearn.model_selection import train_test_split\n",
    "\n",
    "# Convert token lists to strings\n",
    "cleaned_df[\"joined_preprocessed_bottom_line\"] = cleaned_df[\"preprocessed_bottom_line\"].str.join(\" \")\n",
    "\n",
    "# Create train test split\n",
    "X_train, X_test, y_train, y_test = train_test_split(\n",
    "    cleaned_df[\"joined_preprocessed_bottom_line\"], cleaned_df.roast_level, test_size=0.3, random_state=2021)"
   ]
  },
  {
   "cell_type": "code",
   "execution_count": 41,
   "metadata": {
    "slideshow": {
     "slide_type": "skip"
    }
   },
   "outputs": [
    {
     "data": {
      "text/plain": [
       "CountVectorizer()"
      ]
     },
     "execution_count": 41,
     "metadata": {},
     "output_type": "execute_result"
    }
   ],
   "source": [
    "# Import the CountVectorizer object from sklearn\n",
    "from sklearn.feature_extraction.text import CountVectorizer\n",
    "# your code here\n",
    "\n",
    "# Create a `vectorizer` instance\n",
    "# your code here\n",
    "vectorizer = CountVectorizer()\n",
    "\n",
    "# Fit the vectorizer to the training data\n",
    "# your code here\n",
    "vectorizer.fit(X_train,y_train)"
   ]
  },
  {
   "cell_type": "code",
   "execution_count": 42,
   "metadata": {
    "slideshow": {
     "slide_type": "skip"
    }
   },
   "outputs": [
    {
     "data": {
      "image/png": "[encoded data removed]",
      "text/plain": [
       "<Figure size 864x864 with 2 Axes>"
      ]
     },
     "metadata": {},
     "output_type": "display_data"
    }
   ],
   "source": [
    "X_train_vectorized = vectorizer.transform(X_train)\n",
    "X_test_vectorized = vectorizer.transform(X_test)\n",
    "# Import DecisionTreeClassifier\n",
    "from sklearn.tree import DecisionTreeClassifier\n",
    "\n",
    "# Initialize `dt`\n",
    "dt = DecisionTreeClassifier()\n",
    "\n",
    "# Fit the model to the training data\n",
    "dt.fit(X_train_vectorized,y_train)\n",
    "from sklearn.metrics import plot_confusion_matrix\n",
    "fig, ax = plt.subplots(figsize=(12,12))\n",
    "plot_confusion_matrix(dt, X_test_vectorized, y_test, ax=ax, cmap=\"cividis\");"
   ]
  },
  {
   "cell_type": "code",
   "execution_count": 43,
   "metadata": {
    "slideshow": {
     "slide_type": "skip"
    }
   },
   "outputs": [
    {
     "data": {
      "text/plain": [
       "0.6640625"
      ]
     },
     "execution_count": 43,
     "metadata": {},
     "output_type": "execute_result"
    }
   ],
   "source": [
    "dt.score(X_test_vectorized, y_test)"
   ]
  },
  {
   "cell_type": "markdown",
   "metadata": {
    "slideshow": {
     "slide_type": "skip"
    }
   },
   "source": [
    "======================================================"
   ]
  },
  {
   "cell_type": "code",
   "execution_count": 44,
   "metadata": {
    "slideshow": {
     "slide_type": "skip"
    }
   },
   "outputs": [],
   "source": [
    "coffee_flavor_wheel_first_layer=['floral', 'fruity', 'sour','fermented', 'green','vegetative', 'other', 'roasted', 'spices', 'nutty','cocoa', 'sweet']\n",
    "coffee_flavor_wheel_second_layer=['black','tea', 'floral', 'berry', 'dried','fruit', 'citrus','fruit', 'sour', 'alcohol','fermented', 'olive','oil', 'raw'\\\n",
    "    , 'green','vegetative', 'beany', 'papery','musty', 'chemical', 'pipetobacco', 'tobacco', 'burnt', 'cereal', 'pungent', 'pepper',\\\n",
    "         'brown','spice', 'nutty', 'cocoa', 'brown','sugar', 'vanilla', 'vanillin', 'overall','sweet', 'sweet','aromatics']\n",
    "coffee_flavor_wheel_third_layer=['chamomile', 'rose', 'jasmine', 'blackberry', 'raspberry', 'blueberry', 'strawberry', 'raisin', 'prune', 'coconut', 'cherry',\\\n",
    "'pomegranate', 'pineapple', 'grape', 'apple', 'peach', 'pear', 'grapefruit', 'orange', 'lemon', 'lime', 'sour','aromatics', 'acetic','acid', 'butyric','acid', 'critric','acid',\\\n",
    "'malic','acid', 'winey', 'whisley', 'fermented', 'overripe', 'under','ripe', 'peapod', 'fresh', 'dark','green', 'vegetative', 'hay','like', 'herb','like', 'stable', 'cardboard',\\\n",
    "'papery', 'woody', 'moldy','damp', 'musty','dusty', 'musty','earthy', 'animalic', 'meaty','brothy', 'phenolic', 'bitter', 'salty', 'medicinal', 'petroleum', 'skunky', 'rubber',\\\n",
    "'acrid', 'ashy', 'smoky', 'brown', 'grain', 'malt', 'anise', 'nutmeg', 'cinnamon', 'clove', 'peanuts', 'hazelnut', 'almond', 'chocolate', 'dark','chocolate', 'molasses', 'mapple','syrup', 'caramelized', 'honey']"
   ]
  },
  {
   "cell_type": "code",
   "execution_count": 45,
   "metadata": {
    "slideshow": {
     "slide_type": "skip"
    }
   },
   "outputs": [],
   "source": [
    "coffee_flavor_wheel_whole = coffee_flavor_wheel_first_layer + coffee_flavor_wheel_second_layer+coffee_flavor_wheel_third_layer\n"
   ]
  },
  {
   "cell_type": "code",
   "execution_count": 46,
   "metadata": {
    "slideshow": {
     "slide_type": "skip"
    }
   },
   "outputs": [],
   "source": [
    "def find_flavor(text, flvorList, stemmer):\n",
    "    \n",
    "    # Remove stopwords using `stopwords_list`\n",
    "    # your code here\n",
    "    preprocess = [stemmer.lemmatize(word)for word in flvorList]\n",
    "\n",
    "    flavor = [word for word in text if word in preprocess]\n",
    "    \n",
    "    \n",
    "    # Return the preprocessed text\n",
    "    # your code here\n",
    "    return flavor"
   ]
  },
  {
   "cell_type": "code",
   "execution_count": 47,
   "metadata": {
    "slideshow": {
     "slide_type": "skip"
    }
   },
   "outputs": [],
   "source": [
    "cleaned_df['preprocessed_comment'] = cleaned_df[\"preprocessed_blind_assessment\"] + cleaned_df[\"preprocessed_bottom_line\"] "
   ]
  },
  {
   "cell_type": "code",
   "execution_count": 48,
   "metadata": {
    "slideshow": {
     "slide_type": "skip"
    }
   },
   "outputs": [],
   "source": [
    "cleaned_df['taste_like'] =  cleaned_df[\"preprocessed_comment\"].apply(lambda x: find_flavor(x, coffee_flavor_wheel_whole, stemmer))"
   ]
  },
  {
   "cell_type": "code",
   "execution_count": 49,
   "metadata": {
    "slideshow": {
     "slide_type": "skip"
    }
   },
   "outputs": [
    {
     "data": {
      "text/plain": [
       "0       [chocolate, cherry, grapefruit, cherry, fruit,...\n",
       "1       [chocolate, grapefruit, hazelnut, syrup, choco...\n",
       "2       [sweet, fruit, pomegranate, chocolate, almond,...\n",
       "3                                  [sweet, sugar, floral]\n",
       "4       [honey, fruit, vanilla, floral, sweet, sweet, ...\n",
       "                              ...                        \n",
       "1545                [sweet, orange, chocolate, chocolate]\n",
       "1546    [sweet, fruit, blueberry, blueberry, smoky, fr...\n",
       "1547    [spice, grapefruit, almond, pear, fruit, spice...\n",
       "1548    [sweet, peach, hazelnut, sweet, peach, hazelnu...\n",
       "1549    [chocolate, cinnamon, roasted, cocoa, spice, c...\n",
       "Name: taste_like, Length: 1278, dtype: object"
      ]
     },
     "execution_count": 49,
     "metadata": {},
     "output_type": "execute_result"
    }
   ],
   "source": [
    "cleaned_df['taste_like']"
   ]
  },
  {
   "cell_type": "markdown",
   "metadata": {
    "slideshow": {
     "slide_type": "skip"
    }
   },
   "source": [
    "### 3.24 Da-Double Check Cleaned Data <a class=\"anchor\" id=\"Da-Double-Check-Cleaned-Data\"></a>"
   ]
  },
  {
   "cell_type": "code",
   "execution_count": 50,
   "metadata": {
    "slideshow": {
     "slide_type": "skip"
    }
   },
   "outputs": [
    {
     "name": "stdout",
     "output_type": "stream",
     "text": [
      "<class 'pandas.core.frame.DataFrame'>\n",
      "Int64Index: 1278 entries, 0 to 1549\n",
      "Data columns (total 32 columns):\n",
      " #   Column                           Non-Null Count  Dtype  \n",
      "---  ------                           --------------  -----  \n",
      " 0   Unnamed: 0                       1278 non-null   int64  \n",
      " 1   coffee_score                     1278 non-null   int64  \n",
      " 2   coffee_roaster_name              1278 non-null   string \n",
      " 3   coffee_bean_name                 1278 non-null   string \n",
      " 4   roaster_location                 1278 non-null   string \n",
      " 5   coffee_origin                    1278 non-null   string \n",
      " 6   roast_level                      1278 non-null   string \n",
      " 7   agtron                           1278 non-null   string \n",
      " 8   estimate_price                   1278 non-null   string \n",
      " 9   review_date                      1278 non-null   string \n",
      " 10  aroma                            1278 non-null   int64  \n",
      " 11  acidity_or_structure             1278 non-null   int64  \n",
      " 12  body                             1278 non-null   int64  \n",
      " 13  flavor                           1278 non-null   int64  \n",
      " 14  aftertaste                       1278 non-null   int64  \n",
      " 15  blind_assessment                 1278 non-null   string \n",
      " 16  notes                            1278 non-null   string \n",
      " 17  bottom_line                      1278 non-null   string \n",
      " 18  bean_type                        1278 non-null   string \n",
      " 19  min_agtron                       1278 non-null   int64  \n",
      " 20  max_agtron                       1278 non-null   int64  \n",
      " 21  agtron_difference                1278 non-null   int64  \n",
      " 22  estimate_price_USD               1278 non-null   float64\n",
      " 23  estimate_price_ounces            1278 non-null   float64\n",
      " 24  estimate_price_USD_per_6ounces   1278 non-null   float64\n",
      " 25  best_value                       1278 non-null   float64\n",
      " 26  preprocessed_blind_assessment    1278 non-null   object \n",
      " 27  preprocessed_bottom_line         1278 non-null   object \n",
      " 28  preprocessed_notes               1278 non-null   object \n",
      " 29  joined_preprocessed_bottom_line  1278 non-null   object \n",
      " 30  preprocessed_comment             1278 non-null   object \n",
      " 31  taste_like                       1278 non-null   object \n",
      "dtypes: float64(4), int64(10), object(6), string(12)\n",
      "memory usage: 329.5+ KB\n"
     ]
    }
   ],
   "source": [
    "cleaned_df.info()"
   ]
  },
  {
   "cell_type": "markdown",
   "metadata": {
    "slideshow": {
     "slide_type": "skip"
    }
   },
   "source": [
    "### 3.25 Split Training and Testing Data <a class=\"anchor\" id=\"Split-Training-and-Testing-Data\"></a>"
   ]
  },
  {
   "cell_type": "markdown",
   "metadata": {
    "slideshow": {
     "slide_type": "slide"
    }
   },
   "source": [
    "<div style=\"color:white;\n",
    "           display:fill;\n",
    "           border-radius:5px;\n",
    "           background-color:#5642C5;\n",
    "           font-size:200%;\n",
    "           font-family:Arial;letter-spacing:0.5px\">\n",
    "\n",
    "<p width = 20%, style=\"padding: 10px;\n",
    "              color:white;\">\n",
    "Step 4: Perform Exploratory Analysis with Statistics <a class=\"anchor\" id=\"Perform-Exploratory-Analysis-with-Statistics\"></a>\n",
    "</p>\n",
    "</div>"
   ]
  },
  {
   "cell_type": "code",
   "execution_count": 51,
   "metadata": {
    "slideshow": {
     "slide_type": "skip"
    }
   },
   "outputs": [],
   "source": [
    "number_columns = ['coffee_score', 'aroma','acidity_or_structure','body','flavor','aftertaste','estimate_price_USD_per_6ounces','best_value','agtron_difference']"
   ]
  },
  {
   "cell_type": "code",
   "execution_count": 52,
   "metadata": {
    "slideshow": {
     "slide_type": "skip"
    }
   },
   "outputs": [
    {
     "data": {
      "application/vnd.jupyter.widget-view+json": {
       "model_id": "231dcdf1c05f4df081493d622082a076",
       "version_major": 2,
       "version_minor": 0
      },
      "text/plain": [
       "SelectMultiple(description='columns:', index=(0, 1, 2, 3, 4, 5, 6, 7, 8), options=('coffee_score', 'aroma', 'a…"
      ]
     },
     "metadata": {},
     "output_type": "display_data"
    }
   ],
   "source": [
    "number_columns_widget = widgets.SelectMultiple(\n",
    "    options=number_columns,\n",
    "    value=number_columns,\n",
    "    #rows=10,\n",
    "    description='columns:',\n",
    "    disabled=False\n",
    ")\n",
    "number_columns_widget"
   ]
  },
  {
   "cell_type": "code",
   "execution_count": 53,
   "metadata": {
    "scrolled": false,
    "slideshow": {
     "slide_type": "skip"
    }
   },
   "outputs": [],
   "source": [
    "\n",
    "def corr_heat_map(columns=number_columns_widget):\n",
    "    columns = list(columns)\n",
    "    df = cleaned_df[columns]\n",
    "    plt.figure(figsize = (16, 12))\n",
    "    sns.set(style=\"white\")\n",
    "    sns.heatmap(df.corr(), annot = True)\n",
    "\n",
    "\n",
    "    plt.title('Correlation Matrix for Features')\n",
    "    plt.show()"
   ]
  },
  {
   "cell_type": "code",
   "execution_count": 54,
   "metadata": {
    "slideshow": {
     "slide_type": "subslide"
    }
   },
   "outputs": [],
   "source": [
    "#interact(corr_heat_map,columns=number_columns_widget);"
   ]
  },
  {
   "cell_type": "code",
   "execution_count": 55,
   "metadata": {
    "slideshow": {
     "slide_type": "skip"
    }
   },
   "outputs": [],
   "source": [
    "\n",
    "def categorical_count(columns = categorical_widget):\n",
    "    sns.set(style=\"darkgrid\")\n",
    "    ax = sns.countplot(x=columns, data=cleaned_df, palette=\"Set2\")"
   ]
  },
  {
   "cell_type": "code",
   "execution_count": 56,
   "metadata": {
    "slideshow": {
     "slide_type": "subslide"
    }
   },
   "outputs": [],
   "source": [
    "#interact(categorical_count, columns = categorical_widget);"
   ]
  },
  {
   "cell_type": "code",
   "execution_count": 57,
   "metadata": {
    "slideshow": {
     "slide_type": "skip"
    }
   },
   "outputs": [],
   "source": [
    "def categorical_line(num_columns = number_columns_widget):\n",
    "    sns.set(style=\"darkgrid\")\n",
    "    ax = sns.lineplot(x=num_columns[1], y=num_columns[0], data=cleaned_df)"
   ]
  },
  {
   "cell_type": "code",
   "execution_count": 58,
   "metadata": {
    "slideshow": {
     "slide_type": "subslide"
    }
   },
   "outputs": [],
   "source": [
    "#interact(categorical_line, num_columns = number_columns_widget);"
   ]
  },
  {
   "cell_type": "code",
   "execution_count": 59,
   "metadata": {
    "slideshow": {
     "slide_type": "skip"
    }
   },
   "outputs": [],
   "source": [
    "\n",
    "def categorical_box(cat_columns = categorical_widget, num_columns = number_columns_widget):\n",
    "    sns.set(style=\"darkgrid\")\n",
    "    ax = sns.catplot(x=cat_columns, y=num_columns[0], kind=\"box\", data=cleaned_df, height=8.27, aspect=11.7/8.27)"
   ]
  },
  {
   "cell_type": "code",
   "execution_count": 85,
   "metadata": {
    "slideshow": {
     "slide_type": "subslide"
    }
   },
   "outputs": [
    {
     "data": {
      "application/vnd.jupyter.widget-view+json": {
       "model_id": "803c5146ad2d48248ea78350cfba0fb7",
       "version_major": 2,
       "version_minor": 0
      },
      "text/plain": [
       "interactive(children=(ToggleButtons(description='cat_columns', options=('roast_level', 'bean_type'), tooltips=…"
      ]
     },
     "metadata": {},
     "output_type": "display_data"
    }
   ],
   "source": [
    "interact(categorical_box,cat_columns = categorical_widget, num_columns = number_columns_widget);"
   ]
  },
  {
   "cell_type": "markdown",
   "metadata": {
    "slideshow": {
     "slide_type": "skip"
    }
   },
   "source": [
    "# Step 5: Model Data <a class=\"anchor\" id=\"Model-Data\"></a>"
   ]
  },
  {
   "cell_type": "code",
   "execution_count": 61,
   "metadata": {
    "slideshow": {
     "slide_type": "skip"
    }
   },
   "outputs": [
    {
     "name": "stdout",
     "output_type": "stream",
     "text": [
      "<class 'pandas.core.frame.DataFrame'>\n",
      "Int64Index: 1278 entries, 0 to 1549\n",
      "Data columns (total 32 columns):\n",
      " #   Column                           Non-Null Count  Dtype  \n",
      "---  ------                           --------------  -----  \n",
      " 0   Unnamed: 0                       1278 non-null   int64  \n",
      " 1   coffee_score                     1278 non-null   int64  \n",
      " 2   coffee_roaster_name              1278 non-null   string \n",
      " 3   coffee_bean_name                 1278 non-null   string \n",
      " 4   roaster_location                 1278 non-null   string \n",
      " 5   coffee_origin                    1278 non-null   string \n",
      " 6   roast_level                      1278 non-null   string \n",
      " 7   agtron                           1278 non-null   string \n",
      " 8   estimate_price                   1278 non-null   string \n",
      " 9   review_date                      1278 non-null   string \n",
      " 10  aroma                            1278 non-null   int64  \n",
      " 11  acidity_or_structure             1278 non-null   int64  \n",
      " 12  body                             1278 non-null   int64  \n",
      " 13  flavor                           1278 non-null   int64  \n",
      " 14  aftertaste                       1278 non-null   int64  \n",
      " 15  blind_assessment                 1278 non-null   string \n",
      " 16  notes                            1278 non-null   string \n",
      " 17  bottom_line                      1278 non-null   string \n",
      " 18  bean_type                        1278 non-null   string \n",
      " 19  min_agtron                       1278 non-null   int64  \n",
      " 20  max_agtron                       1278 non-null   int64  \n",
      " 21  agtron_difference                1278 non-null   int64  \n",
      " 22  estimate_price_USD               1278 non-null   float64\n",
      " 23  estimate_price_ounces            1278 non-null   float64\n",
      " 24  estimate_price_USD_per_6ounces   1278 non-null   float64\n",
      " 25  best_value                       1278 non-null   float64\n",
      " 26  preprocessed_blind_assessment    1278 non-null   object \n",
      " 27  preprocessed_bottom_line         1278 non-null   object \n",
      " 28  preprocessed_notes               1278 non-null   object \n",
      " 29  joined_preprocessed_bottom_line  1278 non-null   object \n",
      " 30  preprocessed_comment             1278 non-null   object \n",
      " 31  taste_like                       1278 non-null   object \n",
      "dtypes: float64(4), int64(10), object(6), string(12)\n",
      "memory usage: 329.5+ KB\n"
     ]
    }
   ],
   "source": [
    "cleaned_df.info()"
   ]
  },
  {
   "cell_type": "code",
   "execution_count": 62,
   "metadata": {
    "slideshow": {
     "slide_type": "skip"
    }
   },
   "outputs": [
    {
     "data": {
      "text/html": [
       "<table class=\"simpletable\">\n",
       "<caption>OLS Regression Results</caption>\n",
       "<tr>\n",
       "  <th>Dep. Variable:</th>      <td>coffee_score</td>   <th>  R-squared:         </th> <td>   0.997</td> \n",
       "</tr>\n",
       "<tr>\n",
       "  <th>Model:</th>                   <td>OLS</td>       <th>  Adj. R-squared:    </th> <td>   0.997</td> \n",
       "</tr>\n",
       "<tr>\n",
       "  <th>Method:</th>             <td>Least Squares</td>  <th>  F-statistic:       </th> <td>8.093e+04</td>\n",
       "</tr>\n",
       "<tr>\n",
       "  <th>Date:</th>             <td>Sun, 06 Nov 2022</td> <th>  Prob (F-statistic):</th>  <td>  0.00</td>  \n",
       "</tr>\n",
       "<tr>\n",
       "  <th>Time:</th>                 <td>15:48:00</td>     <th>  Log-Likelihood:    </th> <td>  1289.6</td> \n",
       "</tr>\n",
       "<tr>\n",
       "  <th>No. Observations:</th>      <td>  1278</td>      <th>  AIC:               </th> <td>  -2565.</td> \n",
       "</tr>\n",
       "<tr>\n",
       "  <th>Df Residuals:</th>          <td>  1271</td>      <th>  BIC:               </th> <td>  -2529.</td> \n",
       "</tr>\n",
       "<tr>\n",
       "  <th>Df Model:</th>              <td>     6</td>      <th>                     </th>     <td> </td>    \n",
       "</tr>\n",
       "<tr>\n",
       "  <th>Covariance Type:</th>      <td>nonrobust</td>    <th>                     </th>     <td> </td>    \n",
       "</tr>\n",
       "</table>\n",
       "<table class=\"simpletable\">\n",
       "<tr>\n",
       "                 <td></td>                   <th>coef</th>     <th>std err</th>      <th>t</th>      <th>P>|t|</th>  <th>[0.025</th>    <th>0.975]</th>  \n",
       "</tr>\n",
       "<tr>\n",
       "  <th>Intercept</th>                      <td>   50.1578</td> <td>    0.071</td> <td>  707.370</td> <td> 0.000</td> <td>   50.019</td> <td>   50.297</td>\n",
       "</tr>\n",
       "<tr>\n",
       "  <th>aroma</th>                          <td>    1.0001</td> <td>    0.007</td> <td>  142.206</td> <td> 0.000</td> <td>    0.986</td> <td>    1.014</td>\n",
       "</tr>\n",
       "<tr>\n",
       "  <th>acidity_or_structure</th>           <td>    1.0016</td> <td>    0.005</td> <td>  186.229</td> <td> 0.000</td> <td>    0.991</td> <td>    1.012</td>\n",
       "</tr>\n",
       "<tr>\n",
       "  <th>body</th>                           <td>    0.9933</td> <td>    0.005</td> <td>  184.864</td> <td> 0.000</td> <td>    0.983</td> <td>    1.004</td>\n",
       "</tr>\n",
       "<tr>\n",
       "  <th>flavor</th>                         <td>    0.9943</td> <td>    0.009</td> <td>  115.051</td> <td> 0.000</td> <td>    0.977</td> <td>    1.011</td>\n",
       "</tr>\n",
       "<tr>\n",
       "  <th>aftertaste</th>                     <td>    0.9921</td> <td>    0.006</td> <td>  162.305</td> <td> 0.000</td> <td>    0.980</td> <td>    1.004</td>\n",
       "</tr>\n",
       "<tr>\n",
       "  <th>estimate_price_USD_per_6ounces</th> <td> 8.233e-05</td> <td>    0.000</td> <td>    0.542</td> <td> 0.588</td> <td>   -0.000</td> <td>    0.000</td>\n",
       "</tr>\n",
       "</table>\n",
       "<table class=\"simpletable\">\n",
       "<tr>\n",
       "  <th>Omnibus:</th>       <td>969.584</td> <th>  Durbin-Watson:     </th>  <td>   1.998</td> \n",
       "</tr>\n",
       "<tr>\n",
       "  <th>Prob(Omnibus):</th> <td> 0.000</td>  <th>  Jarque-Bera (JB):  </th> <td>812127.908</td>\n",
       "</tr>\n",
       "<tr>\n",
       "  <th>Skew:</th>          <td> 2.168</td>  <th>  Prob(JB):          </th>  <td>    0.00</td> \n",
       "</tr>\n",
       "<tr>\n",
       "  <th>Kurtosis:</th>      <td>126.420</td> <th>  Cond. No.          </th>  <td>    794.</td> \n",
       "</tr>\n",
       "</table><br/><br/>Notes:<br/>[1] Standard Errors assume that the covariance matrix of the errors is correctly specified."
      ],
      "text/plain": [
       "<class 'statsmodels.iolib.summary.Summary'>\n",
       "\"\"\"\n",
       "                            OLS Regression Results                            \n",
       "==============================================================================\n",
       "Dep. Variable:           coffee_score   R-squared:                       0.997\n",
       "Model:                            OLS   Adj. R-squared:                  0.997\n",
       "Method:                 Least Squares   F-statistic:                 8.093e+04\n",
       "Date:                Sun, 06 Nov 2022   Prob (F-statistic):               0.00\n",
       "Time:                        15:48:00   Log-Likelihood:                 1289.6\n",
       "No. Observations:                1278   AIC:                            -2565.\n",
       "Df Residuals:                    1271   BIC:                            -2529.\n",
       "Df Model:                           6                                         \n",
       "Covariance Type:            nonrobust                                         \n",
       "==================================================================================================\n",
       "                                     coef    std err          t      P>|t|      [0.025      0.975]\n",
       "--------------------------------------------------------------------------------------------------\n",
       "Intercept                         50.1578      0.071    707.370      0.000      50.019      50.297\n",
       "aroma                              1.0001      0.007    142.206      0.000       0.986       1.014\n",
       "acidity_or_structure               1.0016      0.005    186.229      0.000       0.991       1.012\n",
       "body                               0.9933      0.005    184.864      0.000       0.983       1.004\n",
       "flavor                             0.9943      0.009    115.051      0.000       0.977       1.011\n",
       "aftertaste                         0.9921      0.006    162.305      0.000       0.980       1.004\n",
       "estimate_price_USD_per_6ounces  8.233e-05      0.000      0.542      0.588      -0.000       0.000\n",
       "==============================================================================\n",
       "Omnibus:                      969.584   Durbin-Watson:                   1.998\n",
       "Prob(Omnibus):                  0.000   Jarque-Bera (JB):           812127.908\n",
       "Skew:                           2.168   Prob(JB):                         0.00\n",
       "Kurtosis:                     126.420   Cond. No.                         794.\n",
       "==============================================================================\n",
       "\n",
       "Notes:\n",
       "[1] Standard Errors assume that the covariance matrix of the errors is correctly specified.\n",
       "\"\"\""
      ]
     },
     "execution_count": 62,
     "metadata": {},
     "output_type": "execute_result"
    }
   ],
   "source": [
    "from statsmodels.formula.api import ols\n",
    "f = 'coffee_score~aroma+acidity_or_structure+body+flavor+aftertaste+estimate_price_USD_per_6ounces'\n",
    "model = ols(formula=f, data=cleaned_df).fit()\n",
    "model.summary()"
   ]
  },
  {
   "cell_type": "code",
   "execution_count": 63,
   "metadata": {
    "slideshow": {
     "slide_type": "skip"
    }
   },
   "outputs": [
    {
     "data": {
      "text/html": [
       "<table class=\"simpletable\">\n",
       "<caption>OLS Regression Results</caption>\n",
       "<tr>\n",
       "  <th>Dep. Variable:</th>    <td>estimate_price_USD_per_6ounces</td> <th>  R-squared:         </th> <td>   0.137</td> \n",
       "</tr>\n",
       "<tr>\n",
       "  <th>Model:</th>                          <td>OLS</td>              <th>  Adj. R-squared:    </th> <td>   0.133</td> \n",
       "</tr>\n",
       "<tr>\n",
       "  <th>Method:</th>                    <td>Least Squares</td>         <th>  F-statistic:       </th> <td>   33.62</td> \n",
       "</tr>\n",
       "<tr>\n",
       "  <th>Date:</th>                    <td>Sun, 06 Nov 2022</td>        <th>  Prob (F-statistic):</th> <td>8.52e-38</td> \n",
       "</tr>\n",
       "<tr>\n",
       "  <th>Time:</th>                        <td>15:48:00</td>            <th>  Log-Likelihood:    </th> <td> -5380.1</td> \n",
       "</tr>\n",
       "<tr>\n",
       "  <th>No. Observations:</th>             <td>  1278</td>             <th>  AIC:               </th> <td>1.077e+04</td>\n",
       "</tr>\n",
       "<tr>\n",
       "  <th>Df Residuals:</th>                 <td>  1271</td>             <th>  BIC:               </th> <td>1.081e+04</td>\n",
       "</tr>\n",
       "<tr>\n",
       "  <th>Df Model:</th>                     <td>     6</td>             <th>                     </th>     <td> </td>    \n",
       "</tr>\n",
       "<tr>\n",
       "  <th>Covariance Type:</th>             <td>nonrobust</td>           <th>                     </th>     <td> </td>    \n",
       "</tr>\n",
       "</table>\n",
       "<table class=\"simpletable\">\n",
       "<tr>\n",
       "            <td></td>              <th>coef</th>     <th>std err</th>      <th>t</th>      <th>P>|t|</th>  <th>[0.025</th>    <th>0.975]</th>  \n",
       "</tr>\n",
       "<tr>\n",
       "  <th>Intercept</th>            <td> -284.5069</td> <td>  260.092</td> <td>   -1.094</td> <td> 0.274</td> <td> -794.764</td> <td>  225.750</td>\n",
       "</tr>\n",
       "<tr>\n",
       "  <th>aroma</th>                <td>   -1.8451</td> <td>    5.342</td> <td>   -0.345</td> <td> 0.730</td> <td>  -12.326</td> <td>    8.635</td>\n",
       "</tr>\n",
       "<tr>\n",
       "  <th>acidity_or_structure</th> <td>   -0.0817</td> <td>    5.284</td> <td>   -0.015</td> <td> 0.988</td> <td>  -10.448</td> <td>   10.284</td>\n",
       "</tr>\n",
       "<tr>\n",
       "  <th>body</th>                 <td>   -1.0630</td> <td>    5.241</td> <td>   -0.203</td> <td> 0.839</td> <td>  -11.345</td> <td>    9.219</td>\n",
       "</tr>\n",
       "<tr>\n",
       "  <th>flavor</th>               <td>    3.7091</td> <td>    5.393</td> <td>    0.688</td> <td> 0.492</td> <td>   -6.870</td> <td>   14.289</td>\n",
       "</tr>\n",
       "<tr>\n",
       "  <th>aftertaste</th>           <td>    3.9155</td> <td>    5.262</td> <td>    0.744</td> <td> 0.457</td> <td>   -6.407</td> <td>   14.239</td>\n",
       "</tr>\n",
       "<tr>\n",
       "  <th>coffee_score</th>         <td>    2.8092</td> <td>    5.181</td> <td>    0.542</td> <td> 0.588</td> <td>   -7.355</td> <td>   12.973</td>\n",
       "</tr>\n",
       "</table>\n",
       "<table class=\"simpletable\">\n",
       "<tr>\n",
       "  <th>Omnibus:</th>       <td>1461.581</td> <th>  Durbin-Watson:     </th>  <td>   1.444</td> \n",
       "</tr>\n",
       "<tr>\n",
       "  <th>Prob(Omnibus):</th>  <td> 0.000</td>  <th>  Jarque-Bera (JB):  </th> <td>148300.962</td>\n",
       "</tr>\n",
       "<tr>\n",
       "  <th>Skew:</th>           <td> 5.678</td>  <th>  Prob(JB):          </th>  <td>    0.00</td> \n",
       "</tr>\n",
       "<tr>\n",
       "  <th>Kurtosis:</th>       <td>54.537</td>  <th>  Cond. No.          </th>  <td>5.41e+04</td> \n",
       "</tr>\n",
       "</table><br/><br/>Notes:<br/>[1] Standard Errors assume that the covariance matrix of the errors is correctly specified.<br/>[2] The condition number is large, 5.41e+04. This might indicate that there are<br/>strong multicollinearity or other numerical problems."
      ],
      "text/plain": [
       "<class 'statsmodels.iolib.summary.Summary'>\n",
       "\"\"\"\n",
       "                                  OLS Regression Results                                  \n",
       "==========================================================================================\n",
       "Dep. Variable:     estimate_price_USD_per_6ounces   R-squared:                       0.137\n",
       "Model:                                        OLS   Adj. R-squared:                  0.133\n",
       "Method:                             Least Squares   F-statistic:                     33.62\n",
       "Date:                            Sun, 06 Nov 2022   Prob (F-statistic):           8.52e-38\n",
       "Time:                                    15:48:00   Log-Likelihood:                -5380.1\n",
       "No. Observations:                            1278   AIC:                         1.077e+04\n",
       "Df Residuals:                                1271   BIC:                         1.081e+04\n",
       "Df Model:                                       6                                         \n",
       "Covariance Type:                        nonrobust                                         \n",
       "========================================================================================\n",
       "                           coef    std err          t      P>|t|      [0.025      0.975]\n",
       "----------------------------------------------------------------------------------------\n",
       "Intercept             -284.5069    260.092     -1.094      0.274    -794.764     225.750\n",
       "aroma                   -1.8451      5.342     -0.345      0.730     -12.326       8.635\n",
       "acidity_or_structure    -0.0817      5.284     -0.015      0.988     -10.448      10.284\n",
       "body                    -1.0630      5.241     -0.203      0.839     -11.345       9.219\n",
       "flavor                   3.7091      5.393      0.688      0.492      -6.870      14.289\n",
       "aftertaste               3.9155      5.262      0.744      0.457      -6.407      14.239\n",
       "coffee_score             2.8092      5.181      0.542      0.588      -7.355      12.973\n",
       "==============================================================================\n",
       "Omnibus:                     1461.581   Durbin-Watson:                   1.444\n",
       "Prob(Omnibus):                  0.000   Jarque-Bera (JB):           148300.962\n",
       "Skew:                           5.678   Prob(JB):                         0.00\n",
       "Kurtosis:                      54.537   Cond. No.                     5.41e+04\n",
       "==============================================================================\n",
       "\n",
       "Notes:\n",
       "[1] Standard Errors assume that the covariance matrix of the errors is correctly specified.\n",
       "[2] The condition number is large, 5.41e+04. This might indicate that there are\n",
       "strong multicollinearity or other numerical problems.\n",
       "\"\"\""
      ]
     },
     "execution_count": 63,
     "metadata": {},
     "output_type": "execute_result"
    }
   ],
   "source": [
    "from statsmodels.formula.api import ols\n",
    "f = 'estimate_price_USD_per_6ounces~aroma+acidity_or_structure+body+flavor+aftertaste+coffee_score'\n",
    "model = ols(formula=f, data=cleaned_df).fit()\n",
    "model.summary()"
   ]
  },
  {
   "cell_type": "code",
   "execution_count": 87,
   "metadata": {},
   "outputs": [],
   "source": [
    "from sklearn.feature_extraction.text import CountVectorizer\n",
    "cv = CountVectorizer(max_features=5000,stop_words='english')\n",
    "vector = cv.fit_transform(cleaned_df['joined_preprocessed_bottom_line']).toarray()\n"
   ]
  },
  {
   "cell_type": "code",
   "execution_count": 88,
   "metadata": {},
   "outputs": [],
   "source": [
    "from sklearn.metrics.pairwise import cosine_similarity\n",
    "similarity = cosine_similarity(vector)"
   ]
  },
  {
   "cell_type": "code",
   "execution_count": 91,
   "metadata": {},
   "outputs": [
    {
     "data": {
      "text/plain": [
       "array([[1.        , 0.        , 0.21081851, ..., 0.11111111, 0.12598816,\n",
       "        0.0860663 ],\n",
       "       [0.        , 1.        , 0.14142136, ..., 0.        , 0.        ,\n",
       "        0.        ],\n",
       "       [0.21081851, 0.14142136, 1.        , ..., 0.10540926, 0.        ,\n",
       "        0.08164966],\n",
       "       ...,\n",
       "       [0.11111111, 0.        , 0.10540926, ..., 1.        , 0.        ,\n",
       "        0.17213259],\n",
       "       [0.12598816, 0.        , 0.        , ..., 0.        , 1.        ,\n",
       "        0.        ],\n",
       "       [0.0860663 , 0.        , 0.08164966, ..., 0.17213259, 0.        ,\n",
       "        1.        ]])"
      ]
     },
     "execution_count": 91,
     "metadata": {},
     "output_type": "execute_result"
    }
   ],
   "source": [
    "similarity"
   ]
  },
  {
   "cell_type": "code",
   "execution_count": 95,
   "metadata": {},
   "outputs": [
    {
     "data": {
      "text/plain": [
       "97"
      ]
     },
     "execution_count": 95,
     "metadata": {},
     "output_type": "execute_result"
    }
   ],
   "source": [
    "cleaned_df[cleaned_df['coffee_roaster_name'] == 'Red Rooster Coffee Roaster'].index[0]"
   ]
  },
  {
   "cell_type": "code",
   "execution_count": 96,
   "metadata": {},
   "outputs": [],
   "source": [
    "def recommend(coffee):\n",
    "    index = cleaned_df[cleaned_df['coffee_roaster_name'] == coffee].index[0]\n",
    "    distances = sorted(list(enumerate(similarity[index])),reverse=True,key = lambda x: x[1])\n",
    "    for i in distances[1:6]:\n",
    "        print(cleaned_df.iloc[i[0]].coffee_roaster_name)\n",
    "        "
   ]
  },
  {
   "cell_type": "code",
   "execution_count": 97,
   "metadata": {},
   "outputs": [
    {
     "name": "stdout",
     "output_type": "stream",
     "text": [
      "Folklore Coffee\n",
      "RamsHead Coffee Roasters\n",
      "Lexington Coffee Roasters\n",
      "Temple Coffee and Tea\n",
      "Peach Coffee Roasters\n"
     ]
    }
   ],
   "source": [
    "recommend('Red Rooster Coffee Roaster')"
   ]
  },
  {
   "cell_type": "markdown",
   "metadata": {
    "slideshow": {
     "slide_type": "skip"
    }
   },
   "source": [
    "## 5.1 Evaluate Model Performance <a class=\"anchor\" id=\"Evaluate-Model-Performance\"></a>"
   ]
  },
  {
   "cell_type": "markdown",
   "metadata": {
    "slideshow": {
     "slide_type": "skip"
    }
   },
   "source": [
    "### 5.11 Model Performance with Cross-Validation (CV) <a class=\"anchor\" id=\"CV\"></a>"
   ]
  },
  {
   "cell_type": "markdown",
   "metadata": {
    "slideshow": {
     "slide_type": "skip"
    }
   },
   "source": [
    "### 5.12 Tune Model with Hyper-Parameters <a class=\"anchor\" id=\"Tune-Model-with-Hyper-Parameters\"></a>"
   ]
  },
  {
   "cell_type": "markdown",
   "metadata": {
    "slideshow": {
     "slide_type": "skip"
    }
   },
   "source": [
    "### 5.13 Tune Model with Feature Selection <a class=\"anchor\" id=\"Tune-Model-with-Feature-Selection\"></a>"
   ]
  },
  {
   "cell_type": "markdown",
   "metadata": {
    "slideshow": {
     "slide_type": "skip"
    }
   },
   "source": [
    "# Step 6: Validate and Implement <a class=\"anchor\" id=\"Validate-and-Implement\"></a>"
   ]
  },
  {
   "cell_type": "code",
   "execution_count": 64,
   "metadata": {
    "slideshow": {
     "slide_type": "skip"
    }
   },
   "outputs": [
    {
     "data": {
      "application/vnd.jupyter.widget-view+json": {
       "model_id": "0a840c96292048699fd5025f379fc6a3",
       "version_major": 2,
       "version_minor": 0
      },
      "text/plain": [
       "IntRangeSlider(value=(7, 10), continuous_update=False, description='aroma:', max=10, min=7)"
      ]
     },
     "metadata": {},
     "output_type": "display_data"
    }
   ],
   "source": [
    "aroma_widget = widgets.IntRangeSlider(\n",
    "    value=[cleaned_df.aroma.unique().min(),cleaned_df.aroma.unique().max()],\n",
    "    min=cleaned_df.aroma.unique().min(),\n",
    "    max=cleaned_df.aroma.unique().max(),\n",
    "    step=1,\n",
    "    description='aroma:',\n",
    "    disabled=False,\n",
    "    continuous_update=False,\n",
    "    orientation='horizontal',\n",
    "    readout=True,\n",
    "    readout_format='d',\n",
    ")\n",
    "aroma_widget"
   ]
  },
  {
   "cell_type": "code",
   "execution_count": 65,
   "metadata": {
    "slideshow": {
     "slide_type": "skip"
    }
   },
   "outputs": [
    {
     "data": {
      "application/vnd.jupyter.widget-view+json": {
       "model_id": "2f5292ebad644b6093eccd366bea670b",
       "version_major": 2,
       "version_minor": 0
      },
      "text/plain": [
       "IntRangeSlider(value=(6, 10), continuous_update=False, description='acidity/structure:', max=10, min=6, style=…"
      ]
     },
     "metadata": {},
     "output_type": "display_data"
    }
   ],
   "source": [
    "acidity_or_structure_widget = widgets.IntRangeSlider(\n",
    "    value=[cleaned_df.acidity_or_structure.unique().min(),cleaned_df.acidity_or_structure.unique().max()],\n",
    "    min=cleaned_df.acidity_or_structure.unique().min(),\n",
    "    max=cleaned_df.acidity_or_structure.unique().max(),\n",
    "    step=1,\n",
    "    description='acidity/structure:',\n",
    "    style= {'description_width': 'initial'},\n",
    "    disabled=False,\n",
    "    continuous_update=False,\n",
    "    orientation='horizontal',\n",
    "    readout=True,\n",
    "    readout_format='d',\n",
    ")\n",
    "acidity_or_structure_widget"
   ]
  },
  {
   "cell_type": "code",
   "execution_count": 66,
   "metadata": {
    "slideshow": {
     "slide_type": "skip"
    }
   },
   "outputs": [
    {
     "data": {
      "application/vnd.jupyter.widget-view+json": {
       "model_id": "16c8686b337f46b1b3559230fe4afed6",
       "version_major": 2,
       "version_minor": 0
      },
      "text/plain": [
       "IntRangeSlider(value=(7, 10), continuous_update=False, description='body:', max=10, min=7)"
      ]
     },
     "metadata": {},
     "output_type": "display_data"
    }
   ],
   "source": [
    "body_widget = widgets.IntRangeSlider(\n",
    "    value=[cleaned_df.body.unique().min(),cleaned_df.body.unique().max()],\n",
    "    min=cleaned_df.body.unique().min(),\n",
    "    max=cleaned_df.body.unique().max(),\n",
    "    step=1,\n",
    "    description='body:',\n",
    "    disabled=False,\n",
    "    continuous_update=False,\n",
    "    orientation='horizontal',\n",
    "    readout=True,\n",
    "    readout_format='d',\n",
    ")\n",
    "body_widget"
   ]
  },
  {
   "cell_type": "code",
   "execution_count": 67,
   "metadata": {
    "slideshow": {
     "slide_type": "skip"
    }
   },
   "outputs": [
    {
     "data": {
      "application/vnd.jupyter.widget-view+json": {
       "model_id": "537716773453468796b64374a0ebb08f",
       "version_major": 2,
       "version_minor": 0
      },
      "text/plain": [
       "IntRangeSlider(value=(7, 10), continuous_update=False, description='flavor:', max=10, min=7)"
      ]
     },
     "metadata": {},
     "output_type": "display_data"
    }
   ],
   "source": [
    "flavor_widget = widgets.IntRangeSlider(\n",
    "    value=[cleaned_df.flavor.unique().min(),cleaned_df.flavor.unique().max()],\n",
    "    min=cleaned_df.flavor.unique().min(),\n",
    "    max=cleaned_df.flavor.unique().max(),\n",
    "    step=1,\n",
    "    description='flavor:',\n",
    "    disabled=False,\n",
    "    continuous_update=False,\n",
    "    orientation='horizontal',\n",
    "    readout=True,\n",
    "    readout_format='d',\n",
    ")\n",
    "flavor_widget"
   ]
  },
  {
   "cell_type": "code",
   "execution_count": 68,
   "metadata": {
    "slideshow": {
     "slide_type": "skip"
    }
   },
   "outputs": [
    {
     "data": {
      "application/vnd.jupyter.widget-view+json": {
       "model_id": "a52fd752e1cb445ab9f4ee6c23149522",
       "version_major": 2,
       "version_minor": 0
      },
      "text/plain": [
       "IntRangeSlider(value=(6, 9), continuous_update=False, description='aftertaste:', max=9, min=6)"
      ]
     },
     "metadata": {},
     "output_type": "display_data"
    }
   ],
   "source": [
    "aftertaste_widget = widgets.IntRangeSlider(\n",
    "    value=[cleaned_df.aftertaste.unique().min(),cleaned_df.aftertaste.unique().max()],\n",
    "    min=cleaned_df.aftertaste.unique().min(),\n",
    "    max=cleaned_df.aftertaste.unique().max(),\n",
    "    step=1,\n",
    "    description='aftertaste:',\n",
    "    disabled=False,\n",
    "    continuous_update=False,\n",
    "    orientation='horizontal',\n",
    "    readout=True,\n",
    "    readout_format='d',\n",
    ")\n",
    "aftertaste_widget"
   ]
  },
  {
   "cell_type": "code",
   "execution_count": 69,
   "metadata": {
    "slideshow": {
     "slide_type": "skip"
    }
   },
   "outputs": [
    {
     "data": {
      "application/vnd.jupyter.widget-view+json": {
       "model_id": "62f0b9a1998b48e0a89c1ac5aa0e98f8",
       "version_major": 2,
       "version_minor": 0
      },
      "text/plain": [
       "FloatRangeSlider(value=(1.5, 225.0), continuous_update=False, description='price_range:', max=225.0, min=1.5, …"
      ]
     },
     "metadata": {},
     "output_type": "display_data"
    }
   ],
   "source": [
    "price_widget = widgets.FloatRangeSlider(\n",
    "    value=[cleaned_df.estimate_price_USD_per_6ounces.unique().min(),cleaned_df.estimate_price_USD_per_6ounces.unique().max()],\n",
    "    min=cleaned_df.estimate_price_USD_per_6ounces.unique().min(),\n",
    "    max=cleaned_df.estimate_price_USD_per_6ounces.unique().max(),\n",
    "    step=0.1,\n",
    "    description='price_range:',\n",
    "    disabled=False,\n",
    "    continuous_update=False,\n",
    "    style= {'description_width': 'initial'},\n",
    "    orientation='horizontal',\n",
    "    readout=True,\n",
    "    readout_format='.1f',\n",
    ")\n",
    "price_widget"
   ]
  },
  {
   "cell_type": "code",
   "execution_count": 70,
   "metadata": {
    "slideshow": {
     "slide_type": "skip"
    }
   },
   "outputs": [],
   "source": [
    "bean_type_stringarray = []\n",
    "for string in cleaned_df.bean_type.unique():\n",
    "    bean_type_stringarray.append(string)"
   ]
  },
  {
   "cell_type": "code",
   "execution_count": 71,
   "metadata": {
    "slideshow": {
     "slide_type": "skip"
    }
   },
   "outputs": [
    {
     "data": {
      "application/vnd.jupyter.widget-view+json": {
       "model_id": "4720fc4709f541bebeb483d2e0e43fe3",
       "version_major": 2,
       "version_minor": 0
      },
      "text/plain": [
       "SelectMultiple(description='bean type', index=(0, 1), options=('arabica', 'robusta'), value=('arabica', 'robus…"
      ]
     },
     "metadata": {},
     "output_type": "display_data"
    }
   ],
   "source": [
    "bean_type_widget = widgets.SelectMultiple(\n",
    "    options=bean_type_stringarray,\n",
    "    value=bean_type_stringarray,\n",
    "    #rows=10,\n",
    "    description='bean type',\n",
    "    disabled=False\n",
    ")\n",
    "bean_type_widget"
   ]
  },
  {
   "cell_type": "code",
   "execution_count": 72,
   "metadata": {
    "slideshow": {
     "slide_type": "skip"
    }
   },
   "outputs": [],
   "source": [
    "roast_level_stringarray = []\n",
    "for string in cleaned_df.roast_level.unique():\n",
    "    roast_level_stringarray.append(string)"
   ]
  },
  {
   "cell_type": "code",
   "execution_count": 73,
   "metadata": {
    "slideshow": {
     "slide_type": "skip"
    }
   },
   "outputs": [
    {
     "data": {
      "application/vnd.jupyter.widget-view+json": {
       "model_id": "1c19e540b30f4e8bb6410c4132bd2713",
       "version_major": 2,
       "version_minor": 0
      },
      "text/plain": [
       "SelectMultiple(description='bean type', index=(0, 1, 2, 3, 4), options=('Medium-Light', 'Light', 'Medium', 'Me…"
      ]
     },
     "metadata": {},
     "output_type": "display_data"
    }
   ],
   "source": [
    "roast_level_widget = widgets.SelectMultiple(\n",
    "    options=roast_level_stringarray,\n",
    "    value=roast_level_stringarray,\n",
    "    #rows=10,\n",
    "    description='bean type',\n",
    "    disabled=False\n",
    ")\n",
    "roast_level_widget"
   ]
  },
  {
   "cell_type": "code",
   "execution_count": 74,
   "metadata": {
    "slideshow": {
     "slide_type": "skip"
    }
   },
   "outputs": [],
   "source": [
    "df_columns_stringarray = []\n",
    "for string in cleaned_df.columns.values:\n",
    "    df_columns_stringarray.append(string)"
   ]
  },
  {
   "cell_type": "code",
   "execution_count": 84,
   "metadata": {
    "slideshow": {
     "slide_type": "skip"
    }
   },
   "outputs": [
    {
     "ename": "ValueError",
     "evalue": "list.remove(x): x not in list",
     "output_type": "error",
     "traceback": [
      "\u001b[0;31m---------------------------------------------------------------------------\u001b[0m",
      "\u001b[0;31mValueError\u001b[0m                                Traceback (most recent call last)",
      "\u001b[0;32m<ipython-input-84-d24979f12ddb>\u001b[0m in \u001b[0;36m<module>\u001b[0;34m\u001b[0m\n\u001b[0;32m----> 1\u001b[0;31m \u001b[0mdf_columns_stringarray\u001b[0m\u001b[0;34m.\u001b[0m\u001b[0mremove\u001b[0m\u001b[0;34m(\u001b[0m\u001b[0;34m\"Unnamed: 0\"\u001b[0m\u001b[0;34m)\u001b[0m\u001b[0;34m\u001b[0m\u001b[0;34m\u001b[0m\u001b[0m\n\u001b[0m\u001b[1;32m      2\u001b[0m \u001b[0mdf_columns_stringarray\u001b[0m\u001b[0;34m.\u001b[0m\u001b[0mremove\u001b[0m\u001b[0;34m(\u001b[0m\u001b[0;34m\"min_agtron\"\u001b[0m\u001b[0;34m)\u001b[0m\u001b[0;34m\u001b[0m\u001b[0;34m\u001b[0m\u001b[0m\n\u001b[1;32m      3\u001b[0m \u001b[0mdf_columns_stringarray\u001b[0m\u001b[0;34m.\u001b[0m\u001b[0mremove\u001b[0m\u001b[0;34m(\u001b[0m\u001b[0;34m\"max_agtron\"\u001b[0m\u001b[0;34m)\u001b[0m\u001b[0;34m\u001b[0m\u001b[0;34m\u001b[0m\u001b[0m\n\u001b[1;32m      4\u001b[0m \u001b[0mdf_columns_stringarray\u001b[0m\u001b[0;34m.\u001b[0m\u001b[0mremove\u001b[0m\u001b[0;34m(\u001b[0m\u001b[0;34m\"estimate_price_USD\"\u001b[0m\u001b[0;34m)\u001b[0m\u001b[0;34m\u001b[0m\u001b[0;34m\u001b[0m\u001b[0m\n\u001b[1;32m      5\u001b[0m \u001b[0mdf_columns_stringarray\u001b[0m\u001b[0;34m.\u001b[0m\u001b[0mremove\u001b[0m\u001b[0;34m(\u001b[0m\u001b[0;34m\"estimate_price_ounces\"\u001b[0m\u001b[0;34m)\u001b[0m\u001b[0;34m\u001b[0m\u001b[0;34m\u001b[0m\u001b[0m\n",
      "\u001b[0;31mValueError\u001b[0m: list.remove(x): x not in list"
     ]
    }
   ],
   "source": [
    "df_columns_stringarray.remove(\"Unnamed: 0\")\n",
    "df_columns_stringarray.remove(\"min_agtron\")\n",
    "df_columns_stringarray.remove(\"max_agtron\")\n",
    "df_columns_stringarray.remove(\"estimate_price_USD\")\n",
    "df_columns_stringarray.remove(\"estimate_price_ounces\")\n",
    "df_columns_stringarray.remove(\"preprocessed_blind_assessment\")\n",
    "df_columns_stringarray.remove(\"preprocessed_bottom_line\")\n",
    "df_columns_stringarray.remove(\"joined_preprocessed_bottom_line\")\n",
    "df_columns_stringarray.remove(\"preprocessed_comment\")\n",
    "df_columns_stringarray.remove(\"taste_like_number\")"
   ]
  },
  {
   "cell_type": "code",
   "execution_count": 76,
   "metadata": {
    "slideshow": {
     "slide_type": "skip"
    }
   },
   "outputs": [
    {
     "data": {
      "application/vnd.jupyter.widget-view+json": {
       "model_id": "e67012e54e1a4d9ebb05405989403702",
       "version_major": 2,
       "version_minor": 0
      },
      "text/plain": [
       "SelectMultiple(description='show columns', index=(0, 1, 2, 3, 4, 5, 6, 7, 8, 9, 10, 11, 12, 13, 14, 15, 16, 17…"
      ]
     },
     "metadata": {},
     "output_type": "display_data"
    }
   ],
   "source": [
    "df_columns_widget = widgets.SelectMultiple(\n",
    "    options=df_columns_stringarray,\n",
    "    value=df_columns_stringarray,\n",
    "    #rows=10,\n",
    "    description='show columns',\n",
    "    disabled=False\n",
    ")\n",
    "df_columns_widget"
   ]
  },
  {
   "cell_type": "code",
   "execution_count": 77,
   "metadata": {
    "slideshow": {
     "slide_type": "skip"
    }
   },
   "outputs": [],
   "source": [
    "taste_like_stringarray = []\n",
    "for string in cleaned_df.taste_like.values:\n",
    "    taste_like_stringarray+=string"
   ]
  },
  {
   "cell_type": "code",
   "execution_count": 78,
   "metadata": {
    "slideshow": {
     "slide_type": "skip"
    }
   },
   "outputs": [],
   "source": [
    "taste_like_stringarray = set(taste_like_stringarray)\n",
    "taste_like_stringarray = list(taste_like_stringarray)"
   ]
  },
  {
   "cell_type": "code",
   "execution_count": 79,
   "metadata": {
    "slideshow": {
     "slide_type": "skip"
    }
   },
   "outputs": [
    {
     "data": {
      "application/vnd.jupyter.widget-view+json": {
       "model_id": "53b870159e494f9388b24361cbaa74f7",
       "version_major": 2,
       "version_minor": 0
      },
      "text/plain": [
       "SelectMultiple(description='taste like', index=(0, 1, 2, 3, 4, 5, 6, 7, 8, 9, 10, 11, 12, 13, 14, 15, 16, 17, …"
      ]
     },
     "metadata": {},
     "output_type": "display_data"
    }
   ],
   "source": [
    "taste_like_widget = widgets.SelectMultiple(\n",
    "    options=taste_like_stringarray,\n",
    "    value=taste_like_stringarray,\n",
    "    rows=10,\n",
    "    description='taste like',\n",
    "    disabled=False\n",
    ")\n",
    "taste_like_widget"
   ]
  },
  {
   "cell_type": "code",
   "execution_count": 80,
   "metadata": {
    "slideshow": {
     "slide_type": "skip"
    }
   },
   "outputs": [
    {
     "data": {
      "text/plain": [
       "67"
      ]
     },
     "execution_count": 80,
     "metadata": {},
     "output_type": "execute_result"
    }
   ],
   "source": [
    "len(taste_like_stringarray)"
   ]
  },
  {
   "cell_type": "code",
   "execution_count": 81,
   "metadata": {
    "slideshow": {
     "slide_type": "skip"
    }
   },
   "outputs": [],
   "source": [
    "import ipywidgets as widgets\n",
    "from ipywidgets import interact, interact_manual\n",
    "import warnings\n",
    "warnings.filterwarnings('ignore')"
   ]
  },
  {
   "cell_type": "code",
   "execution_count": 82,
   "metadata": {
    "slideshow": {
     "slide_type": "skip"
    }
   },
   "outputs": [],
   "source": [
    "def show_articles_more_than(a=aroma_widget, b=acidity_or_structure_widget,c=body_widget,d=aftertaste_widget,\\\n",
    "     e=flavor_widget,f=price_widget,g=taste_like_widget, sort_by='coffee_score', columns=df_columns_widget):\n",
    "    df = cleaned_df.copy()\n",
    "\n",
    "    df = df.loc[df['aroma']<=max(a)]\n",
    "    df = df.loc[df['aroma']>=min(a)]\n",
    "\n",
    "    df = df.loc[df['acidity_or_structure']<=max(b)]\n",
    "    df = df.loc[df['acidity_or_structure']>=min(b)]\n",
    "\n",
    "    df = df.loc[df['body']<=max(c)]\n",
    "    df = df.loc[df['body']>=min(c)]\n",
    "\n",
    "    df = df.loc[df['aftertaste']<=max(d)]\n",
    "    df = df.loc[df['aftertaste']>=min(d)]\n",
    "\n",
    "    df = df.loc[df['flavor']<=max(e)]\n",
    "    df = df.loc[df['flavor']>=min(e)]\n",
    "    \n",
    "    df = df.loc[df['estimate_price_USD_per_6ounces']<=max(f)]\n",
    "    df = df.loc[df['estimate_price_USD_per_6ounces']>=min(f)]\n",
    "\n",
    "    cleaned_df[\"taste_like_number\"] = cleaned_df[\"taste_like\"].map(lambda x: [word for word in x if word in g])\n",
    "    cleaned_df[\"taste_like_number\"] = cleaned_df[\"taste_like_number\"].map(lambda x: len(x))\n",
    "    df = df.loc[df['taste_like_number']==len(g)]\n",
    "\n",
    "    df = df.sort_values(sort_by,ascending=False)\n",
    "    columns = list(columns)\n",
    "    #columns = ['coffee_score','coffee_bean_name','roast_level','estimate_price_USD_per_6ounces','taste_like']\n",
    "    return df[columns]"
   ]
  },
  {
   "cell_type": "markdown",
   "metadata": {
    "slideshow": {
     "slide_type": "slide"
    }
   },
   "source": [
    "<div style=\"color:white;\n",
    "           display:fill;\n",
    "           border-radius:5px;\n",
    "           background-color:#5642C5;\n",
    "           font-size:200%;\n",
    "           font-family:Arial;letter-spacing:0.5px\">\n",
    "\n",
    "<p width = 20%, style=\"padding: 10px;\n",
    "              color:white;\">\n",
    "Application\n",
    "</p>\n",
    "</div>"
   ]
  },
  {
   "cell_type": "code",
   "execution_count": 83,
   "metadata": {
    "scrolled": false,
    "slideshow": {
     "slide_type": "subslide"
    }
   },
   "outputs": [
    {
     "data": {
      "application/vnd.jupyter.widget-view+json": {
       "model_id": "f2cd98e87ef84bafad34d75d5ce487c9",
       "version_major": 2,
       "version_minor": 0
      },
      "text/plain": [
       "interactive(children=(IntRangeSlider(value=(7, 10), continuous_update=False, description='aroma:', max=10, min…"
      ]
     },
     "metadata": {},
     "output_type": "display_data"
    }
   ],
   "source": [
    "interact(show_articles_more_than,a=aroma_widget, b=acidity_or_structure_widget,c=body_widget,\\\n",
    "         d=aftertaste_widget,e=flavor_widget,f=price_widget,g=taste_like_widget, sort_by='coffee_score', columns=df_columns_widget);"
   ]
  },
  {
   "cell_type": "markdown",
   "metadata": {
    "slideshow": {
     "slide_type": "skip"
    }
   },
   "source": [
    "# Step 7: Optimize and Strategize<a class=\"anchor\" id=\"Optimize-and-Strategize\"></a>"
   ]
  },
  {
   "cell_type": "markdown",
   "metadata": {
    "slideshow": {
     "slide_type": "slide"
    }
   },
   "source": [
    "<div style=\"color:white;\n",
    "           display:fill;\n",
    "           border-radius:5px;\n",
    "           background-color:#5642C5;\n",
    "           font-size:200%;\n",
    "           font-family:Arial;letter-spacing:0.5px\">\n",
    "\n",
    "<p width = 20%, style=\"padding: 10px;\n",
    "              color:white;\">\n",
    "Conclusion\n",
    "</p>\n",
    "</div>\n"
   ]
  },
  {
   "cell_type": "markdown",
   "metadata": {
    "slideshow": {
     "slide_type": "fragment"
    }
   },
   "source": [
    "Finally, a few things were not considered when building the engine and they should deserve some attention:<br>\n",
    "<li>\n",
    "The washing technique and roaster location of the coffee was not checked. In fact, this could be important to affect coffee quality.<br>\n",
    "<li>\n",
    "another point concerns the replacement of the keywords. In some cases, it was shown that the flavor had a different meaning than the original word(green tea flavor breaks down to green and tea flavor). Only 67 flavors were defined.<br>\n",
    "<li>\n",
    "The gap between review date and roasted date. The longer the coffee sits inside the package, the quality becomes wost.<br>\n",
    "\n",
    "Next step would be creating a SVD model to let people rate the coffee bean and genarate a new recommandation base on the score."
   ]
  }
 ],
 "metadata": {
  "celltoolbar": "Slideshow",
  "kernelspec": {
   "display_name": "Python 3.8.5 ('learn-env')",
   "language": "python",
   "name": "python3"
  },
  "language_info": {
   "codemirror_mode": {
    "name": "ipython",
    "version": 3
   },
   "file_extension": ".py",
   "mimetype": "text/x-python",
   "name": "python",
   "nbconvert_exporter": "python",
   "pygments_lexer": "ipython3",
   "version": "3.8.5"
  },
  "vscode": {
   "interpreter": {
    "hash": "2700375e02ad74d7fa19bf39b9bbaacee623ff18e8d83a1c706494d7922e527a"
   }
  }
 },
 "nbformat": 4,
 "nbformat_minor": 4
}
